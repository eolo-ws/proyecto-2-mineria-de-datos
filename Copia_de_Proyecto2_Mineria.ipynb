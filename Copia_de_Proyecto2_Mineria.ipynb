{
  "cells": [
    {
      "cell_type": "markdown",
      "metadata": {
        "id": "Hesxw6kOK8qb"
      },
      "source": [
        "# Minería de Datos - Proyecto 2 #\n",
        "\n",
        "## Integrantes:\n",
        "\n",
        "- **Integrante 1**: Sebastián Dahma\n",
        "- **Integrante 2**: Javier Montes\n",
        "- **Integrante 3**: Camila Retamales"
      ]
    },
    {
      "cell_type": "markdown",
      "metadata": {
        "id": "euCY99BkjDw6"
      },
      "source": [
        "Importamos las liberias necesarias:"
      ]
    },
    {
      "cell_type": "code",
      "execution_count": null,
      "metadata": {
        "id": "65eee4ea"
      },
      "outputs": [],
      "source": [
        "import numpy as np\n",
        "import pandas as pd\n",
        "from plotnine import *\n",
        "from sklearn.model_selection import train_test_split\n",
        "from sklearn.linear_model import LogisticRegression\n",
        "from sympy import Matrix\n",
        "import matplotlib.pyplot as plt\n",
        "from sklearn.model_selection import KFold\n",
        "from sklearn.naive_bayes import GaussianNB\n",
        "from sklearn.tree import DecisionTreeClassifier\n",
        "import statistics\n",
        "import statsmodels.api as sm \n",
        "from sklearn.metrics import (confusion_matrix, accuracy_score, precision_score)\n",
        "import seaborn as sns\n",
        "from sklearn import datasets\n",
        "import plotly.graph_objects as go\n",
        "from sklearn.metrics import roc_curve\n",
        "from sklearn import metrics as mt\n",
        "from sklearn.metrics import roc_auc_score"
      ]
    },
    {
      "cell_type": "code",
      "execution_count": null,
      "metadata": {
        "id": "kc54m218K8qd"
      },
      "outputs": [],
      "source": [
        "vuelos = pd.read_csv(\"ALUMNOS-trainData.csv\")"
      ]
    },
    {
      "cell_type": "markdown",
      "metadata": {
        "id": "ktCxESf11q8-"
      },
      "source": [
        "# Análisis Exploratorio"
      ]
    },
    {
      "cell_type": "code",
      "execution_count": null,
      "metadata": {
        "colab": {
          "base_uri": "https://localhost:8080/",
          "height": 404
        },
        "id": "dW1o1fh0EpHO",
        "outputId": "07745278-1ec7-4f54-f4ef-1f2c12d72f6e"
      },
      "outputs": [
        {
          "data": {
            "text/html": [
              "\n",
              "  <div id=\"df-c09d3e60-2045-4a97-a9ae-e87878708f12\">\n",
              "    <div class=\"colab-df-container\">\n",
              "      <div>\n",
              "<style scoped>\n",
              "    .dataframe tbody tr th:only-of-type {\n",
              "        vertical-align: middle;\n",
              "    }\n",
              "\n",
              "    .dataframe tbody tr th {\n",
              "        vertical-align: top;\n",
              "    }\n",
              "\n",
              "    .dataframe thead th {\n",
              "        text-align: right;\n",
              "    }\n",
              "</style>\n",
              "<table border=\"1\" class=\"dataframe\">\n",
              "  <thead>\n",
              "    <tr style=\"text-align: right;\">\n",
              "      <th></th>\n",
              "      <th>Unnamed: 0</th>\n",
              "      <th>date</th>\n",
              "      <th>fligth_number</th>\n",
              "      <th>origin</th>\n",
              "      <th>destination</th>\n",
              "      <th>distance</th>\n",
              "      <th>noshow</th>\n",
              "      <th>denied_boarding</th>\n",
              "      <th>pax_midlow</th>\n",
              "      <th>pax_high</th>\n",
              "      <th>...</th>\n",
              "      <th>pax_freqflyer</th>\n",
              "      <th>group_bookings</th>\n",
              "      <th>out_of_stock</th>\n",
              "      <th>dom_cnx</th>\n",
              "      <th>int_cnx</th>\n",
              "      <th>p2p</th>\n",
              "      <th>departure_time</th>\n",
              "      <th>capacity</th>\n",
              "      <th>revenues_usd</th>\n",
              "      <th>bookings</th>\n",
              "    </tr>\n",
              "  </thead>\n",
              "  <tbody>\n",
              "    <tr>\n",
              "      <th>0</th>\n",
              "      <td>389083</td>\n",
              "      <td>2009-11-09</td>\n",
              "      <td>8995</td>\n",
              "      <td>BBA</td>\n",
              "      <td>SCL</td>\n",
              "      <td>1394</td>\n",
              "      <td>9.0</td>\n",
              "      <td>0</td>\n",
              "      <td>94</td>\n",
              "      <td>2</td>\n",
              "      <td>...</td>\n",
              "      <td>22</td>\n",
              "      <td>19</td>\n",
              "      <td>0</td>\n",
              "      <td>1</td>\n",
              "      <td>0</td>\n",
              "      <td>239</td>\n",
              "      <td>10:30:00</td>\n",
              "      <td>174.0</td>\n",
              "      <td>10631.1</td>\n",
              "      <td>240</td>\n",
              "    </tr>\n",
              "    <tr>\n",
              "      <th>1</th>\n",
              "      <td>177073</td>\n",
              "      <td>2009-05-23</td>\n",
              "      <td>7061</td>\n",
              "      <td>LIM</td>\n",
              "      <td>TRU</td>\n",
              "      <td>489</td>\n",
              "      <td>0.0</td>\n",
              "      <td>0</td>\n",
              "      <td>100</td>\n",
              "      <td>4</td>\n",
              "      <td>...</td>\n",
              "      <td>25</td>\n",
              "      <td>0</td>\n",
              "      <td>0</td>\n",
              "      <td>19</td>\n",
              "      <td>9</td>\n",
              "      <td>192</td>\n",
              "      <td>19:20:00</td>\n",
              "      <td>174.0</td>\n",
              "      <td>5453.7</td>\n",
              "      <td>220</td>\n",
              "    </tr>\n",
              "    <tr>\n",
              "      <th>2</th>\n",
              "      <td>1040357</td>\n",
              "      <td>2011-05-09</td>\n",
              "      <td>8972</td>\n",
              "      <td>SCL</td>\n",
              "      <td>PUQ</td>\n",
              "      <td>2180</td>\n",
              "      <td>4.0</td>\n",
              "      <td>0</td>\n",
              "      <td>7</td>\n",
              "      <td>1</td>\n",
              "      <td>...</td>\n",
              "      <td>2</td>\n",
              "      <td>0</td>\n",
              "      <td>0</td>\n",
              "      <td>0</td>\n",
              "      <td>10</td>\n",
              "      <td>69</td>\n",
              "      <td>09:54:00</td>\n",
              "      <td>218.0</td>\n",
              "      <td>16161.0</td>\n",
              "      <td>79</td>\n",
              "    </tr>\n",
              "    <tr>\n",
              "      <th>3</th>\n",
              "      <td>505258</td>\n",
              "      <td>2010-02-12</td>\n",
              "      <td>6039</td>\n",
              "      <td>CGH</td>\n",
              "      <td>CNF</td>\n",
              "      <td>524</td>\n",
              "      <td>13.0</td>\n",
              "      <td>0</td>\n",
              "      <td>54</td>\n",
              "      <td>4</td>\n",
              "      <td>...</td>\n",
              "      <td>4</td>\n",
              "      <td>0</td>\n",
              "      <td>0</td>\n",
              "      <td>26</td>\n",
              "      <td>0</td>\n",
              "      <td>64</td>\n",
              "      <td>21:00:00</td>\n",
              "      <td>174.0</td>\n",
              "      <td>10828.7</td>\n",
              "      <td>90</td>\n",
              "    </tr>\n",
              "    <tr>\n",
              "      <th>4</th>\n",
              "      <td>369663</td>\n",
              "      <td>2009-10-24</td>\n",
              "      <td>7713</td>\n",
              "      <td>GPS</td>\n",
              "      <td>GYE</td>\n",
              "      <td>1170</td>\n",
              "      <td>14.0</td>\n",
              "      <td>0</td>\n",
              "      <td>21</td>\n",
              "      <td>88</td>\n",
              "      <td>...</td>\n",
              "      <td>0</td>\n",
              "      <td>88</td>\n",
              "      <td>1</td>\n",
              "      <td>23</td>\n",
              "      <td>3</td>\n",
              "      <td>183</td>\n",
              "      <td>12:40:00</td>\n",
              "      <td>144.0</td>\n",
              "      <td>16721.6</td>\n",
              "      <td>209</td>\n",
              "    </tr>\n",
              "  </tbody>\n",
              "</table>\n",
              "<p>5 rows × 22 columns</p>\n",
              "</div>\n",
              "      <button class=\"colab-df-convert\" onclick=\"convertToInteractive('df-c09d3e60-2045-4a97-a9ae-e87878708f12')\"\n",
              "              title=\"Convert this dataframe to an interactive table.\"\n",
              "              style=\"display:none;\">\n",
              "        \n",
              "  <svg xmlns=\"http://www.w3.org/2000/svg\" height=\"24px\"viewBox=\"0 0 24 24\"\n",
              "       width=\"24px\">\n",
              "    <path d=\"M0 0h24v24H0V0z\" fill=\"none\"/>\n",
              "    <path d=\"M18.56 5.44l.94 2.06.94-2.06 2.06-.94-2.06-.94-.94-2.06-.94 2.06-2.06.94zm-11 1L8.5 8.5l.94-2.06 2.06-.94-2.06-.94L8.5 2.5l-.94 2.06-2.06.94zm10 10l.94 2.06.94-2.06 2.06-.94-2.06-.94-.94-2.06-.94 2.06-2.06.94z\"/><path d=\"M17.41 7.96l-1.37-1.37c-.4-.4-.92-.59-1.43-.59-.52 0-1.04.2-1.43.59L10.3 9.45l-7.72 7.72c-.78.78-.78 2.05 0 2.83L4 21.41c.39.39.9.59 1.41.59.51 0 1.02-.2 1.41-.59l7.78-7.78 2.81-2.81c.8-.78.8-2.07 0-2.86zM5.41 20L4 18.59l7.72-7.72 1.47 1.35L5.41 20z\"/>\n",
              "  </svg>\n",
              "      </button>\n",
              "      \n",
              "  <style>\n",
              "    .colab-df-container {\n",
              "      display:flex;\n",
              "      flex-wrap:wrap;\n",
              "      gap: 12px;\n",
              "    }\n",
              "\n",
              "    .colab-df-convert {\n",
              "      background-color: #E8F0FE;\n",
              "      border: none;\n",
              "      border-radius: 50%;\n",
              "      cursor: pointer;\n",
              "      display: none;\n",
              "      fill: #1967D2;\n",
              "      height: 32px;\n",
              "      padding: 0 0 0 0;\n",
              "      width: 32px;\n",
              "    }\n",
              "\n",
              "    .colab-df-convert:hover {\n",
              "      background-color: #E2EBFA;\n",
              "      box-shadow: 0px 1px 2px rgba(60, 64, 67, 0.3), 0px 1px 3px 1px rgba(60, 64, 67, 0.15);\n",
              "      fill: #174EA6;\n",
              "    }\n",
              "\n",
              "    [theme=dark] .colab-df-convert {\n",
              "      background-color: #3B4455;\n",
              "      fill: #D2E3FC;\n",
              "    }\n",
              "\n",
              "    [theme=dark] .colab-df-convert:hover {\n",
              "      background-color: #434B5C;\n",
              "      box-shadow: 0px 1px 3px 1px rgba(0, 0, 0, 0.15);\n",
              "      filter: drop-shadow(0px 1px 2px rgba(0, 0, 0, 0.3));\n",
              "      fill: #FFFFFF;\n",
              "    }\n",
              "  </style>\n",
              "\n",
              "      <script>\n",
              "        const buttonEl =\n",
              "          document.querySelector('#df-c09d3e60-2045-4a97-a9ae-e87878708f12 button.colab-df-convert');\n",
              "        buttonEl.style.display =\n",
              "          google.colab.kernel.accessAllowed ? 'block' : 'none';\n",
              "\n",
              "        async function convertToInteractive(key) {\n",
              "          const element = document.querySelector('#df-c09d3e60-2045-4a97-a9ae-e87878708f12');\n",
              "          const dataTable =\n",
              "            await google.colab.kernel.invokeFunction('convertToInteractive',\n",
              "                                                     [key], {});\n",
              "          if (!dataTable) return;\n",
              "\n",
              "          const docLinkHtml = 'Like what you see? Visit the ' +\n",
              "            '<a target=\"_blank\" href=https://colab.research.google.com/notebooks/data_table.ipynb>data table notebook</a>'\n",
              "            + ' to learn more about interactive tables.';\n",
              "          element.innerHTML = '';\n",
              "          dataTable['output_type'] = 'display_data';\n",
              "          await google.colab.output.renderOutput(dataTable, element);\n",
              "          const docLink = document.createElement('div');\n",
              "          docLink.innerHTML = docLinkHtml;\n",
              "          element.appendChild(docLink);\n",
              "        }\n",
              "      </script>\n",
              "    </div>\n",
              "  </div>\n",
              "  "
            ],
            "text/plain": [
              "   Unnamed: 0        date  fligth_number origin destination  distance  noshow  \\\n",
              "0      389083  2009-11-09           8995    BBA         SCL      1394     9.0   \n",
              "1      177073  2009-05-23           7061    LIM         TRU       489     0.0   \n",
              "2     1040357  2011-05-09           8972    SCL         PUQ      2180     4.0   \n",
              "3      505258  2010-02-12           6039    CGH         CNF       524    13.0   \n",
              "4      369663  2009-10-24           7713    GPS         GYE      1170    14.0   \n",
              "\n",
              "   denied_boarding  pax_midlow  pax_high  ...  pax_freqflyer  group_bookings  \\\n",
              "0                0          94         2  ...             22              19   \n",
              "1                0         100         4  ...             25               0   \n",
              "2                0           7         1  ...              2               0   \n",
              "3                0          54         4  ...              4               0   \n",
              "4                0          21        88  ...              0              88   \n",
              "\n",
              "   out_of_stock  dom_cnx  int_cnx  p2p  departure_time  capacity revenues_usd  \\\n",
              "0             0        1        0  239        10:30:00     174.0      10631.1   \n",
              "1             0       19        9  192        19:20:00     174.0       5453.7   \n",
              "2             0        0       10   69        09:54:00     218.0      16161.0   \n",
              "3             0       26        0   64        21:00:00     174.0      10828.7   \n",
              "4             1       23        3  183        12:40:00     144.0      16721.6   \n",
              "\n",
              "   bookings  \n",
              "0       240  \n",
              "1       220  \n",
              "2        79  \n",
              "3        90  \n",
              "4       209  \n",
              "\n",
              "[5 rows x 22 columns]"
            ]
          },
          "execution_count": 156,
          "metadata": {},
          "output_type": "execute_result"
        }
      ],
      "source": [
        "vuelos.head()"
      ]
    },
    {
      "cell_type": "code",
      "execution_count": null,
      "metadata": {
        "colab": {
          "base_uri": "https://localhost:8080/"
        },
        "id": "hcM6YR18kKDY",
        "outputId": "409978c9-3034-4d6d-86f5-780c3639e590"
      },
      "outputs": [
        {
          "name": "stdout",
          "output_type": "stream",
          "text": [
            "<class 'pandas.core.frame.DataFrame'>\n",
            "RangeIndex: 999890 entries, 0 to 999889\n",
            "Data columns (total 22 columns):\n",
            " #   Column           Non-Null Count   Dtype  \n",
            "---  ------           --------------   -----  \n",
            " 0   Unnamed: 0       999890 non-null  int64  \n",
            " 1   date             999890 non-null  object \n",
            " 2   fligth_number    999890 non-null  int64  \n",
            " 3   origin           999890 non-null  object \n",
            " 4   destination      999890 non-null  object \n",
            " 5   distance         999890 non-null  int64  \n",
            " 6   noshow           999890 non-null  float64\n",
            " 7   denied_boarding  999890 non-null  int64  \n",
            " 8   pax_midlow       999890 non-null  int64  \n",
            " 9   pax_high         999890 non-null  int64  \n",
            " 10  pax_midhigh      999890 non-null  int64  \n",
            " 11  pax_low          999890 non-null  int64  \n",
            " 12  pax_freqflyer    999890 non-null  int64  \n",
            " 13  group_bookings   999890 non-null  int64  \n",
            " 14  out_of_stock     999890 non-null  int64  \n",
            " 15  dom_cnx          999890 non-null  int64  \n",
            " 16  int_cnx          999890 non-null  int64  \n",
            " 17  p2p              999890 non-null  int64  \n",
            " 18  departure_time   998472 non-null  object \n",
            " 19  capacity         999890 non-null  float64\n",
            " 20  revenues_usd     999890 non-null  float64\n",
            " 21  bookings         999890 non-null  int64  \n",
            "dtypes: float64(3), int64(15), object(4)\n",
            "memory usage: 167.8+ MB\n"
          ]
        }
      ],
      "source": [
        "vuelos.info()"
      ]
    },
    {
      "cell_type": "code",
      "execution_count": null,
      "metadata": {
        "colab": {
          "base_uri": "https://localhost:8080/",
          "height": 382
        },
        "id": "58xt3evrkuvg",
        "outputId": "1049326f-acac-4e44-a15a-36ac1318a86b"
      },
      "outputs": [
        {
          "data": {
            "text/html": [
              "\n",
              "  <div id=\"df-2e7025ce-7c90-49f9-b467-261f609d03ac\">\n",
              "    <div class=\"colab-df-container\">\n",
              "      <div>\n",
              "<style scoped>\n",
              "    .dataframe tbody tr th:only-of-type {\n",
              "        vertical-align: middle;\n",
              "    }\n",
              "\n",
              "    .dataframe tbody tr th {\n",
              "        vertical-align: top;\n",
              "    }\n",
              "\n",
              "    .dataframe thead th {\n",
              "        text-align: right;\n",
              "    }\n",
              "</style>\n",
              "<table border=\"1\" class=\"dataframe\">\n",
              "  <thead>\n",
              "    <tr style=\"text-align: right;\">\n",
              "      <th></th>\n",
              "      <th>Unnamed: 0</th>\n",
              "      <th>fligth_number</th>\n",
              "      <th>distance</th>\n",
              "      <th>noshow</th>\n",
              "      <th>denied_boarding</th>\n",
              "      <th>pax_midlow</th>\n",
              "      <th>pax_high</th>\n",
              "      <th>pax_midhigh</th>\n",
              "      <th>pax_low</th>\n",
              "      <th>pax_freqflyer</th>\n",
              "      <th>group_bookings</th>\n",
              "      <th>out_of_stock</th>\n",
              "      <th>dom_cnx</th>\n",
              "      <th>int_cnx</th>\n",
              "      <th>p2p</th>\n",
              "      <th>capacity</th>\n",
              "      <th>revenues_usd</th>\n",
              "      <th>bookings</th>\n",
              "    </tr>\n",
              "  </thead>\n",
              "  <tbody>\n",
              "    <tr>\n",
              "      <th>count</th>\n",
              "      <td>9.998900e+05</td>\n",
              "      <td>999890.000000</td>\n",
              "      <td>999890.000000</td>\n",
              "      <td>999890.000000</td>\n",
              "      <td>999890.000000</td>\n",
              "      <td>999890.000000</td>\n",
              "      <td>999890.000000</td>\n",
              "      <td>999890.000000</td>\n",
              "      <td>999890.000000</td>\n",
              "      <td>999890.000000</td>\n",
              "      <td>999890.000000</td>\n",
              "      <td>999890.000000</td>\n",
              "      <td>999890.000000</td>\n",
              "      <td>999890.000000</td>\n",
              "      <td>999890.000000</td>\n",
              "      <td>999890.000000</td>\n",
              "      <td>999890.000000</td>\n",
              "      <td>999890.000000</td>\n",
              "    </tr>\n",
              "    <tr>\n",
              "      <th>mean</th>\n",
              "      <td>6.437117e+05</td>\n",
              "      <td>6109.040617</td>\n",
              "      <td>1460.807626</td>\n",
              "      <td>6.015652</td>\n",
              "      <td>0.047562</td>\n",
              "      <td>75.511888</td>\n",
              "      <td>3.807810</td>\n",
              "      <td>6.319296</td>\n",
              "      <td>57.196575</td>\n",
              "      <td>16.799812</td>\n",
              "      <td>3.828728</td>\n",
              "      <td>0.096229</td>\n",
              "      <td>25.843207</td>\n",
              "      <td>26.704754</td>\n",
              "      <td>107.087421</td>\n",
              "      <td>178.056881</td>\n",
              "      <td>14835.065830</td>\n",
              "      <td>159.635381</td>\n",
              "    </tr>\n",
              "    <tr>\n",
              "      <th>std</th>\n",
              "      <td>3.882423e+05</td>\n",
              "      <td>2050.756991</td>\n",
              "      <td>1684.524581</td>\n",
              "      <td>5.112598</td>\n",
              "      <td>0.547164</td>\n",
              "      <td>44.567873</td>\n",
              "      <td>7.251316</td>\n",
              "      <td>10.265596</td>\n",
              "      <td>38.396829</td>\n",
              "      <td>13.836448</td>\n",
              "      <td>12.298684</td>\n",
              "      <td>0.294905</td>\n",
              "      <td>32.263753</td>\n",
              "      <td>43.958445</td>\n",
              "      <td>65.523106</td>\n",
              "      <td>32.694811</td>\n",
              "      <td>17962.712041</td>\n",
              "      <td>68.627746</td>\n",
              "    </tr>\n",
              "    <tr>\n",
              "      <th>min</th>\n",
              "      <td>0.000000e+00</td>\n",
              "      <td>10.000000</td>\n",
              "      <td>14.000000</td>\n",
              "      <td>0.000000</td>\n",
              "      <td>0.000000</td>\n",
              "      <td>0.000000</td>\n",
              "      <td>0.000000</td>\n",
              "      <td>0.000000</td>\n",
              "      <td>0.000000</td>\n",
              "      <td>0.000000</td>\n",
              "      <td>0.000000</td>\n",
              "      <td>0.000000</td>\n",
              "      <td>0.000000</td>\n",
              "      <td>0.000000</td>\n",
              "      <td>0.000000</td>\n",
              "      <td>53.000000</td>\n",
              "      <td>-77206.900000</td>\n",
              "      <td>1.000000</td>\n",
              "    </tr>\n",
              "    <tr>\n",
              "      <th>25%</th>\n",
              "      <td>3.116712e+05</td>\n",
              "      <td>5381.000000</td>\n",
              "      <td>538.000000</td>\n",
              "      <td>3.000000</td>\n",
              "      <td>0.000000</td>\n",
              "      <td>46.000000</td>\n",
              "      <td>0.000000</td>\n",
              "      <td>0.000000</td>\n",
              "      <td>29.000000</td>\n",
              "      <td>7.000000</td>\n",
              "      <td>0.000000</td>\n",
              "      <td>0.000000</td>\n",
              "      <td>0.000000</td>\n",
              "      <td>0.000000</td>\n",
              "      <td>59.000000</td>\n",
              "      <td>150.000000</td>\n",
              "      <td>6286.300000</td>\n",
              "      <td>110.000000</td>\n",
              "    </tr>\n",
              "    <tr>\n",
              "      <th>50%</th>\n",
              "      <td>6.241540e+05</td>\n",
              "      <td>6036.000000</td>\n",
              "      <td>916.000000</td>\n",
              "      <td>5.000000</td>\n",
              "      <td>0.000000</td>\n",
              "      <td>77.000000</td>\n",
              "      <td>1.000000</td>\n",
              "      <td>3.000000</td>\n",
              "      <td>55.000000</td>\n",
              "      <td>14.000000</td>\n",
              "      <td>0.000000</td>\n",
              "      <td>0.000000</td>\n",
              "      <td>12.000000</td>\n",
              "      <td>5.000000</td>\n",
              "      <td>99.000000</td>\n",
              "      <td>174.000000</td>\n",
              "      <td>9692.400000</td>\n",
              "      <td>151.000000</td>\n",
              "    </tr>\n",
              "    <tr>\n",
              "      <th>75%</th>\n",
              "      <td>9.456625e+05</td>\n",
              "      <td>7190.000000</td>\n",
              "      <td>1672.000000</td>\n",
              "      <td>8.000000</td>\n",
              "      <td>0.000000</td>\n",
              "      <td>104.000000</td>\n",
              "      <td>4.000000</td>\n",
              "      <td>8.000000</td>\n",
              "      <td>82.000000</td>\n",
              "      <td>23.000000</td>\n",
              "      <td>0.000000</td>\n",
              "      <td>0.000000</td>\n",
              "      <td>42.000000</td>\n",
              "      <td>31.000000</td>\n",
              "      <td>147.000000</td>\n",
              "      <td>174.000000</td>\n",
              "      <td>15731.600000</td>\n",
              "      <td>200.000000</td>\n",
              "    </tr>\n",
              "    <tr>\n",
              "      <th>max</th>\n",
              "      <td>1.350331e+06</td>\n",
              "      <td>9264.000000</td>\n",
              "      <td>11380.000000</td>\n",
              "      <td>271.000000</td>\n",
              "      <td>53.000000</td>\n",
              "      <td>344.000000</td>\n",
              "      <td>195.000000</td>\n",
              "      <td>230.000000</td>\n",
              "      <td>296.000000</td>\n",
              "      <td>236.000000</td>\n",
              "      <td>240.000000</td>\n",
              "      <td>1.000000</td>\n",
              "      <td>262.000000</td>\n",
              "      <td>357.000000</td>\n",
              "      <td>564.000000</td>\n",
              "      <td>451.000000</td>\n",
              "      <td>335775.400000</td>\n",
              "      <td>608.000000</td>\n",
              "    </tr>\n",
              "  </tbody>\n",
              "</table>\n",
              "</div>\n",
              "      <button class=\"colab-df-convert\" onclick=\"convertToInteractive('df-2e7025ce-7c90-49f9-b467-261f609d03ac')\"\n",
              "              title=\"Convert this dataframe to an interactive table.\"\n",
              "              style=\"display:none;\">\n",
              "        \n",
              "  <svg xmlns=\"http://www.w3.org/2000/svg\" height=\"24px\"viewBox=\"0 0 24 24\"\n",
              "       width=\"24px\">\n",
              "    <path d=\"M0 0h24v24H0V0z\" fill=\"none\"/>\n",
              "    <path d=\"M18.56 5.44l.94 2.06.94-2.06 2.06-.94-2.06-.94-.94-2.06-.94 2.06-2.06.94zm-11 1L8.5 8.5l.94-2.06 2.06-.94-2.06-.94L8.5 2.5l-.94 2.06-2.06.94zm10 10l.94 2.06.94-2.06 2.06-.94-2.06-.94-.94-2.06-.94 2.06-2.06.94z\"/><path d=\"M17.41 7.96l-1.37-1.37c-.4-.4-.92-.59-1.43-.59-.52 0-1.04.2-1.43.59L10.3 9.45l-7.72 7.72c-.78.78-.78 2.05 0 2.83L4 21.41c.39.39.9.59 1.41.59.51 0 1.02-.2 1.41-.59l7.78-7.78 2.81-2.81c.8-.78.8-2.07 0-2.86zM5.41 20L4 18.59l7.72-7.72 1.47 1.35L5.41 20z\"/>\n",
              "  </svg>\n",
              "      </button>\n",
              "      \n",
              "  <style>\n",
              "    .colab-df-container {\n",
              "      display:flex;\n",
              "      flex-wrap:wrap;\n",
              "      gap: 12px;\n",
              "    }\n",
              "\n",
              "    .colab-df-convert {\n",
              "      background-color: #E8F0FE;\n",
              "      border: none;\n",
              "      border-radius: 50%;\n",
              "      cursor: pointer;\n",
              "      display: none;\n",
              "      fill: #1967D2;\n",
              "      height: 32px;\n",
              "      padding: 0 0 0 0;\n",
              "      width: 32px;\n",
              "    }\n",
              "\n",
              "    .colab-df-convert:hover {\n",
              "      background-color: #E2EBFA;\n",
              "      box-shadow: 0px 1px 2px rgba(60, 64, 67, 0.3), 0px 1px 3px 1px rgba(60, 64, 67, 0.15);\n",
              "      fill: #174EA6;\n",
              "    }\n",
              "\n",
              "    [theme=dark] .colab-df-convert {\n",
              "      background-color: #3B4455;\n",
              "      fill: #D2E3FC;\n",
              "    }\n",
              "\n",
              "    [theme=dark] .colab-df-convert:hover {\n",
              "      background-color: #434B5C;\n",
              "      box-shadow: 0px 1px 3px 1px rgba(0, 0, 0, 0.15);\n",
              "      filter: drop-shadow(0px 1px 2px rgba(0, 0, 0, 0.3));\n",
              "      fill: #FFFFFF;\n",
              "    }\n",
              "  </style>\n",
              "\n",
              "      <script>\n",
              "        const buttonEl =\n",
              "          document.querySelector('#df-2e7025ce-7c90-49f9-b467-261f609d03ac button.colab-df-convert');\n",
              "        buttonEl.style.display =\n",
              "          google.colab.kernel.accessAllowed ? 'block' : 'none';\n",
              "\n",
              "        async function convertToInteractive(key) {\n",
              "          const element = document.querySelector('#df-2e7025ce-7c90-49f9-b467-261f609d03ac');\n",
              "          const dataTable =\n",
              "            await google.colab.kernel.invokeFunction('convertToInteractive',\n",
              "                                                     [key], {});\n",
              "          if (!dataTable) return;\n",
              "\n",
              "          const docLinkHtml = 'Like what you see? Visit the ' +\n",
              "            '<a target=\"_blank\" href=https://colab.research.google.com/notebooks/data_table.ipynb>data table notebook</a>'\n",
              "            + ' to learn more about interactive tables.';\n",
              "          element.innerHTML = '';\n",
              "          dataTable['output_type'] = 'display_data';\n",
              "          await google.colab.output.renderOutput(dataTable, element);\n",
              "          const docLink = document.createElement('div');\n",
              "          docLink.innerHTML = docLinkHtml;\n",
              "          element.appendChild(docLink);\n",
              "        }\n",
              "      </script>\n",
              "    </div>\n",
              "  </div>\n",
              "  "
            ],
            "text/plain": [
              "         Unnamed: 0  fligth_number       distance         noshow  \\\n",
              "count  9.998900e+05  999890.000000  999890.000000  999890.000000   \n",
              "mean   6.437117e+05    6109.040617    1460.807626       6.015652   \n",
              "std    3.882423e+05    2050.756991    1684.524581       5.112598   \n",
              "min    0.000000e+00      10.000000      14.000000       0.000000   \n",
              "25%    3.116712e+05    5381.000000     538.000000       3.000000   \n",
              "50%    6.241540e+05    6036.000000     916.000000       5.000000   \n",
              "75%    9.456625e+05    7190.000000    1672.000000       8.000000   \n",
              "max    1.350331e+06    9264.000000   11380.000000     271.000000   \n",
              "\n",
              "       denied_boarding     pax_midlow       pax_high    pax_midhigh  \\\n",
              "count    999890.000000  999890.000000  999890.000000  999890.000000   \n",
              "mean          0.047562      75.511888       3.807810       6.319296   \n",
              "std           0.547164      44.567873       7.251316      10.265596   \n",
              "min           0.000000       0.000000       0.000000       0.000000   \n",
              "25%           0.000000      46.000000       0.000000       0.000000   \n",
              "50%           0.000000      77.000000       1.000000       3.000000   \n",
              "75%           0.000000     104.000000       4.000000       8.000000   \n",
              "max          53.000000     344.000000     195.000000     230.000000   \n",
              "\n",
              "             pax_low  pax_freqflyer  group_bookings   out_of_stock  \\\n",
              "count  999890.000000  999890.000000   999890.000000  999890.000000   \n",
              "mean       57.196575      16.799812        3.828728       0.096229   \n",
              "std        38.396829      13.836448       12.298684       0.294905   \n",
              "min         0.000000       0.000000        0.000000       0.000000   \n",
              "25%        29.000000       7.000000        0.000000       0.000000   \n",
              "50%        55.000000      14.000000        0.000000       0.000000   \n",
              "75%        82.000000      23.000000        0.000000       0.000000   \n",
              "max       296.000000     236.000000      240.000000       1.000000   \n",
              "\n",
              "             dom_cnx        int_cnx            p2p       capacity  \\\n",
              "count  999890.000000  999890.000000  999890.000000  999890.000000   \n",
              "mean       25.843207      26.704754     107.087421     178.056881   \n",
              "std        32.263753      43.958445      65.523106      32.694811   \n",
              "min         0.000000       0.000000       0.000000      53.000000   \n",
              "25%         0.000000       0.000000      59.000000     150.000000   \n",
              "50%        12.000000       5.000000      99.000000     174.000000   \n",
              "75%        42.000000      31.000000     147.000000     174.000000   \n",
              "max       262.000000     357.000000     564.000000     451.000000   \n",
              "\n",
              "        revenues_usd       bookings  \n",
              "count  999890.000000  999890.000000  \n",
              "mean    14835.065830     159.635381  \n",
              "std     17962.712041      68.627746  \n",
              "min    -77206.900000       1.000000  \n",
              "25%      6286.300000     110.000000  \n",
              "50%      9692.400000     151.000000  \n",
              "75%     15731.600000     200.000000  \n",
              "max    335775.400000     608.000000  "
            ]
          },
          "metadata": {},
          "output_type": "display_data"
        },
        {
          "data": {
            "text/plain": [
              "(8, 18)"
            ]
          },
          "execution_count": 158,
          "metadata": {},
          "output_type": "execute_result"
        }
      ],
      "source": [
        "display(vuelos.describe())\n",
        "vuelos.describe().shape"
      ]
    },
    {
      "cell_type": "code",
      "execution_count": null,
      "metadata": {
        "colab": {
          "base_uri": "https://localhost:8080/",
          "height": 1000
        },
        "id": "YvZxVFuED9cJ",
        "outputId": "25c6b9a4-d3cc-4bd0-f3b0-bbe66e896b30"
      },
      "outputs": [
        {
          "name": "stdout",
          "output_type": "stream",
          "text": [
            "Unnamed: 0\n"
          ]
        },
        {
          "data": {
            "text/plain": [
              "count    9.998900e+05\n",
              "mean     6.437117e+05\n",
              "std      3.882423e+05\n",
              "min      0.000000e+00\n",
              "25%      3.116712e+05\n",
              "50%      6.241540e+05\n",
              "75%      9.456625e+05\n",
              "max      1.350331e+06\n",
              "Name: Unnamed: 0, dtype: float64"
            ]
          },
          "metadata": {},
          "output_type": "display_data"
        },
        {
          "name": "stdout",
          "output_type": "stream",
          "text": [
            "\n",
            "\n",
            "date\n"
          ]
        },
        {
          "data": {
            "text/plain": [
              "count         999890\n",
              "unique          1073\n",
              "top       2009-01-05\n",
              "freq            1172\n",
              "Name: date, dtype: object"
            ]
          },
          "metadata": {},
          "output_type": "display_data"
        },
        {
          "name": "stdout",
          "output_type": "stream",
          "text": [
            "\n",
            "\n",
            "fligth_number\n"
          ]
        },
        {
          "data": {
            "text/plain": [
              "count    999890.000000\n",
              "mean       6109.040617\n",
              "std        2050.756991\n",
              "min          10.000000\n",
              "25%        5381.000000\n",
              "50%        6036.000000\n",
              "75%        7190.000000\n",
              "max        9264.000000\n",
              "Name: fligth_number, dtype: float64"
            ]
          },
          "metadata": {},
          "output_type": "display_data"
        },
        {
          "name": "stdout",
          "output_type": "stream",
          "text": [
            "\n",
            "\n",
            "origin\n"
          ]
        },
        {
          "data": {
            "text/plain": [
              "count     999890\n",
              "unique       155\n",
              "top          SCL\n",
              "freq       94126\n",
              "Name: origin, dtype: object"
            ]
          },
          "metadata": {},
          "output_type": "display_data"
        },
        {
          "name": "stdout",
          "output_type": "stream",
          "text": [
            "\n",
            "\n",
            "destination\n"
          ]
        },
        {
          "data": {
            "text/plain": [
              "count     999890\n",
              "unique       159\n",
              "top          SCL\n",
              "freq       94628\n",
              "Name: destination, dtype: object"
            ]
          },
          "metadata": {},
          "output_type": "display_data"
        },
        {
          "name": "stdout",
          "output_type": "stream",
          "text": [
            "\n",
            "\n",
            "distance\n"
          ]
        },
        {
          "data": {
            "text/plain": [
              "count    999890.000000\n",
              "mean       1460.807626\n",
              "std        1684.524581\n",
              "min          14.000000\n",
              "25%         538.000000\n",
              "50%         916.000000\n",
              "75%        1672.000000\n",
              "max       11380.000000\n",
              "Name: distance, dtype: float64"
            ]
          },
          "metadata": {},
          "output_type": "display_data"
        },
        {
          "name": "stdout",
          "output_type": "stream",
          "text": [
            "\n",
            "\n",
            "noshow\n"
          ]
        },
        {
          "data": {
            "text/plain": [
              "count    999890.000000\n",
              "mean          6.015652\n",
              "std           5.112598\n",
              "min           0.000000\n",
              "25%           3.000000\n",
              "50%           5.000000\n",
              "75%           8.000000\n",
              "max         271.000000\n",
              "Name: noshow, dtype: float64"
            ]
          },
          "metadata": {},
          "output_type": "display_data"
        },
        {
          "name": "stdout",
          "output_type": "stream",
          "text": [
            "\n",
            "\n",
            "denied_boarding\n"
          ]
        },
        {
          "data": {
            "text/plain": [
              "count    999890.000000\n",
              "mean          0.047562\n",
              "std           0.547164\n",
              "min           0.000000\n",
              "25%           0.000000\n",
              "50%           0.000000\n",
              "75%           0.000000\n",
              "max          53.000000\n",
              "Name: denied_boarding, dtype: float64"
            ]
          },
          "metadata": {},
          "output_type": "display_data"
        },
        {
          "name": "stdout",
          "output_type": "stream",
          "text": [
            "\n",
            "\n",
            "pax_midlow\n"
          ]
        },
        {
          "data": {
            "text/plain": [
              "count    999890.000000\n",
              "mean         75.511888\n",
              "std          44.567873\n",
              "min           0.000000\n",
              "25%          46.000000\n",
              "50%          77.000000\n",
              "75%         104.000000\n",
              "max         344.000000\n",
              "Name: pax_midlow, dtype: float64"
            ]
          },
          "metadata": {},
          "output_type": "display_data"
        },
        {
          "name": "stdout",
          "output_type": "stream",
          "text": [
            "\n",
            "\n",
            "pax_high\n"
          ]
        },
        {
          "data": {
            "text/plain": [
              "count    999890.000000\n",
              "mean          3.807810\n",
              "std           7.251316\n",
              "min           0.000000\n",
              "25%           0.000000\n",
              "50%           1.000000\n",
              "75%           4.000000\n",
              "max         195.000000\n",
              "Name: pax_high, dtype: float64"
            ]
          },
          "metadata": {},
          "output_type": "display_data"
        },
        {
          "name": "stdout",
          "output_type": "stream",
          "text": [
            "\n",
            "\n",
            "pax_midhigh\n"
          ]
        },
        {
          "data": {
            "text/plain": [
              "count    999890.000000\n",
              "mean          6.319296\n",
              "std          10.265596\n",
              "min           0.000000\n",
              "25%           0.000000\n",
              "50%           3.000000\n",
              "75%           8.000000\n",
              "max         230.000000\n",
              "Name: pax_midhigh, dtype: float64"
            ]
          },
          "metadata": {},
          "output_type": "display_data"
        },
        {
          "name": "stdout",
          "output_type": "stream",
          "text": [
            "\n",
            "\n",
            "pax_low\n"
          ]
        },
        {
          "data": {
            "text/plain": [
              "count    999890.000000\n",
              "mean         57.196575\n",
              "std          38.396829\n",
              "min           0.000000\n",
              "25%          29.000000\n",
              "50%          55.000000\n",
              "75%          82.000000\n",
              "max         296.000000\n",
              "Name: pax_low, dtype: float64"
            ]
          },
          "metadata": {},
          "output_type": "display_data"
        },
        {
          "name": "stdout",
          "output_type": "stream",
          "text": [
            "\n",
            "\n",
            "pax_freqflyer\n"
          ]
        },
        {
          "data": {
            "text/plain": [
              "count    999890.000000\n",
              "mean         16.799812\n",
              "std          13.836448\n",
              "min           0.000000\n",
              "25%           7.000000\n",
              "50%          14.000000\n",
              "75%          23.000000\n",
              "max         236.000000\n",
              "Name: pax_freqflyer, dtype: float64"
            ]
          },
          "metadata": {},
          "output_type": "display_data"
        },
        {
          "name": "stdout",
          "output_type": "stream",
          "text": [
            "\n",
            "\n",
            "group_bookings\n"
          ]
        },
        {
          "data": {
            "text/plain": [
              "count    999890.000000\n",
              "mean          3.828728\n",
              "std          12.298684\n",
              "min           0.000000\n",
              "25%           0.000000\n",
              "50%           0.000000\n",
              "75%           0.000000\n",
              "max         240.000000\n",
              "Name: group_bookings, dtype: float64"
            ]
          },
          "metadata": {},
          "output_type": "display_data"
        },
        {
          "name": "stdout",
          "output_type": "stream",
          "text": [
            "\n",
            "\n",
            "out_of_stock\n"
          ]
        },
        {
          "data": {
            "text/plain": [
              "count    999890.000000\n",
              "mean          0.096229\n",
              "std           0.294905\n",
              "min           0.000000\n",
              "25%           0.000000\n",
              "50%           0.000000\n",
              "75%           0.000000\n",
              "max           1.000000\n",
              "Name: out_of_stock, dtype: float64"
            ]
          },
          "metadata": {},
          "output_type": "display_data"
        },
        {
          "name": "stdout",
          "output_type": "stream",
          "text": [
            "\n",
            "\n",
            "dom_cnx\n"
          ]
        },
        {
          "data": {
            "text/plain": [
              "count    999890.000000\n",
              "mean         25.843207\n",
              "std          32.263753\n",
              "min           0.000000\n",
              "25%           0.000000\n",
              "50%          12.000000\n",
              "75%          42.000000\n",
              "max         262.000000\n",
              "Name: dom_cnx, dtype: float64"
            ]
          },
          "metadata": {},
          "output_type": "display_data"
        },
        {
          "name": "stdout",
          "output_type": "stream",
          "text": [
            "\n",
            "\n",
            "int_cnx\n"
          ]
        },
        {
          "data": {
            "text/plain": [
              "count    999890.000000\n",
              "mean         26.704754\n",
              "std          43.958445\n",
              "min           0.000000\n",
              "25%           0.000000\n",
              "50%           5.000000\n",
              "75%          31.000000\n",
              "max         357.000000\n",
              "Name: int_cnx, dtype: float64"
            ]
          },
          "metadata": {},
          "output_type": "display_data"
        },
        {
          "name": "stdout",
          "output_type": "stream",
          "text": [
            "\n",
            "\n",
            "p2p\n"
          ]
        },
        {
          "data": {
            "text/plain": [
              "count    999890.000000\n",
              "mean        107.087421\n",
              "std          65.523106\n",
              "min           0.000000\n",
              "25%          59.000000\n",
              "50%          99.000000\n",
              "75%         147.000000\n",
              "max         564.000000\n",
              "Name: p2p, dtype: float64"
            ]
          },
          "metadata": {},
          "output_type": "display_data"
        },
        {
          "name": "stdout",
          "output_type": "stream",
          "text": [
            "\n",
            "\n",
            "departure_time\n"
          ]
        },
        {
          "data": {
            "text/plain": [
              "count       998472\n",
              "unique        1438\n",
              "top       17:30:00\n",
              "freq          5976\n",
              "Name: departure_time, dtype: object"
            ]
          },
          "metadata": {},
          "output_type": "display_data"
        },
        {
          "name": "stdout",
          "output_type": "stream",
          "text": [
            "\n",
            "\n",
            "capacity\n"
          ]
        },
        {
          "data": {
            "text/plain": [
              "count    999890.000000\n",
              "mean        178.056881\n",
              "std          32.694811\n",
              "min          53.000000\n",
              "25%         150.000000\n",
              "50%         174.000000\n",
              "75%         174.000000\n",
              "max         451.000000\n",
              "Name: capacity, dtype: float64"
            ]
          },
          "metadata": {},
          "output_type": "display_data"
        },
        {
          "name": "stdout",
          "output_type": "stream",
          "text": [
            "\n",
            "\n",
            "revenues_usd\n"
          ]
        },
        {
          "data": {
            "text/plain": [
              "count    999890.000000\n",
              "mean      14835.065830\n",
              "std       17962.712041\n",
              "min      -77206.900000\n",
              "25%        6286.300000\n",
              "50%        9692.400000\n",
              "75%       15731.600000\n",
              "max      335775.400000\n",
              "Name: revenues_usd, dtype: float64"
            ]
          },
          "metadata": {},
          "output_type": "display_data"
        },
        {
          "name": "stdout",
          "output_type": "stream",
          "text": [
            "\n",
            "\n",
            "bookings\n"
          ]
        },
        {
          "data": {
            "text/plain": [
              "count    999890.000000\n",
              "mean        159.635381\n",
              "std          68.627746\n",
              "min           1.000000\n",
              "25%         110.000000\n",
              "50%         151.000000\n",
              "75%         200.000000\n",
              "max         608.000000\n",
              "Name: bookings, dtype: float64"
            ]
          },
          "metadata": {},
          "output_type": "display_data"
        },
        {
          "name": "stdout",
          "output_type": "stream",
          "text": [
            "\n",
            "\n"
          ]
        }
      ],
      "source": [
        "for i in vuelos.columns:\n",
        "    print(i)\n",
        "    display(vuelos[i].describe())\n",
        "    print(\"\")\n",
        "    print(\"\")"
      ]
    },
    {
      "cell_type": "code",
      "execution_count": null,
      "metadata": {
        "colab": {
          "base_uri": "https://localhost:8080/"
        },
        "id": "5G97YM_qNYca",
        "outputId": "193d0ccc-69b7-4c16-f002-b8c4de13177e"
      },
      "outputs": [
        {
          "name": "stdout",
          "output_type": "stream",
          "text": [
            "(999890, 22)\n",
            "Unnamed: 0            0\n",
            "date                  0\n",
            "fligth_number         0\n",
            "origin                0\n",
            "destination           0\n",
            "distance              0\n",
            "noshow                0\n",
            "denied_boarding       0\n",
            "pax_midlow            0\n",
            "pax_high              0\n",
            "pax_midhigh           0\n",
            "pax_low               0\n",
            "pax_freqflyer         0\n",
            "group_bookings        0\n",
            "out_of_stock          0\n",
            "dom_cnx               0\n",
            "int_cnx               0\n",
            "p2p                   0\n",
            "departure_time     1418\n",
            "capacity              0\n",
            "revenues_usd          0\n",
            "bookings              0\n",
            "dtype: int64\n"
          ]
        }
      ],
      "source": [
        "print(vuelos.shape)\n",
        "print(vuelos.isnull().sum()) #Vemos si  hay valores nulos en las columnas"
      ]
    },
    {
      "cell_type": "code",
      "execution_count": null,
      "metadata": {
        "colab": {
          "base_uri": "https://localhost:8080/"
        },
        "id": "7sh5lpdADQW1",
        "outputId": "63dd2d4c-6ea3-497a-cef1-636bd2bf651c"
      },
      "outputs": [
        {
          "name": "stdout",
          "output_type": "stream",
          "text": [
            "(998472, 22)\n"
          ]
        }
      ],
      "source": [
        "vuelos=vuelos.dropna() #Eliminar los datos nutos\n",
        "print(vuelos.shape)"
      ]
    },
    {
      "cell_type": "code",
      "execution_count": null,
      "metadata": {
        "colab": {
          "base_uri": "https://localhost:8080/"
        },
        "id": "l3KZ6seRqx6S",
        "outputId": "1e2c46cd-352f-464c-b3e9-e239fe963fc2"
      },
      "outputs": [
        {
          "name": "stderr",
          "output_type": "stream",
          "text": [
            "/usr/local/lib/python3.7/dist-packages/pandas/core/indexing.py:1684: SettingWithCopyWarning:\n",
            "\n",
            "\n",
            "A value is trying to be set on a copy of a slice from a DataFrame.\n",
            "Try using .loc[row_indexer,col_indexer] = value instead\n",
            "\n",
            "See the caveats in the documentation: https://pandas.pydata.org/pandas-docs/stable/user_guide/indexing.html#returning-a-view-versus-a-copy\n",
            "\n",
            "/usr/local/lib/python3.7/dist-packages/pandas/core/indexing.py:1817: SettingWithCopyWarning:\n",
            "\n",
            "\n",
            "A value is trying to be set on a copy of a slice from a DataFrame.\n",
            "Try using .loc[row_indexer,col_indexer] = value instead\n",
            "\n",
            "See the caveats in the documentation: https://pandas.pydata.org/pandas-docs/stable/user_guide/indexing.html#returning-a-view-versus-a-copy\n",
            "\n"
          ]
        }
      ],
      "source": [
        "vuelos.loc[vuelos.noshow >= 4, 'no_show'] = 1\n",
        "vuelos.loc[vuelos.noshow < 4, 'no_show'] = 0\n",
        "vuelos = vuelos.drop(['noshow'], axis = 1)"
      ]
    },
    {
      "cell_type": "markdown",
      "metadata": {
        "id": "ykRCsEp1K8qc"
      },
      "source": [
        "# Limpieza de Datos (1.0 pto)\n"
      ]
    },
    {
      "cell_type": "markdown",
      "metadata": {
        "id": "cS_IwPySRKEI"
      },
      "source": [
        "Como podemos ver, en ambas bases de datos solo existen valores nulos en la variable \"departure_time\" la cual es la hora programada para el despegue.\n",
        "\n",
        "Nosotros no utilizaremos esta variable por lo que al eliminar esta columna ya no existirán más datos nulos que nos interfieran con el trabajo.\n",
        "Ya que estamos eliminando esta variable, aprovecharemos de eliminar todas las variables que no necesitemos para este proyecto, a continuación explicaremos las que quitaremos y las que dejaremos:\n"
      ]
    },
    {
      "cell_type": "markdown",
      "metadata": {
        "id": "0e8rxd0VHXoJ"
      },
      "source": [
        "\n",
        "\n",
        "*   date: Esta variable se elimina. porque la fecha del vuelo no sirve para poder predecir cuantas personas no se presentarán en la puerta de embarque.\n",
        "*   departure_time: Esta variable se elimina. Porque no sabemos si la hora programada es la hora local del origen, la hora de una zona horario o la hora GMT (hora estandar)\n",
        "*   capacity: Esta variable se elimina. No se necesita saber cuantos asientos disponibles tiene el avion de un vuelo ya que no influencia en si alguien se presenta o no en la puerta de embarque.\n",
        "*   revenues_usd: Esta variable se elimina. Saber los ingresos del vuelo no es factor que influya que los pasajeros lleguen a la puerta de entrada.\n",
        "*   bookings: Esta variable estará en el modelo. Porque sirve para poder saber cuantas personas reservaron en el vuelo.\n",
        "*   flight_number: Esta variable se elimina. No influye en nuestro modelo saber el número de vuelo.\n",
        "*   origin: Esta variable se elimina. Afecta nuestro modelo, porque la ciudad puede afectar que pasajeros no lleguen a la puerte de embarque. Pero debido que es una variable categorica, se hace demasiado difícil trabajarla.\n",
        "*   destination: Esta variable se elimina. No tiene relación con que si el pasajero se presento a su vuelo porque no puede haber una complicación a su destino, aparte como los origenes son multiples y no solo uno que podríamos decir que un destino demasiado lejos y por ende caro los pasajeros se presentarán a su vuelo.\n",
        "*   distance: Esta variable estará en el modelo. Influye en la predicción porque si el vuelo es un viaje corto es probable que por algún motivo no pudo llegar a la puerta del vuelo y se puede trasladar en otro medio de transporte, también si la distancia es muy grande la tarifa del pasaje tiende a ser más cara y eso hace que los pasajeros se preocupen más de tomar el vuelo.\n",
        "*   noshow: Esta variable estará en el modelo. Es la principal variable que sirve para poder entrenar el modelo, porque nos dice la verdad sobre los pasajeros que no llegaron a su puerta de embarque.\n",
        "*   denied_boarding: Se borra ya que es irrelevante, no tiene nada que ver con si se presentó alguien o no; esto es algo que ocurre post a lo que queremos saber.\n",
        "*   pax_high: Esta variable estará en el modelo. Es un factor importante la tarifa que se compra porque a las tarifas más altas te dan posibilidades de cambiar el pasaje para otra fecha en caso de imprevisto y las más bajas hacen que los pasajeros tengan mayor preocupación de abordar su vuelo porque perderán su dinero. Aparte si se compra la más alta el pasajero tiene más recursos economicos para poder comprar otro pasaje en caso de que ocurra una emergencia.\n",
        "*   pax_midhigh: Esta variable estará en el modelo. Es un factor importante la tarifa que se compra porque a las tarifas más altas te dan posibilidades de cambiar el pasaje para otra fecha en caso de imprevisto y las más bajas hacen que los pasajeros tengan mayor preocupación de abordar su vuelo porque perderán su dinero.\n",
        "*   pax_midlow: Esta variable estará en el modelo. Es un factor importante la tarifa que se compra porque a las tarifas más altas te dan posibilidades de cambiar el pasaje para otra fecha en caso de imprevisto y las más bajas hacen que los pasajeros tengan mayor preocupación de abordar su vuelo porque perderán su dinero.\n",
        "*   pax_low: Esta variable estará en el modelo. Es un factor importante la tarifa que se compra porque a las tarifas más altas te dan posibilidades de cambiar el pasaje para otra fecha en caso de imprevisto y las más bajas hacen que los pasajeros tengan mayor preocupación de abordar su vuelo porque perderán su dinero.\n",
        "*   pax_freqflyer: Esta variable estará en el modelo. Es un factor importante porque canjear las millas siempre vienen con tarifas rigidas que no le dan derecho a los pasajeros para cambiar el vuelo, lo que los obliga a tener que presentarse al vuelo.\n",
        "*   group_bookings: Esta variable estará en el modelo. Es de interés para nuestro modelo porque si los pasajeros viajan en un grupo turistico, el guía turistico se preocupa de que los pasajeros se presenten al vuelo y en caso que tengan problemas para llegar tienen contacto con las aerolinea para poder hacer que esperen al grupo. \n",
        "*   out_of_stock: Esta variable se elimina. No afecta saber la historia del vuelo por no completar la capacidad de las ventas del vuelo para que nuestro modelo pueda predecir cuantos pasajero no se presentaron para el embarque.\n",
        "*   dom_cnx: Esta variable estará en el modelo. Es de interés para nuestro modelo porque el pasajero viene de otro vuelo y esto puede generar una causa que el pasajero no se pueda presentar para el vuelo porque si puede haber atrasado el vuelo anterior o que el tiempo de conexión es muy corto y no alcanzo a presentarse.\n",
        "*   int_cnx: Esta variable estará en el modelo. Es de interés para nuestro modelo porque el pasajero viene de otro vuelo y esto puede generar una causa que el pasajero no se pueda presentar para el vuelo porque si puede haber atrasado el vuelo anterior o que el tiempo de conexión es muy corto y no alcanzo a presentarse.\n",
        "*   p2p: Esta variable estará en el modelo. Es de interés para nuestro modelo porque son todos los pasajeros que parten del origen y llegan directamente a destino."
      ]
    },
    {
      "cell_type": "code",
      "execution_count": null,
      "metadata": {
        "colab": {
          "base_uri": "https://localhost:8080/",
          "height": 314
        },
        "id": "lxthfBUYOaUX",
        "outputId": "e681a370-e077-46f1-ac7a-23d01e6b6d66"
      },
      "outputs": [
        {
          "name": "stderr",
          "output_type": "stream",
          "text": [
            "/usr/local/lib/python3.7/dist-packages/ipykernel_launcher.py:3: SettingWithCopyWarning:\n",
            "\n",
            "\n",
            "A value is trying to be set on a copy of a slice from a DataFrame.\n",
            "Try using .loc[row_indexer,col_indexer] = value instead\n",
            "\n",
            "See the caveats in the documentation: https://pandas.pydata.org/pandas-docs/stable/user_guide/indexing.html#returning-a-view-versus-a-copy\n",
            "\n"
          ]
        },
        {
          "data": {
            "text/html": [
              "\n",
              "  <div id=\"df-27e9d734-23e4-4059-a6be-25317e9fd566\">\n",
              "    <div class=\"colab-df-container\">\n",
              "      <div>\n",
              "<style scoped>\n",
              "    .dataframe tbody tr th:only-of-type {\n",
              "        vertical-align: middle;\n",
              "    }\n",
              "\n",
              "    .dataframe tbody tr th {\n",
              "        vertical-align: top;\n",
              "    }\n",
              "\n",
              "    .dataframe thead th {\n",
              "        text-align: right;\n",
              "    }\n",
              "</style>\n",
              "<table border=\"1\" class=\"dataframe\">\n",
              "  <thead>\n",
              "    <tr style=\"text-align: right;\">\n",
              "      <th></th>\n",
              "      <th>Unnamed: 0</th>\n",
              "      <th>bookings</th>\n",
              "      <th>suma</th>\n",
              "    </tr>\n",
              "  </thead>\n",
              "  <tbody>\n",
              "    <tr>\n",
              "      <th>0</th>\n",
              "      <td>389083</td>\n",
              "      <td>240</td>\n",
              "      <td>240</td>\n",
              "    </tr>\n",
              "    <tr>\n",
              "      <th>1</th>\n",
              "      <td>177073</td>\n",
              "      <td>220</td>\n",
              "      <td>220</td>\n",
              "    </tr>\n",
              "    <tr>\n",
              "      <th>2</th>\n",
              "      <td>1040357</td>\n",
              "      <td>79</td>\n",
              "      <td>79</td>\n",
              "    </tr>\n",
              "    <tr>\n",
              "      <th>3</th>\n",
              "      <td>505258</td>\n",
              "      <td>90</td>\n",
              "      <td>90</td>\n",
              "    </tr>\n",
              "  </tbody>\n",
              "</table>\n",
              "</div>\n",
              "      <button class=\"colab-df-convert\" onclick=\"convertToInteractive('df-27e9d734-23e4-4059-a6be-25317e9fd566')\"\n",
              "              title=\"Convert this dataframe to an interactive table.\"\n",
              "              style=\"display:none;\">\n",
              "        \n",
              "  <svg xmlns=\"http://www.w3.org/2000/svg\" height=\"24px\"viewBox=\"0 0 24 24\"\n",
              "       width=\"24px\">\n",
              "    <path d=\"M0 0h24v24H0V0z\" fill=\"none\"/>\n",
              "    <path d=\"M18.56 5.44l.94 2.06.94-2.06 2.06-.94-2.06-.94-.94-2.06-.94 2.06-2.06.94zm-11 1L8.5 8.5l.94-2.06 2.06-.94-2.06-.94L8.5 2.5l-.94 2.06-2.06.94zm10 10l.94 2.06.94-2.06 2.06-.94-2.06-.94-.94-2.06-.94 2.06-2.06.94z\"/><path d=\"M17.41 7.96l-1.37-1.37c-.4-.4-.92-.59-1.43-.59-.52 0-1.04.2-1.43.59L10.3 9.45l-7.72 7.72c-.78.78-.78 2.05 0 2.83L4 21.41c.39.39.9.59 1.41.59.51 0 1.02-.2 1.41-.59l7.78-7.78 2.81-2.81c.8-.78.8-2.07 0-2.86zM5.41 20L4 18.59l7.72-7.72 1.47 1.35L5.41 20z\"/>\n",
              "  </svg>\n",
              "      </button>\n",
              "      \n",
              "  <style>\n",
              "    .colab-df-container {\n",
              "      display:flex;\n",
              "      flex-wrap:wrap;\n",
              "      gap: 12px;\n",
              "    }\n",
              "\n",
              "    .colab-df-convert {\n",
              "      background-color: #E8F0FE;\n",
              "      border: none;\n",
              "      border-radius: 50%;\n",
              "      cursor: pointer;\n",
              "      display: none;\n",
              "      fill: #1967D2;\n",
              "      height: 32px;\n",
              "      padding: 0 0 0 0;\n",
              "      width: 32px;\n",
              "    }\n",
              "\n",
              "    .colab-df-convert:hover {\n",
              "      background-color: #E2EBFA;\n",
              "      box-shadow: 0px 1px 2px rgba(60, 64, 67, 0.3), 0px 1px 3px 1px rgba(60, 64, 67, 0.15);\n",
              "      fill: #174EA6;\n",
              "    }\n",
              "\n",
              "    [theme=dark] .colab-df-convert {\n",
              "      background-color: #3B4455;\n",
              "      fill: #D2E3FC;\n",
              "    }\n",
              "\n",
              "    [theme=dark] .colab-df-convert:hover {\n",
              "      background-color: #434B5C;\n",
              "      box-shadow: 0px 1px 3px 1px rgba(0, 0, 0, 0.15);\n",
              "      filter: drop-shadow(0px 1px 2px rgba(0, 0, 0, 0.3));\n",
              "      fill: #FFFFFF;\n",
              "    }\n",
              "  </style>\n",
              "\n",
              "      <script>\n",
              "        const buttonEl =\n",
              "          document.querySelector('#df-27e9d734-23e4-4059-a6be-25317e9fd566 button.colab-df-convert');\n",
              "        buttonEl.style.display =\n",
              "          google.colab.kernel.accessAllowed ? 'block' : 'none';\n",
              "\n",
              "        async function convertToInteractive(key) {\n",
              "          const element = document.querySelector('#df-27e9d734-23e4-4059-a6be-25317e9fd566');\n",
              "          const dataTable =\n",
              "            await google.colab.kernel.invokeFunction('convertToInteractive',\n",
              "                                                     [key], {});\n",
              "          if (!dataTable) return;\n",
              "\n",
              "          const docLinkHtml = 'Like what you see? Visit the ' +\n",
              "            '<a target=\"_blank\" href=https://colab.research.google.com/notebooks/data_table.ipynb>data table notebook</a>'\n",
              "            + ' to learn more about interactive tables.';\n",
              "          element.innerHTML = '';\n",
              "          dataTable['output_type'] = 'display_data';\n",
              "          await google.colab.output.renderOutput(dataTable, element);\n",
              "          const docLink = document.createElement('div');\n",
              "          docLink.innerHTML = docLinkHtml;\n",
              "          element.appendChild(docLink);\n",
              "        }\n",
              "      </script>\n",
              "    </div>\n",
              "  </div>\n",
              "  "
            ],
            "text/plain": [
              "   Unnamed: 0  bookings  suma\n",
              "0      389083       240   240\n",
              "1      177073       220   220\n",
              "2     1040357        79    79\n",
              "3      505258        90    90"
            ]
          },
          "execution_count": 163,
          "metadata": {},
          "output_type": "execute_result"
        }
      ],
      "source": [
        "# Analizamos si la suma de todas los pasajeros de las tarifas es igual al número de reservas para ver si están correctos los datos.\n",
        "Analisis1 = vuelos[[\"Unnamed: 0\",\"bookings\"]]\n",
        "Analisis1[\"suma\"] = vuelos[\"pax_high\"] + vuelos[\"pax_midhigh\"] + vuelos[\"pax_midlow\"] + vuelos[\"pax_low\"] + vuelos[\"pax_freqflyer\"]\n",
        "Analisis1.head(4)"
      ]
    },
    {
      "cell_type": "code",
      "execution_count": null,
      "metadata": {
        "colab": {
          "base_uri": "https://localhost:8080/"
        },
        "id": "w0Mz3XMgOlI1",
        "outputId": "ad0e57da-8a6b-4c69-92f2-ece9f46f8bee"
      },
      "outputs": [
        {
          "name": "stdout",
          "output_type": "stream",
          "text": [
            "Hay un total de: 998472 coincidencias\n"
          ]
        }
      ],
      "source": [
        "count = 0\n",
        "for i in range(Analisis1.shape[0]):\n",
        "    if (Analisis1[\"bookings\"].iloc[i] != Analisis1[\"suma\"].iloc[i]):\n",
        "        print(Analisis1[\"bookings\"].iloc[i])\n",
        "    else: \n",
        "        count += 1\n",
        "print(\"Hay un total de:\", count, \"coincidencias\")"
      ]
    },
    {
      "cell_type": "code",
      "execution_count": null,
      "metadata": {
        "colab": {
          "base_uri": "https://localhost:8080/",
          "height": 314
        },
        "id": "PmAbUVSVPT1V",
        "outputId": "f56b9a13-9e79-4a4b-8799-4fb236f2c916"
      },
      "outputs": [
        {
          "name": "stderr",
          "output_type": "stream",
          "text": [
            "/usr/local/lib/python3.7/dist-packages/ipykernel_launcher.py:3: SettingWithCopyWarning:\n",
            "\n",
            "\n",
            "A value is trying to be set on a copy of a slice from a DataFrame.\n",
            "Try using .loc[row_indexer,col_indexer] = value instead\n",
            "\n",
            "See the caveats in the documentation: https://pandas.pydata.org/pandas-docs/stable/user_guide/indexing.html#returning-a-view-versus-a-copy\n",
            "\n"
          ]
        },
        {
          "data": {
            "text/html": [
              "\n",
              "  <div id=\"df-cd49ea8b-aae8-4568-badc-59887fb956f5\">\n",
              "    <div class=\"colab-df-container\">\n",
              "      <div>\n",
              "<style scoped>\n",
              "    .dataframe tbody tr th:only-of-type {\n",
              "        vertical-align: middle;\n",
              "    }\n",
              "\n",
              "    .dataframe tbody tr th {\n",
              "        vertical-align: top;\n",
              "    }\n",
              "\n",
              "    .dataframe thead th {\n",
              "        text-align: right;\n",
              "    }\n",
              "</style>\n",
              "<table border=\"1\" class=\"dataframe\">\n",
              "  <thead>\n",
              "    <tr style=\"text-align: right;\">\n",
              "      <th></th>\n",
              "      <th>Unnamed: 0</th>\n",
              "      <th>bookings</th>\n",
              "      <th>suma</th>\n",
              "    </tr>\n",
              "  </thead>\n",
              "  <tbody>\n",
              "    <tr>\n",
              "      <th>0</th>\n",
              "      <td>389083</td>\n",
              "      <td>240</td>\n",
              "      <td>240</td>\n",
              "    </tr>\n",
              "    <tr>\n",
              "      <th>1</th>\n",
              "      <td>177073</td>\n",
              "      <td>220</td>\n",
              "      <td>220</td>\n",
              "    </tr>\n",
              "    <tr>\n",
              "      <th>2</th>\n",
              "      <td>1040357</td>\n",
              "      <td>79</td>\n",
              "      <td>79</td>\n",
              "    </tr>\n",
              "    <tr>\n",
              "      <th>3</th>\n",
              "      <td>505258</td>\n",
              "      <td>90</td>\n",
              "      <td>90</td>\n",
              "    </tr>\n",
              "  </tbody>\n",
              "</table>\n",
              "</div>\n",
              "      <button class=\"colab-df-convert\" onclick=\"convertToInteractive('df-cd49ea8b-aae8-4568-badc-59887fb956f5')\"\n",
              "              title=\"Convert this dataframe to an interactive table.\"\n",
              "              style=\"display:none;\">\n",
              "        \n",
              "  <svg xmlns=\"http://www.w3.org/2000/svg\" height=\"24px\"viewBox=\"0 0 24 24\"\n",
              "       width=\"24px\">\n",
              "    <path d=\"M0 0h24v24H0V0z\" fill=\"none\"/>\n",
              "    <path d=\"M18.56 5.44l.94 2.06.94-2.06 2.06-.94-2.06-.94-.94-2.06-.94 2.06-2.06.94zm-11 1L8.5 8.5l.94-2.06 2.06-.94-2.06-.94L8.5 2.5l-.94 2.06-2.06.94zm10 10l.94 2.06.94-2.06 2.06-.94-2.06-.94-.94-2.06-.94 2.06-2.06.94z\"/><path d=\"M17.41 7.96l-1.37-1.37c-.4-.4-.92-.59-1.43-.59-.52 0-1.04.2-1.43.59L10.3 9.45l-7.72 7.72c-.78.78-.78 2.05 0 2.83L4 21.41c.39.39.9.59 1.41.59.51 0 1.02-.2 1.41-.59l7.78-7.78 2.81-2.81c.8-.78.8-2.07 0-2.86zM5.41 20L4 18.59l7.72-7.72 1.47 1.35L5.41 20z\"/>\n",
              "  </svg>\n",
              "      </button>\n",
              "      \n",
              "  <style>\n",
              "    .colab-df-container {\n",
              "      display:flex;\n",
              "      flex-wrap:wrap;\n",
              "      gap: 12px;\n",
              "    }\n",
              "\n",
              "    .colab-df-convert {\n",
              "      background-color: #E8F0FE;\n",
              "      border: none;\n",
              "      border-radius: 50%;\n",
              "      cursor: pointer;\n",
              "      display: none;\n",
              "      fill: #1967D2;\n",
              "      height: 32px;\n",
              "      padding: 0 0 0 0;\n",
              "      width: 32px;\n",
              "    }\n",
              "\n",
              "    .colab-df-convert:hover {\n",
              "      background-color: #E2EBFA;\n",
              "      box-shadow: 0px 1px 2px rgba(60, 64, 67, 0.3), 0px 1px 3px 1px rgba(60, 64, 67, 0.15);\n",
              "      fill: #174EA6;\n",
              "    }\n",
              "\n",
              "    [theme=dark] .colab-df-convert {\n",
              "      background-color: #3B4455;\n",
              "      fill: #D2E3FC;\n",
              "    }\n",
              "\n",
              "    [theme=dark] .colab-df-convert:hover {\n",
              "      background-color: #434B5C;\n",
              "      box-shadow: 0px 1px 3px 1px rgba(0, 0, 0, 0.15);\n",
              "      filter: drop-shadow(0px 1px 2px rgba(0, 0, 0, 0.3));\n",
              "      fill: #FFFFFF;\n",
              "    }\n",
              "  </style>\n",
              "\n",
              "      <script>\n",
              "        const buttonEl =\n",
              "          document.querySelector('#df-cd49ea8b-aae8-4568-badc-59887fb956f5 button.colab-df-convert');\n",
              "        buttonEl.style.display =\n",
              "          google.colab.kernel.accessAllowed ? 'block' : 'none';\n",
              "\n",
              "        async function convertToInteractive(key) {\n",
              "          const element = document.querySelector('#df-cd49ea8b-aae8-4568-badc-59887fb956f5');\n",
              "          const dataTable =\n",
              "            await google.colab.kernel.invokeFunction('convertToInteractive',\n",
              "                                                     [key], {});\n",
              "          if (!dataTable) return;\n",
              "\n",
              "          const docLinkHtml = 'Like what you see? Visit the ' +\n",
              "            '<a target=\"_blank\" href=https://colab.research.google.com/notebooks/data_table.ipynb>data table notebook</a>'\n",
              "            + ' to learn more about interactive tables.';\n",
              "          element.innerHTML = '';\n",
              "          dataTable['output_type'] = 'display_data';\n",
              "          await google.colab.output.renderOutput(dataTable, element);\n",
              "          const docLink = document.createElement('div');\n",
              "          docLink.innerHTML = docLinkHtml;\n",
              "          element.appendChild(docLink);\n",
              "        }\n",
              "      </script>\n",
              "    </div>\n",
              "  </div>\n",
              "  "
            ],
            "text/plain": [
              "   Unnamed: 0  bookings  suma\n",
              "0      389083       240   240\n",
              "1      177073       220   220\n",
              "2     1040357        79    79\n",
              "3      505258        90    90"
            ]
          },
          "execution_count": 165,
          "metadata": {},
          "output_type": "execute_result"
        }
      ],
      "source": [
        "# Analizamos si la suma de pasajeros en vuelos de conexiones y directos suman lo mismo que las reservas para ver si están correcto los datos.\n",
        "Analisis2 = vuelos[[\"Unnamed: 0\",\"bookings\"]]\n",
        "Analisis2[\"suma\"] = vuelos[\"dom_cnx\"] + vuelos[\"int_cnx\"] + vuelos[\"p2p\"]\n",
        "Analisis2.head(4)"
      ]
    },
    {
      "cell_type": "code",
      "execution_count": null,
      "metadata": {
        "colab": {
          "base_uri": "https://localhost:8080/"
        },
        "id": "JgWkA0s0PhwS",
        "outputId": "f35ef333-4b29-4882-f80e-816a2e9770c9"
      },
      "outputs": [
        {
          "name": "stdout",
          "output_type": "stream",
          "text": [
            "Hay un total de: 998472 coincidencias\n"
          ]
        }
      ],
      "source": [
        "count = 0\n",
        "for i in range(Analisis2.shape[0]):\n",
        "    if (Analisis2[\"bookings\"].iloc[i] != Analisis2[\"suma\"].iloc[i]):\n",
        "        print(Analisis2[\"bookings\"].iloc[i])\n",
        "    else: \n",
        "        count += 1\n",
        "print(\"Hay un total de:\", count, \"coincidencias\")"
      ]
    },
    {
      "cell_type": "code",
      "execution_count": null,
      "metadata": {
        "id": "KuOTUPiCu3pn"
      },
      "outputs": [],
      "source": [
        "DataModelos = vuelos[[\"bookings\", \"distance\", \"pax_high\", \"pax_midhigh\",\n",
        "                     \"pax_midlow\", \"pax_low\", \"pax_freqflyer\", \"group_bookings\",\n",
        "                    \"dom_cnx\", \"int_cnx\", \"p2p\", \"no_show\"]]"
      ]
    },
    {
      "cell_type": "code",
      "execution_count": null,
      "metadata": {
        "colab": {
          "base_uri": "https://localhost:8080/",
          "height": 424
        },
        "id": "e31UUhiCaXDL",
        "outputId": "819832e5-2884-4847-f48b-95f858000bc6"
      },
      "outputs": [
        {
          "data": {
            "text/html": [
              "\n",
              "  <div id=\"df-c0965518-e235-4a55-9bad-9999fef20ae1\">\n",
              "    <div class=\"colab-df-container\">\n",
              "      <div>\n",
              "<style scoped>\n",
              "    .dataframe tbody tr th:only-of-type {\n",
              "        vertical-align: middle;\n",
              "    }\n",
              "\n",
              "    .dataframe tbody tr th {\n",
              "        vertical-align: top;\n",
              "    }\n",
              "\n",
              "    .dataframe thead th {\n",
              "        text-align: right;\n",
              "    }\n",
              "</style>\n",
              "<table border=\"1\" class=\"dataframe\">\n",
              "  <thead>\n",
              "    <tr style=\"text-align: right;\">\n",
              "      <th></th>\n",
              "      <th>bookings</th>\n",
              "      <th>distance</th>\n",
              "      <th>pax_high</th>\n",
              "      <th>pax_midhigh</th>\n",
              "      <th>pax_midlow</th>\n",
              "      <th>pax_low</th>\n",
              "      <th>pax_freqflyer</th>\n",
              "      <th>group_bookings</th>\n",
              "      <th>dom_cnx</th>\n",
              "      <th>int_cnx</th>\n",
              "      <th>p2p</th>\n",
              "      <th>no_show</th>\n",
              "    </tr>\n",
              "  </thead>\n",
              "  <tbody>\n",
              "    <tr>\n",
              "      <th>0</th>\n",
              "      <td>240</td>\n",
              "      <td>1394</td>\n",
              "      <td>2</td>\n",
              "      <td>28</td>\n",
              "      <td>94</td>\n",
              "      <td>94</td>\n",
              "      <td>22</td>\n",
              "      <td>19</td>\n",
              "      <td>1</td>\n",
              "      <td>0</td>\n",
              "      <td>239</td>\n",
              "      <td>1.0</td>\n",
              "    </tr>\n",
              "    <tr>\n",
              "      <th>1</th>\n",
              "      <td>220</td>\n",
              "      <td>489</td>\n",
              "      <td>4</td>\n",
              "      <td>4</td>\n",
              "      <td>100</td>\n",
              "      <td>87</td>\n",
              "      <td>25</td>\n",
              "      <td>0</td>\n",
              "      <td>19</td>\n",
              "      <td>9</td>\n",
              "      <td>192</td>\n",
              "      <td>0.0</td>\n",
              "    </tr>\n",
              "    <tr>\n",
              "      <th>2</th>\n",
              "      <td>79</td>\n",
              "      <td>2180</td>\n",
              "      <td>1</td>\n",
              "      <td>5</td>\n",
              "      <td>7</td>\n",
              "      <td>64</td>\n",
              "      <td>2</td>\n",
              "      <td>0</td>\n",
              "      <td>0</td>\n",
              "      <td>10</td>\n",
              "      <td>69</td>\n",
              "      <td>1.0</td>\n",
              "    </tr>\n",
              "    <tr>\n",
              "      <th>3</th>\n",
              "      <td>90</td>\n",
              "      <td>524</td>\n",
              "      <td>4</td>\n",
              "      <td>7</td>\n",
              "      <td>54</td>\n",
              "      <td>21</td>\n",
              "      <td>4</td>\n",
              "      <td>0</td>\n",
              "      <td>26</td>\n",
              "      <td>0</td>\n",
              "      <td>64</td>\n",
              "      <td>1.0</td>\n",
              "    </tr>\n",
              "    <tr>\n",
              "      <th>4</th>\n",
              "      <td>209</td>\n",
              "      <td>1170</td>\n",
              "      <td>88</td>\n",
              "      <td>18</td>\n",
              "      <td>21</td>\n",
              "      <td>82</td>\n",
              "      <td>0</td>\n",
              "      <td>88</td>\n",
              "      <td>23</td>\n",
              "      <td>3</td>\n",
              "      <td>183</td>\n",
              "      <td>1.0</td>\n",
              "    </tr>\n",
              "    <tr>\n",
              "      <th>...</th>\n",
              "      <td>...</td>\n",
              "      <td>...</td>\n",
              "      <td>...</td>\n",
              "      <td>...</td>\n",
              "      <td>...</td>\n",
              "      <td>...</td>\n",
              "      <td>...</td>\n",
              "      <td>...</td>\n",
              "      <td>...</td>\n",
              "      <td>...</td>\n",
              "      <td>...</td>\n",
              "      <td>...</td>\n",
              "    </tr>\n",
              "    <tr>\n",
              "      <th>999885</th>\n",
              "      <td>73</td>\n",
              "      <td>552</td>\n",
              "      <td>12</td>\n",
              "      <td>20</td>\n",
              "      <td>25</td>\n",
              "      <td>4</td>\n",
              "      <td>12</td>\n",
              "      <td>0</td>\n",
              "      <td>64</td>\n",
              "      <td>9</td>\n",
              "      <td>0</td>\n",
              "      <td>1.0</td>\n",
              "    </tr>\n",
              "    <tr>\n",
              "      <th>999886</th>\n",
              "      <td>274</td>\n",
              "      <td>3934</td>\n",
              "      <td>3</td>\n",
              "      <td>19</td>\n",
              "      <td>129</td>\n",
              "      <td>121</td>\n",
              "      <td>2</td>\n",
              "      <td>20</td>\n",
              "      <td>0</td>\n",
              "      <td>118</td>\n",
              "      <td>156</td>\n",
              "      <td>1.0</td>\n",
              "    </tr>\n",
              "    <tr>\n",
              "      <th>999887</th>\n",
              "      <td>131</td>\n",
              "      <td>1430</td>\n",
              "      <td>1</td>\n",
              "      <td>0</td>\n",
              "      <td>2</td>\n",
              "      <td>108</td>\n",
              "      <td>20</td>\n",
              "      <td>36</td>\n",
              "      <td>7</td>\n",
              "      <td>0</td>\n",
              "      <td>124</td>\n",
              "      <td>1.0</td>\n",
              "    </tr>\n",
              "    <tr>\n",
              "      <th>999888</th>\n",
              "      <td>134</td>\n",
              "      <td>1091</td>\n",
              "      <td>2</td>\n",
              "      <td>7</td>\n",
              "      <td>67</td>\n",
              "      <td>42</td>\n",
              "      <td>16</td>\n",
              "      <td>0</td>\n",
              "      <td>34</td>\n",
              "      <td>2</td>\n",
              "      <td>98</td>\n",
              "      <td>0.0</td>\n",
              "    </tr>\n",
              "    <tr>\n",
              "      <th>999889</th>\n",
              "      <td>127</td>\n",
              "      <td>283</td>\n",
              "      <td>1</td>\n",
              "      <td>1</td>\n",
              "      <td>72</td>\n",
              "      <td>51</td>\n",
              "      <td>2</td>\n",
              "      <td>0</td>\n",
              "      <td>5</td>\n",
              "      <td>3</td>\n",
              "      <td>119</td>\n",
              "      <td>1.0</td>\n",
              "    </tr>\n",
              "  </tbody>\n",
              "</table>\n",
              "<p>998472 rows × 12 columns</p>\n",
              "</div>\n",
              "      <button class=\"colab-df-convert\" onclick=\"convertToInteractive('df-c0965518-e235-4a55-9bad-9999fef20ae1')\"\n",
              "              title=\"Convert this dataframe to an interactive table.\"\n",
              "              style=\"display:none;\">\n",
              "        \n",
              "  <svg xmlns=\"http://www.w3.org/2000/svg\" height=\"24px\"viewBox=\"0 0 24 24\"\n",
              "       width=\"24px\">\n",
              "    <path d=\"M0 0h24v24H0V0z\" fill=\"none\"/>\n",
              "    <path d=\"M18.56 5.44l.94 2.06.94-2.06 2.06-.94-2.06-.94-.94-2.06-.94 2.06-2.06.94zm-11 1L8.5 8.5l.94-2.06 2.06-.94-2.06-.94L8.5 2.5l-.94 2.06-2.06.94zm10 10l.94 2.06.94-2.06 2.06-.94-2.06-.94-.94-2.06-.94 2.06-2.06.94z\"/><path d=\"M17.41 7.96l-1.37-1.37c-.4-.4-.92-.59-1.43-.59-.52 0-1.04.2-1.43.59L10.3 9.45l-7.72 7.72c-.78.78-.78 2.05 0 2.83L4 21.41c.39.39.9.59 1.41.59.51 0 1.02-.2 1.41-.59l7.78-7.78 2.81-2.81c.8-.78.8-2.07 0-2.86zM5.41 20L4 18.59l7.72-7.72 1.47 1.35L5.41 20z\"/>\n",
              "  </svg>\n",
              "      </button>\n",
              "      \n",
              "  <style>\n",
              "    .colab-df-container {\n",
              "      display:flex;\n",
              "      flex-wrap:wrap;\n",
              "      gap: 12px;\n",
              "    }\n",
              "\n",
              "    .colab-df-convert {\n",
              "      background-color: #E8F0FE;\n",
              "      border: none;\n",
              "      border-radius: 50%;\n",
              "      cursor: pointer;\n",
              "      display: none;\n",
              "      fill: #1967D2;\n",
              "      height: 32px;\n",
              "      padding: 0 0 0 0;\n",
              "      width: 32px;\n",
              "    }\n",
              "\n",
              "    .colab-df-convert:hover {\n",
              "      background-color: #E2EBFA;\n",
              "      box-shadow: 0px 1px 2px rgba(60, 64, 67, 0.3), 0px 1px 3px 1px rgba(60, 64, 67, 0.15);\n",
              "      fill: #174EA6;\n",
              "    }\n",
              "\n",
              "    [theme=dark] .colab-df-convert {\n",
              "      background-color: #3B4455;\n",
              "      fill: #D2E3FC;\n",
              "    }\n",
              "\n",
              "    [theme=dark] .colab-df-convert:hover {\n",
              "      background-color: #434B5C;\n",
              "      box-shadow: 0px 1px 3px 1px rgba(0, 0, 0, 0.15);\n",
              "      filter: drop-shadow(0px 1px 2px rgba(0, 0, 0, 0.3));\n",
              "      fill: #FFFFFF;\n",
              "    }\n",
              "  </style>\n",
              "\n",
              "      <script>\n",
              "        const buttonEl =\n",
              "          document.querySelector('#df-c0965518-e235-4a55-9bad-9999fef20ae1 button.colab-df-convert');\n",
              "        buttonEl.style.display =\n",
              "          google.colab.kernel.accessAllowed ? 'block' : 'none';\n",
              "\n",
              "        async function convertToInteractive(key) {\n",
              "          const element = document.querySelector('#df-c0965518-e235-4a55-9bad-9999fef20ae1');\n",
              "          const dataTable =\n",
              "            await google.colab.kernel.invokeFunction('convertToInteractive',\n",
              "                                                     [key], {});\n",
              "          if (!dataTable) return;\n",
              "\n",
              "          const docLinkHtml = 'Like what you see? Visit the ' +\n",
              "            '<a target=\"_blank\" href=https://colab.research.google.com/notebooks/data_table.ipynb>data table notebook</a>'\n",
              "            + ' to learn more about interactive tables.';\n",
              "          element.innerHTML = '';\n",
              "          dataTable['output_type'] = 'display_data';\n",
              "          await google.colab.output.renderOutput(dataTable, element);\n",
              "          const docLink = document.createElement('div');\n",
              "          docLink.innerHTML = docLinkHtml;\n",
              "          element.appendChild(docLink);\n",
              "        }\n",
              "      </script>\n",
              "    </div>\n",
              "  </div>\n",
              "  "
            ],
            "text/plain": [
              "        bookings  distance  pax_high  pax_midhigh  pax_midlow  pax_low  \\\n",
              "0            240      1394         2           28          94       94   \n",
              "1            220       489         4            4         100       87   \n",
              "2             79      2180         1            5           7       64   \n",
              "3             90       524         4            7          54       21   \n",
              "4            209      1170        88           18          21       82   \n",
              "...          ...       ...       ...          ...         ...      ...   \n",
              "999885        73       552        12           20          25        4   \n",
              "999886       274      3934         3           19         129      121   \n",
              "999887       131      1430         1            0           2      108   \n",
              "999888       134      1091         2            7          67       42   \n",
              "999889       127       283         1            1          72       51   \n",
              "\n",
              "        pax_freqflyer  group_bookings  dom_cnx  int_cnx  p2p  no_show  \n",
              "0                  22              19        1        0  239      1.0  \n",
              "1                  25               0       19        9  192      0.0  \n",
              "2                   2               0        0       10   69      1.0  \n",
              "3                   4               0       26        0   64      1.0  \n",
              "4                   0              88       23        3  183      1.0  \n",
              "...               ...             ...      ...      ...  ...      ...  \n",
              "999885             12               0       64        9    0      1.0  \n",
              "999886              2              20        0      118  156      1.0  \n",
              "999887             20              36        7        0  124      1.0  \n",
              "999888             16               0       34        2   98      0.0  \n",
              "999889              2               0        5        3  119      1.0  \n",
              "\n",
              "[998472 rows x 12 columns]"
            ]
          },
          "execution_count": 168,
          "metadata": {},
          "output_type": "execute_result"
        }
      ],
      "source": [
        "DataModelos"
      ]
    },
    {
      "cell_type": "code",
      "execution_count": null,
      "metadata": {
        "colab": {
          "base_uri": "https://localhost:8080/",
          "height": 282
        },
        "id": "Zna8-0MHK9zx",
        "outputId": "39ee83d5-15f1-4ed3-f49d-3dc5e5917d7f"
      },
      "outputs": [
        {
          "data": {
            "text/plain": [
              "<matplotlib.axes._subplots.AxesSubplot at 0x7fc35666a6d0>"
            ]
          },
          "execution_count": 169,
          "metadata": {},
          "output_type": "execute_result"
        },
        {
          "data": {
            "image/png": "[encoded data removed]",
            "text/plain": [
              "<Figure size 432x288 with 1 Axes>"
            ]
          },
          "metadata": {
            "needs_background": "light"
          },
          "output_type": "display_data"
        }
      ],
      "source": [
        "sns.boxplot(data = DataModelos['bookings'])"
      ]
    },
    {
      "cell_type": "code",
      "execution_count": null,
      "metadata": {
        "colab": {
          "base_uri": "https://localhost:8080/",
          "height": 282
        },
        "id": "_LUspXjMAjX_",
        "outputId": "03a835cf-7262-4a76-8fde-74777d7683e0"
      },
      "outputs": [
        {
          "data": {
            "text/plain": [
              "<matplotlib.axes._subplots.AxesSubplot at 0x7fc35662f910>"
            ]
          },
          "execution_count": 170,
          "metadata": {},
          "output_type": "execute_result"
        },
        {
          "data": {
            "image/png": "[encoded data removed]",
            "text/plain": [
              "<Figure size 432x288 with 1 Axes>"
            ]
          },
          "metadata": {
            "needs_background": "light"
          },
          "output_type": "display_data"
        }
      ],
      "source": [
        "sns.boxplot(data = DataModelos['distance'])"
      ]
    },
    {
      "cell_type": "code",
      "execution_count": null,
      "metadata": {
        "colab": {
          "base_uri": "https://localhost:8080/",
          "height": 282
        },
        "id": "6L0J5f8IAsED",
        "outputId": "3b9e9537-285c-4e17-f91e-1ac48469165b"
      },
      "outputs": [
        {
          "data": {
            "text/plain": [
              "<matplotlib.axes._subplots.AxesSubplot at 0x7fc3566077d0>"
            ]
          },
          "execution_count": 171,
          "metadata": {},
          "output_type": "execute_result"
        },
        {
          "data": {
            "image/png": "[encoded data removed]",
            "text/plain": [
              "<Figure size 432x288 with 1 Axes>"
            ]
          },
          "metadata": {
            "needs_background": "light"
          },
          "output_type": "display_data"
        }
      ],
      "source": [
        "sns.boxplot(data = DataModelos['pax_high'])"
      ]
    },
    {
      "cell_type": "code",
      "execution_count": null,
      "metadata": {
        "colab": {
          "base_uri": "https://localhost:8080/",
          "height": 282
        },
        "id": "CDKlJzEDJsPR",
        "outputId": "50abb70a-318f-4951-a7bc-fd788a7b9472"
      },
      "outputs": [
        {
          "data": {
            "text/plain": [
              "<matplotlib.axes._subplots.AxesSubplot at 0x7fc356589f10>"
            ]
          },
          "execution_count": 172,
          "metadata": {},
          "output_type": "execute_result"
        },
        {
          "data": {
            "image/png": "[encoded data removed]",
            "text/plain": [
              "<Figure size 432x288 with 1 Axes>"
            ]
          },
          "metadata": {
            "needs_background": "light"
          },
          "output_type": "display_data"
        }
      ],
      "source": [
        "sns.boxplot(data = DataModelos['pax_midhigh'])"
      ]
    },
    {
      "cell_type": "code",
      "execution_count": null,
      "metadata": {
        "colab": {
          "base_uri": "https://localhost:8080/",
          "height": 282
        },
        "id": "e7Uw8IgSJvy5",
        "outputId": "467ce260-d525-4423-c0d6-5beee7de4f42"
      },
      "outputs": [
        {
          "data": {
            "text/plain": [
              "<matplotlib.axes._subplots.AxesSubplot at 0x7fc3564eda10>"
            ]
          },
          "execution_count": 173,
          "metadata": {},
          "output_type": "execute_result"
        },
        {
          "data": {
            "image/png": "[encoded data removed]",
            "text/plain": [
              "<Figure size 432x288 with 1 Axes>"
            ]
          },
          "metadata": {
            "needs_background": "light"
          },
          "output_type": "display_data"
        }
      ],
      "source": [
        "sns.boxplot(data = DataModelos['pax_midlow'])"
      ]
    },
    {
      "cell_type": "code",
      "execution_count": null,
      "metadata": {
        "colab": {
          "base_uri": "https://localhost:8080/",
          "height": 282
        },
        "id": "-C2jMD5hJy5z",
        "outputId": "82f1d6a7-8ab9-4791-ce0c-2fd6b960ec26"
      },
      "outputs": [
        {
          "data": {
            "text/plain": [
              "<matplotlib.axes._subplots.AxesSubplot at 0x7fc356459290>"
            ]
          },
          "execution_count": 174,
          "metadata": {},
          "output_type": "execute_result"
        },
        {
          "data": {
            "image/png": "[encoded data removed]",
            "text/plain": [
              "<Figure size 432x288 with 1 Axes>"
            ]
          },
          "metadata": {
            "needs_background": "light"
          },
          "output_type": "display_data"
        }
      ],
      "source": [
        "sns.boxplot(data = DataModelos['pax_low'])"
      ]
    },
    {
      "cell_type": "code",
      "execution_count": null,
      "metadata": {
        "colab": {
          "base_uri": "https://localhost:8080/",
          "height": 282
        },
        "id": "xMjIV7eWJ2gf",
        "outputId": "3e7578c3-3912-4326-a031-33612c8d18cb"
      },
      "outputs": [
        {
          "data": {
            "text/plain": [
              "<matplotlib.axes._subplots.AxesSubplot at 0x7fc356453b90>"
            ]
          },
          "execution_count": 175,
          "metadata": {},
          "output_type": "execute_result"
        },
        {
          "data": {
            "image/png": "[encoded data removed]",
            "text/plain": [
              "<Figure size 432x288 with 1 Axes>"
            ]
          },
          "metadata": {
            "needs_background": "light"
          },
          "output_type": "display_data"
        }
      ],
      "source": [
        "sns.boxplot(data = DataModelos['pax_freqflyer'])"
      ]
    },
    {
      "cell_type": "code",
      "execution_count": null,
      "metadata": {
        "colab": {
          "base_uri": "https://localhost:8080/",
          "height": 285
        },
        "id": "0pNWIS9LJ8bA",
        "outputId": "e957f76c-368b-4a20-f538-c6a204edc67a"
      },
      "outputs": [
        {
          "data": {
            "text/plain": [
              "<matplotlib.axes._subplots.AxesSubplot at 0x7fc3563bbd90>"
            ]
          },
          "execution_count": 176,
          "metadata": {},
          "output_type": "execute_result"
        },
        {
          "data": {
            "image/png": "[encoded data removed]",
            "text/plain": [
              "<Figure size 432x288 with 1 Axes>"
            ]
          },
          "metadata": {
            "needs_background": "light"
          },
          "output_type": "display_data"
        }
      ],
      "source": [
        "sns.boxplot(data = DataModelos['group_bookings'])"
      ]
    },
    {
      "cell_type": "code",
      "execution_count": null,
      "metadata": {
        "colab": {
          "base_uri": "https://localhost:8080/",
          "height": 282
        },
        "id": "0oiFh0T9KAsJ",
        "outputId": "5cfe100c-61a9-4c7d-c112-ab63dce0f0a7"
      },
      "outputs": [
        {
          "data": {
            "text/plain": [
              "<matplotlib.axes._subplots.AxesSubplot at 0x7fc35632de10>"
            ]
          },
          "execution_count": 177,
          "metadata": {},
          "output_type": "execute_result"
        },
        {
          "data": {
            "image/png": "[encoded data removed]",
            "text/plain": [
              "<Figure size 432x288 with 1 Axes>"
            ]
          },
          "metadata": {
            "needs_background": "light"
          },
          "output_type": "display_data"
        }
      ],
      "source": [
        "sns.boxplot(data = DataModelos['dom_cnx'])"
      ]
    },
    {
      "cell_type": "code",
      "execution_count": null,
      "metadata": {
        "colab": {
          "base_uri": "https://localhost:8080/",
          "height": 282
        },
        "id": "ZezjGgZZKA5v",
        "outputId": "bf8e8b23-cf43-440c-c40c-93b3fc35e5cc"
      },
      "outputs": [
        {
          "data": {
            "text/plain": [
              "<matplotlib.axes._subplots.AxesSubplot at 0x7fc3562a3e10>"
            ]
          },
          "execution_count": 178,
          "metadata": {},
          "output_type": "execute_result"
        },
        {
          "data": {
            "image/png": "[encoded data removed]",
            "text/plain": [
              "<Figure size 432x288 with 1 Axes>"
            ]
          },
          "metadata": {
            "needs_background": "light"
          },
          "output_type": "display_data"
        }
      ],
      "source": [
        "sns.boxplot(data = DataModelos['int_cnx'])"
      ]
    },
    {
      "cell_type": "code",
      "execution_count": null,
      "metadata": {
        "colab": {
          "base_uri": "https://localhost:8080/",
          "height": 282
        },
        "id": "vHD6jGPSKHhZ",
        "outputId": "1184acd3-182f-462b-a3fd-25691f90dfcd"
      },
      "outputs": [
        {
          "data": {
            "text/plain": [
              "<matplotlib.axes._subplots.AxesSubplot at 0x7fc35621af50>"
            ]
          },
          "execution_count": 179,
          "metadata": {},
          "output_type": "execute_result"
        },
        {
          "data": {
            "image/png": "[encoded data removed]",
            "text/plain": [
              "<Figure size 432x288 with 1 Axes>"
            ]
          },
          "metadata": {
            "needs_background": "light"
          },
          "output_type": "display_data"
        }
      ],
      "source": [
        "sns.boxplot(data = DataModelos['p2p'])"
      ]
    },
    {
      "cell_type": "markdown",
      "metadata": {
        "id": "Ow4Yi32TLjzF"
      },
      "source": [
        "# Modelo de clasificación (2.5 pts)\n"
      ]
    },
    {
      "cell_type": "markdown",
      "metadata": {
        "id": "bj7X5E7QLjzF"
      },
      "source": [
        "## Regresión logística:"
      ]
    },
    {
      "cell_type": "code",
      "execution_count": null,
      "metadata": {
        "id": "ck6u0VYdrYBM"
      },
      "outputs": [],
      "source": [
        "#Crearemos unas listas para guardar los valores de accuracy, precision, recall y F1_score de cada iteracion\n",
        "l_accuracy_regresion = []\n",
        "l_presicion1_regresion = []\n",
        "l_recall1_regresion = []\n",
        "l_F_score1_regresion = []\n",
        "l_presicion0_regresion = []\n",
        "l_recall0_regresion = []\n",
        "l_F_score0_regresion = []"
      ]
    },
    {
      "cell_type": "code",
      "execution_count": null,
      "metadata": {
        "colab": {
          "base_uri": "https://localhost:8080/"
        },
        "id": "2Vc1xzX2M5Fx",
        "outputId": "783f982a-caaa-4682-de2a-88a2901a193b"
      },
      "outputs": [
        {
          "name": "stdout",
          "output_type": "stream",
          "text": [
            "KFold(n_splits=10, random_state=None, shuffle=False)\n"
          ]
        }
      ],
      "source": [
        "kf = KFold(n_splits=10,shuffle=False) #Realizamos un 10-fold cross validation\n",
        "print(kf)\n",
        "#Generando los k-fold\n",
        "temp = kf.split(DataModelos)\n",
        "for train_index, test_index in temp:\n",
        "    train_index_list = list(train_index)\n",
        "    test_index_list = list(test_index)\n",
        "    X_train = DataModelos.iloc[train_index_list,0:11]\n",
        "    y_train = DataModelos.iloc[train_index_list,11]\n",
        "    X_test = DataModelos.iloc[test_index_list,0:11]\n",
        "    y_test = DataModelos.iloc[test_index_list,11]\n",
        "    LR = LogisticRegression(max_iter = 200)\n",
        "    LR = LR.fit(X_train,y_train)\n",
        "    #Aplicando el modelo a otros datos\n",
        "    resultado = LR.predict(X_test)\n",
        "    #Analizando los parámetros aprendidos\n",
        "    accuracy = sum(LR.predict(X_test) == y_test)/len(y_test)\n",
        "    l_accuracy_regresion.append(accuracy) #Agregamos los valores a la lista de accuracy\n",
        "    cm = confusion_matrix(y_test, resultado) \n",
        "    #Creamos la matriz 1\n",
        "    TN1 = cm[0][0] \n",
        "    FP1 = cm[0][1]\n",
        "    FN1 = cm[1][0] \n",
        "    TP1 = cm[1][1]\n",
        "#Calculamos y guardamos las métricas en las listas\n",
        "    presicion1 = TP1/(TP1 + FP1)\n",
        "    recall1 = TP1/(TP1 + FN1)\n",
        "    F_score1 = 2*TP1/(2*TP1 + FP1 + FN1)\n",
        "    l_presicion1_regresion.append(presicion1)\n",
        "    l_recall1_regresion.append(recall1)\n",
        "    l_F_score1_regresion.append(F_score1)\n",
        "#Creamos la matriz 0\n",
        "    TN0 = cm[1][1]\n",
        "    FP0 = cm[1][0]\n",
        "    FN0 = cm[0][1]\n",
        "    TP0 = cm[0][0]\n",
        "#Calculamos y guardamos las métricas en las listas\n",
        "    presicion0 = TP0/(TP0 + FP0)\n",
        "    recall0 = TP0/(TP0 + FN0)\n",
        "    F_score0 = 2*TP0/(2*TP0 + FP0 + FN0)\n",
        "    l_presicion0_regresion.append(presicion0)\n",
        "    l_recall0_regresion.append(recall0)\n",
        "    l_F_score0_regresion.append(F_score0)"
      ]
    },
    {
      "cell_type": "code",
      "execution_count": null,
      "metadata": {
        "colab": {
          "base_uri": "https://localhost:8080/"
        },
        "id": "GRPAKGkyNVXk",
        "outputId": "010d8296-417d-497b-e78e-8b797cb6c24e"
      },
      "outputs": [
        {
          "name": "stdout",
          "output_type": "stream",
          "text": [
            "Accuracy:\n",
            "[0.6584608605079721, 0.6584207996154154, 0.6560838082265866, 0.6597694472542991, 0.6570753252476289, 0.6547217242380843, 0.6593488036696145, 0.6579767043576672, 0.6563341913127084, 0.6568650034552865]\n",
            "\n",
            "Precision 1:\n",
            "[0.6639641606120137, 0.6630847094769442, 0.6609131461012966, 0.6649352268359322, 0.6618827561140246, 0.6600253332779601, 0.6643562298659462, 0.6624996106363759, 0.6610972568578554, 0.6609912584871577]\n",
            "Precision 0:\n",
            "[0.5130458665201868, 0.5346206896551724, 0.5296679368535656, 0.5211817168338907, 0.5267454954954955, 0.5100538091192297, 0.5261266242742605, 0.5347850678733032, 0.529248683116163, 0.544113475177305]\n",
            "\n",
            "Recall 1:\n",
            "[0.9729935568384336, 0.9742407353682185, 0.9735334660744371, 0.9738603858560039, 0.9743033156518948, 0.9735072969786067, 0.9738898621372534, 0.9748666941681563, 0.9740056948654359, 0.9753810800459594]\n",
            "Recall 0:\n",
            "[0.05462467467906541, 0.056407718951014346, 0.056312758630668175, 0.05480174662251267, 0.05434214347952367, 0.05213338736756788, 0.0556400210514005, 0.05497732294452844, 0.055293265749456914, 0.05547842184426704]\n",
            "\n",
            "F_score 1:\n",
            "[0.7893091475243732, 0.7890968005243826, 0.7873258889033401, 0.7902804615299136, 0.7882655585237954, 0.7866870440609589, 0.7898810810810811, 0.7888873777525006, 0.7876109481189884, 0.7879849254627251]\n",
            "F_score 0:\n",
            "[0.09873671969977271, 0.10204833868674636, 0.10180220240119275, 0.09917530693961973, 0.09852035174556369, 0.09459778869133598, 0.10063724582881621, 0.09970473478856902, 0.10012587852722123, 0.10069034307163294]\n"
          ]
        }
      ],
      "source": [
        "print('Accuracy:')\n",
        "print(l_accuracy_regresion)\n",
        "print('')\n",
        "print('Precision 1:')\n",
        "print(l_presicion1_regresion)\n",
        "print('Precision 0:')\n",
        "print(l_presicion0_regresion)\n",
        "print('')\n",
        "print('Recall 1:')\n",
        "print(l_recall1_regresion)\n",
        "print('Recall 0:')\n",
        "print(l_recall0_regresion)\n",
        "print('')\n",
        "print('F_score 1:')\n",
        "print(l_F_score1_regresion)\n",
        "print('F_score 0:')\n",
        "print(l_F_score0_regresion)"
      ]
    },
    {
      "cell_type": "code",
      "execution_count": null,
      "metadata": {
        "colab": {
          "base_uri": "https://localhost:8080/",
          "height": 265
        },
        "id": "SCqIfqLItArM",
        "outputId": "4893119d-42fd-4f23-f78e-53337ca6fa05"
      },
      "outputs": [
        {
          "data": {
            "image/png": "[encoded data removed]",
            "text/plain": [
              "<Figure size 432x288 with 1 Axes>"
            ]
          },
          "metadata": {
            "needs_background": "light"
          },
          "output_type": "display_data"
        }
      ],
      "source": [
        "y_pred_proba = LR.predict_proba(X_test)[::,1]\n",
        "fpr, tpr, _ = mt.roc_curve(y_test,  y_pred_proba)\n",
        "auc1 = mt.roc_auc_score(y_test, y_pred_proba)\n",
        "plt.plot(fpr,tpr,label=\"data 1, auc=\"+str(auc1))\n",
        "plt.legend(loc=4)\n",
        "plt.show()"
      ]
    },
    {
      "cell_type": "markdown",
      "metadata": {
        "id": "5TZQPZ2ovAka"
      },
      "source": [
        "## Naive Bayes:"
      ]
    },
    {
      "cell_type": "code",
      "execution_count": null,
      "metadata": {
        "id": "lRSxRxvRr9EM"
      },
      "outputs": [],
      "source": [
        "#Volvemos a realizar los mismos pasos pero utilizando el modelo de Naive Bayes\n",
        "l_accuracy_naive = []\n",
        "l_presicion1_naive = []\n",
        "l_recall1_naive = []\n",
        "l_F_score1_naive = []\n",
        "l_presicion0_naive = []\n",
        "l_recall0_naive = []\n",
        "l_F_score0_naive = []"
      ]
    },
    {
      "cell_type": "code",
      "execution_count": null,
      "metadata": {
        "colab": {
          "base_uri": "https://localhost:8080/"
        },
        "id": "wUBrs2X8QCXP",
        "outputId": "0cba0916-996d-439d-b322-2f50e561b9f1"
      },
      "outputs": [
        {
          "name": "stdout",
          "output_type": "stream",
          "text": [
            "KFold(n_splits=10, random_state=None, shuffle=False)\n",
            "Resultado de la predicción:\n",
            " [0. 1. 0. ... 1. 1. 1.]\n",
            "Resultado original:\n",
            " 0        1.0\n",
            "1        0.0\n",
            "2        1.0\n",
            "3        1.0\n",
            "4        1.0\n",
            "        ... \n",
            "99994    0.0\n",
            "99995    1.0\n",
            "99996    1.0\n",
            "99997    0.0\n",
            "99998    1.0\n",
            "Name: no_show, Length: 99848, dtype: float64\n",
            "Resultado de la predicción:\n",
            " [0. 1. 0. ... 1. 1. 1.]\n",
            "Resultado original:\n",
            " 99999     1.0\n",
            "100000    0.0\n",
            "100001    1.0\n",
            "100002    1.0\n",
            "100003    0.0\n",
            "         ... \n",
            "199982    0.0\n",
            "199983    1.0\n",
            "199984    1.0\n",
            "199985    1.0\n",
            "199986    1.0\n",
            "Name: no_show, Length: 99848, dtype: float64\n",
            "Resultado de la predicción:\n",
            " [0. 1. 0. ... 1. 1. 1.]\n",
            "Resultado original:\n",
            " 199987    1.0\n",
            "199988    1.0\n",
            "199989    0.0\n",
            "199990    0.0\n",
            "199991    1.0\n",
            "         ... \n",
            "299968    0.0\n",
            "299969    1.0\n",
            "299970    1.0\n",
            "299971    0.0\n",
            "299972    0.0\n",
            "Name: no_show, Length: 99847, dtype: float64\n",
            "Resultado de la predicción:\n",
            " [0. 1. 0. ... 1. 1. 1.]\n",
            "Resultado original:\n",
            " 299973    1.0\n",
            "299974    1.0\n",
            "299975    1.0\n",
            "299976    1.0\n",
            "299977    0.0\n",
            "         ... \n",
            "399950    1.0\n",
            "399951    1.0\n",
            "399952    1.0\n",
            "399953    0.0\n",
            "399954    1.0\n",
            "Name: no_show, Length: 99847, dtype: float64\n",
            "Resultado de la predicción:\n",
            " [0. 1. 0. ... 1. 1. 1.]\n",
            "Resultado original:\n",
            " 399955    0.0\n",
            "399956    1.0\n",
            "399957    1.0\n",
            "399958    1.0\n",
            "399959    1.0\n",
            "         ... \n",
            "499938    0.0\n",
            "499939    1.0\n",
            "499940    1.0\n",
            "499941    0.0\n",
            "499942    1.0\n",
            "Name: no_show, Length: 99847, dtype: float64\n",
            "Resultado de la predicción:\n",
            " [0. 1. 0. ... 1. 1. 1.]\n",
            "Resultado original:\n",
            " 499943    1.0\n",
            "499944    1.0\n",
            "499945    1.0\n",
            "499946    0.0\n",
            "499947    1.0\n",
            "         ... \n",
            "599916    1.0\n",
            "599917    0.0\n",
            "599918    1.0\n",
            "599919    0.0\n",
            "599920    0.0\n",
            "Name: no_show, Length: 99847, dtype: float64\n",
            "Resultado de la predicción:\n",
            " [0. 1. 0. ... 1. 1. 1.]\n",
            "Resultado original:\n",
            " 599921    1.0\n",
            "599922    0.0\n",
            "599923    0.0\n",
            "599924    0.0\n",
            "599925    1.0\n",
            "         ... \n",
            "699899    1.0\n",
            "699900    1.0\n",
            "699901    1.0\n",
            "699902    0.0\n",
            "699903    1.0\n",
            "Name: no_show, Length: 99847, dtype: float64\n",
            "Resultado de la predicción:\n",
            " [0. 1. 0. ... 1. 1. 1.]\n",
            "Resultado original:\n",
            " 699904    0.0\n",
            "699905    0.0\n",
            "699906    1.0\n",
            "699907    1.0\n",
            "699908    1.0\n",
            "         ... \n",
            "799894    1.0\n",
            "799895    1.0\n",
            "799896    1.0\n",
            "799897    0.0\n",
            "799898    1.0\n",
            "Name: no_show, Length: 99847, dtype: float64\n",
            "Resultado de la predicción:\n",
            " [0. 1. 0. ... 1. 1. 1.]\n",
            "Resultado original:\n",
            " 799899    0.0\n",
            "799900    1.0\n",
            "799901    1.0\n",
            "799902    1.0\n",
            "799903    1.0\n",
            "         ... \n",
            "899887    0.0\n",
            "899888    0.0\n",
            "899889    1.0\n",
            "899890    0.0\n",
            "899891    1.0\n",
            "Name: no_show, Length: 99847, dtype: float64\n",
            "Resultado de la predicción:\n",
            " [0. 1. 0. ... 1. 1. 1.]\n",
            "Resultado original:\n",
            " 899892    0.0\n",
            "899893    0.0\n",
            "899894    0.0\n",
            "899895    0.0\n",
            "899896    1.0\n",
            "         ... \n",
            "999885    1.0\n",
            "999886    1.0\n",
            "999887    1.0\n",
            "999888    0.0\n",
            "999889    1.0\n",
            "Name: no_show, Length: 99847, dtype: float64\n"
          ]
        }
      ],
      "source": [
        "kf = KFold(n_splits=10,shuffle=False) #Realizamos un 10-fold cross validation\n",
        "print(kf)\n",
        "#Generando los k-fold\n",
        "temp = kf.split(DataModelos)\n",
        "for train_index, test_index in temp:\n",
        "    train_index_list = list(train_index)\n",
        "    test_index_list = list(test_index)   \n",
        "    X_train = DataModelos.iloc[train_index_list,0:11]\n",
        "    y_train = DataModelos.iloc[train_index_list,11]\n",
        "    X_test = DataModelos.iloc[test_index_list,0:11]\n",
        "    y_test = DataModelos.iloc[test_index_list,11]\n",
        "    NB = GaussianNB()\n",
        "    NB = NB.fit(X_train,y_train)\n",
        "    #Aplicando el modelo a otros datos\n",
        "    resultadoNB = NB.predict(X_test)\n",
        "    print(\"Resultado de la predicción:\\n\",resultado)\n",
        "    print(\"Resultado original:\\n\",y_test)\n",
        "    accuracy = sum(resultadoNB == y_test)/len(y_test)\n",
        "    l_accuracy_naive.append(accuracy) #Agregamos los valores a la lista de accuracy\n",
        "    cm = confusion_matrix(y_test, resultadoNB)\n",
        "    #Creamos la matriz 1\n",
        "    TN1 = cm[0][0] \n",
        "    FP1 = cm[0][1]\n",
        "    FN1 = cm[1][0] \n",
        "    TP1 = cm[1][1]\n",
        "#Calculamos y guardamos las métricas en las listas\n",
        "    presicion1 = TP1/(TP1 + FP1)\n",
        "    recall1 = TP1/(TP1 + FN1)\n",
        "    F_score1 = 2*TP1/(2*TP1 + FP1 + FN1)\n",
        "    l_presicion1_naive.append(presicion1)\n",
        "    l_recall1_naive.append(recall1)\n",
        "    l_F_score1_naive.append(F_score1)\n",
        "#Creamos la matriz 0\n",
        "    TN0 = cm[1][1]\n",
        "    FP0 = cm[1][0]\n",
        "    FN0 = cm[0][1]\n",
        "    TP0 = cm[0][0]\n",
        "#Calculamos y guardamos las métricas en las listas\n",
        "    presicion0 = TP0/(TP0 + FP0)\n",
        "    recall0 = TP0/(TP0 + FN0)\n",
        "    F_score0 = 2*TP0/(2*TP0 + FP0 + FN0)\n",
        "    l_presicion0_naive.append(presicion0)\n",
        "    l_recall0_naive.append(recall0)\n",
        "    l_F_score0_naive.append(F_score0)"
      ]
    },
    {
      "cell_type": "code",
      "execution_count": null,
      "metadata": {
        "colab": {
          "base_uri": "https://localhost:8080/"
        },
        "id": "e57Enbr8QJAY",
        "outputId": "6998c425-59c7-41d3-bdbd-3599ad2764a4"
      },
      "outputs": [
        {
          "name": "stdout",
          "output_type": "stream",
          "text": [
            "Accuracy:\n",
            "[0.6464325775178271, 0.6469233234516465, 0.6453173355233507, 0.647080032449648, 0.6456378258735865, 0.6427233667511292, 0.6472402776247659, 0.6465091590132903, 0.6463689444850621, 0.6453573968171302]\n",
            "\n",
            "Precision 1:\n",
            "[0.6726397706328077, 0.6719124887711359, 0.6701327987972939, 0.6735986151288067, 0.6707251912736036, 0.6680315782309839, 0.6735897933332573, 0.6714929141739269, 0.6703522493784836, 0.6701185959875594]\n",
            "Precision 0:\n",
            "[0.45373933411410405, 0.4623267534649307, 0.4644250726442507, 0.45369985881571295, 0.4599461460787614, 0.4517757809157039, 0.45825830741528895, 0.4623060796645702, 0.4666553249404559, 0.46528583264291634]\n",
            "\n",
            "Recall 1:\n",
            "[0.9005346453214726, 0.9022613794261807, 0.90119466993414, 0.8999147952041872, 0.9018909457786203, 0.9019004303150029, 0.8991697768299185, 0.9020335823746009, 0.9040139616055847, 0.9011260053619303]\n",
            "Recall 0:\n",
            "[0.15861040442144048, 0.16020025031289112, 0.16187747779031744, 0.1600972950795651, 0.15875689805402265, 0.1528107450934985, 0.1637038769662593, 0.16028026514711013, 0.15889934829833455, 0.16244359597362026]\n",
            "\n",
            "F_score 1:\n",
            "[0.770080432446514, 0.7702334554270892, 0.7686750450709378, 0.7704813391519573, 0.7693180336419351, 0.7675465747444009, 0.7702023826611167, 0.7698747497929883, 0.769843494358366, 0.7686407234142645]\n",
            "F_score 0:\n",
            "[0.23505449502719333, 0.2379490726730362, 0.24007553323891678, 0.23667793085521185, 0.2360409379453297, 0.22837489995890203, 0.24123222748815165, 0.23803458474557976, 0.23707352909401266, 0.2408130011577548]\n"
          ]
        }
      ],
      "source": [
        "print('Accuracy:')\n",
        "print(l_accuracy_naive)\n",
        "print('')\n",
        "print('Precision 1:')\n",
        "print(l_presicion1_naive)\n",
        "print('Precision 0:')\n",
        "print(l_presicion0_naive)\n",
        "print('')\n",
        "print('Recall 1:')\n",
        "print(l_recall1_naive)\n",
        "print('Recall 0:')\n",
        "print(l_recall0_naive)\n",
        "print('')\n",
        "print('F_score 1:')\n",
        "print(l_F_score1_naive)\n",
        "print('F_score 0:')\n",
        "print(l_F_score0_naive)"
      ]
    },
    {
      "cell_type": "code",
      "execution_count": null,
      "metadata": {
        "colab": {
          "base_uri": "https://localhost:8080/",
          "height": 265
        },
        "id": "nE1msmmrtR26",
        "outputId": "e26f642a-2f9a-4d83-c87f-29f9ddcd34a1"
      },
      "outputs": [
        {
          "data": {
            "image/png": "[encoded data removed]",
            "text/plain": [
              "<Figure size 432x288 with 1 Axes>"
            ]
          },
          "metadata": {
            "needs_background": "light"
          },
          "output_type": "display_data"
        }
      ],
      "source": [
        "z_pred_proba = NB.predict_proba(X_test)[::,1]\n",
        "fpr, tpr, _ = mt.roc_curve(y_test,  z_pred_proba)\n",
        "auc1 = mt.roc_auc_score(y_test, z_pred_proba)\n",
        "plt.plot(fpr,tpr,label=\"data 1, auc=\"+str(auc1))\n",
        "plt.legend(loc=4)\n",
        "plt.show()"
      ]
    },
    {
      "cell_type": "markdown",
      "metadata": {
        "id": "onCYrTxOvBS3"
      },
      "source": [
        "## Árbol de Decisión:"
      ]
    },
    {
      "cell_type": "code",
      "execution_count": null,
      "metadata": {
        "id": "y-n8eKgPsZjt"
      },
      "outputs": [],
      "source": [
        "l_accuracy_arbol = []\n",
        "l_presicion1_arbol = []\n",
        "l_recall1_arbol = []\n",
        "l_F_score1_arbol = []\n",
        "l_presicion0_arbol = []\n",
        "l_recall0_arbol = []\n",
        "l_F_score0_arbol = []"
      ]
    },
    {
      "cell_type": "code",
      "execution_count": null,
      "metadata": {
        "colab": {
          "base_uri": "https://localhost:8080/"
        },
        "id": "5rzBqXpBF0Vp",
        "outputId": "7cdaea4f-e551-4d15-86b0-4f99b6744168"
      },
      "outputs": [
        {
          "name": "stdout",
          "output_type": "stream",
          "text": [
            "KFold(n_splits=10, random_state=None, shuffle=False)\n",
            "Resultado de la predicción:\n",
            " [1. 1. 1. ... 1. 1. 0.]\n",
            "Resultado original:\n",
            " 0        1.0\n",
            "1        0.0\n",
            "2        1.0\n",
            "3        1.0\n",
            "4        1.0\n",
            "        ... \n",
            "99994    0.0\n",
            "99995    1.0\n",
            "99996    1.0\n",
            "99997    0.0\n",
            "99998    1.0\n",
            "Name: no_show, Length: 99848, dtype: float64\n",
            "Resultado de la predicción:\n",
            " [0. 1. 1. ... 1. 1. 1.]\n",
            "Resultado original:\n",
            " 99999     1.0\n",
            "100000    0.0\n",
            "100001    1.0\n",
            "100002    1.0\n",
            "100003    0.0\n",
            "         ... \n",
            "199982    0.0\n",
            "199983    1.0\n",
            "199984    1.0\n",
            "199985    1.0\n",
            "199986    1.0\n",
            "Name: no_show, Length: 99848, dtype: float64\n",
            "Resultado de la predicción:\n",
            " [1. 1. 1. ... 1. 1. 0.]\n",
            "Resultado original:\n",
            " 199987    1.0\n",
            "199988    1.0\n",
            "199989    0.0\n",
            "199990    0.0\n",
            "199991    1.0\n",
            "         ... \n",
            "299968    0.0\n",
            "299969    1.0\n",
            "299970    1.0\n",
            "299971    0.0\n",
            "299972    0.0\n",
            "Name: no_show, Length: 99847, dtype: float64\n",
            "Resultado de la predicción:\n",
            " [1. 1. 1. ... 1. 1. 1.]\n",
            "Resultado original:\n",
            " 299973    1.0\n",
            "299974    1.0\n",
            "299975    1.0\n",
            "299976    1.0\n",
            "299977    0.0\n",
            "         ... \n",
            "399950    1.0\n",
            "399951    1.0\n",
            "399952    1.0\n",
            "399953    0.0\n",
            "399954    1.0\n",
            "Name: no_show, Length: 99847, dtype: float64\n",
            "Resultado de la predicción:\n",
            " [0. 1. 1. ... 1. 1. 1.]\n",
            "Resultado original:\n",
            " 399955    0.0\n",
            "399956    1.0\n",
            "399957    1.0\n",
            "399958    1.0\n",
            "399959    1.0\n",
            "         ... \n",
            "499938    0.0\n",
            "499939    1.0\n",
            "499940    1.0\n",
            "499941    0.0\n",
            "499942    1.0\n",
            "Name: no_show, Length: 99847, dtype: float64\n",
            "Resultado de la predicción:\n",
            " [1. 1. 0. ... 1. 0. 0.]\n",
            "Resultado original:\n",
            " 499943    1.0\n",
            "499944    1.0\n",
            "499945    1.0\n",
            "499946    0.0\n",
            "499947    1.0\n",
            "         ... \n",
            "599916    1.0\n",
            "599917    0.0\n",
            "599918    1.0\n",
            "599919    0.0\n",
            "599920    0.0\n",
            "Name: no_show, Length: 99847, dtype: float64\n",
            "Resultado de la predicción:\n",
            " [1. 0. 1. ... 1. 1. 1.]\n",
            "Resultado original:\n",
            " 599921    1.0\n",
            "599922    0.0\n",
            "599923    0.0\n",
            "599924    0.0\n",
            "599925    1.0\n",
            "         ... \n",
            "699899    1.0\n",
            "699900    1.0\n",
            "699901    1.0\n",
            "699902    0.0\n",
            "699903    1.0\n",
            "Name: no_show, Length: 99847, dtype: float64\n",
            "Resultado de la predicción:\n",
            " [1. 1. 1. ... 1. 1. 1.]\n",
            "Resultado original:\n",
            " 699904    0.0\n",
            "699905    0.0\n",
            "699906    1.0\n",
            "699907    1.0\n",
            "699908    1.0\n",
            "         ... \n",
            "799894    1.0\n",
            "799895    1.0\n",
            "799896    1.0\n",
            "799897    0.0\n",
            "799898    1.0\n",
            "Name: no_show, Length: 99847, dtype: float64\n",
            "Resultado de la predicción:\n",
            " [1. 1. 1. ... 0. 1. 1.]\n",
            "Resultado original:\n",
            " 799899    0.0\n",
            "799900    1.0\n",
            "799901    1.0\n",
            "799902    1.0\n",
            "799903    1.0\n",
            "         ... \n",
            "899887    0.0\n",
            "899888    0.0\n",
            "899889    1.0\n",
            "899890    0.0\n",
            "899891    1.0\n",
            "Name: no_show, Length: 99847, dtype: float64\n",
            "Resultado de la predicción:\n",
            " [0. 0. 0. ... 1. 1. 1.]\n",
            "Resultado original:\n",
            " 899892    0.0\n",
            "899893    0.0\n",
            "899894    0.0\n",
            "899895    0.0\n",
            "899896    1.0\n",
            "         ... \n",
            "999885    1.0\n",
            "999886    1.0\n",
            "999887    1.0\n",
            "999888    0.0\n",
            "999889    1.0\n",
            "Name: no_show, Length: 99847, dtype: float64\n"
          ]
        }
      ],
      "source": [
        "kf = KFold(n_splits=10,shuffle=False) #Realizamos un 10-fold cross validation\n",
        "print(kf)\n",
        "#Generando los k-fold\n",
        "temp = kf.split(DataModelos)\n",
        "for train_index, test_index in temp:\n",
        "    train_index_list = list(train_index)\n",
        "    test_index_list = list(test_index)\n",
        "    X_train = DataModelos.iloc[train_index_list,0:11]\n",
        "    y_train = DataModelos.iloc[train_index_list,11]\n",
        "    X_test = DataModelos.iloc[test_index_list,0:11]\n",
        "    y_test = DataModelos.iloc[test_index_list,11]\n",
        "    AD = DecisionTreeClassifier(max_depth=20)\n",
        "    AD = AD.fit(X_train,y_train)\n",
        "    #Aplicando el modelo a otros datos\n",
        "    resultado = AD.predict(X_test)\n",
        "    print(\"Resultado de la predicción:\\n\",resultado)\n",
        "    print(\"Resultado original:\\n\",y_test)\n",
        "    accuracy = sum(AD.predict(X_test)==y_test)/len(y_test)\n",
        "    l_accuracy_arbol.append(accuracy) #Agregamos los valores a la lista de accuracy\n",
        "    cm = confusion_matrix(y_test, resultado)\n",
        "    #Creamos la matriz 1\n",
        "    TN1 = cm[0][0] \n",
        "    FP1 = cm[0][1]\n",
        "    FN1 = cm[1][0] \n",
        "    TP1 = cm[1][1]\n",
        "#Calculamos y guardamos las métricas en las listas\n",
        "    presicion1 = TP1/(TP1 + FP1)\n",
        "    recall1 = TP1/(TP1 + FN1)\n",
        "    F_score1 = 2*TP1/(2*TP1 + FP1 + FN1)\n",
        "    l_presicion1_arbol.append(presicion1)\n",
        "    l_recall1_arbol.append(recall1)\n",
        "    l_F_score1_arbol.append(F_score1)\n",
        "#Creamos la matriz 0\n",
        "    TN0 = cm[1][1]\n",
        "    FP0 = cm[1][0]\n",
        "    FN0 = cm[0][1]\n",
        "    TP0 = cm[0][0]\n",
        "#Calculamos y guardamos las métricas en las listas\n",
        "    presicion0 = TP0/(TP0 + FP0)\n",
        "    recall0 = TP0/(TP0 + FN0)\n",
        "    F_score0 = 2*TP0/(2*TP0 + FP0 + FN0)\n",
        "    l_presicion0_arbol.append(presicion0)\n",
        "    l_recall0_arbol.append(recall0)\n",
        "    l_F_score0_arbol.append(F_score0)"
      ]
    },
    {
      "cell_type": "code",
      "execution_count": null,
      "metadata": {
        "colab": {
          "base_uri": "https://localhost:8080/"
        },
        "id": "6wKRbb5FkMYm",
        "outputId": "7ddcb622-0bba-4ad8-fb7f-8841138ef515"
      },
      "outputs": [
        {
          "name": "stdout",
          "output_type": "stream",
          "text": [
            "Accuracy:\n",
            "[0.6584808909542504, 0.654484816921721, 0.6564643905174917, 0.659158512524162, 0.6539204983624947, 0.6574659228619788, 0.6575560607729827, 0.6546315863270804, 0.6546516169739702, 0.6585976544112492]\n",
            "\n",
            "Precision 1:\n",
            "[0.7067806163243371, 0.7009336099585062, 0.7025398360805741, 0.7066941458833351, 0.7015438064886892, 0.7015658621315428, 0.7046575485079968, 0.7032035381970418, 0.7013580569339253, 0.7037913143484454]\n",
            "Precision 0:\n",
            "[0.5020588360147726, 0.49687609996480114, 0.50548273794226, 0.5019626450416254, 0.4973156380191556, 0.5075987841945289, 0.5002173535037385, 0.4981395348837209, 0.5009240555292904, 0.5103729104157737]\n",
            "\n",
            "Recall 1:\n",
            "[0.8213279310292303, 0.8253958559191339, 0.8231735334660745, 0.8243259692045524, 0.8210862619808307, 0.8288234483392292, 0.8248609947444588, 0.8186582328765031, 0.8222344692446649, 0.8250019149751053]\n",
            "Recall 0:\n",
            "[0.3458490510863526, 0.3286957534126961, 0.34149376392626674, 0.3410309761744278, 0.3363055474876561, 0.33355525965379496, 0.33644231331501084, 0.34251075706477496, 0.33758146270818246, 0.34441166261714684]\n",
            "\n",
            "F_score 1:\n",
            "[0.7597610291527526, 0.7580901893963299, 0.7580876078171394, 0.760991094755176, 0.7566223649643262, 0.7599036834752575, 0.7600359328504857, 0.7565514514853722, 0.7570013107637665, 0.7595915143308508]\n",
            "F_score 0:\n",
            "[0.40956470547494545, 0.3956556012963125, 0.4076127316373936, 0.40613548319547693, 0.40126141423942613, 0.4025713137806348, 0.4023004579939167, 0.4059194432002205, 0.40334302325581395, 0.41128113018548584]\n"
          ]
        }
      ],
      "source": [
        "print('Accuracy:')\n",
        "print(l_accuracy_arbol)\n",
        "print('')\n",
        "print('Precision 1:')\n",
        "print(l_presicion1_arbol)\n",
        "print('Precision 0:')\n",
        "print(l_presicion0_arbol)\n",
        "print('')\n",
        "print('Recall 1:')\n",
        "print(l_recall1_arbol)\n",
        "print('Recall 0:')\n",
        "print(l_recall0_arbol)\n",
        "print('')\n",
        "print('F_score 1:')\n",
        "print(l_F_score1_arbol)\n",
        "print('F_score 0:')\n",
        "print(l_F_score0_arbol)"
      ]
    },
    {
      "cell_type": "code",
      "execution_count": null,
      "metadata": {
        "colab": {
          "base_uri": "https://localhost:8080/",
          "height": 265
        },
        "id": "ZXY53FXwzjKe",
        "outputId": "dda165d9-6eaf-485d-e667-a3646b9798fa"
      },
      "outputs": [
        {
          "data": {
            "image/png": "[encoded data removed]",
            "text/plain": [
              "<Figure size 432x288 with 1 Axes>"
            ]
          },
          "metadata": {
            "needs_background": "light"
          },
          "output_type": "display_data"
        }
      ],
      "source": [
        "a_pred_proba = AD.predict_proba(X_test)[::,1]\n",
        "fpr, tpr, _ = mt.roc_curve(y_test,  a_pred_proba)\n",
        "auc1 = mt.roc_auc_score(y_test, a_pred_proba)\n",
        "plt.plot(fpr,tpr,label=\"data 1, auc=\"+str(auc1))\n",
        "plt.legend(loc=4)\n",
        "plt.show()"
      ]
    },
    {
      "cell_type": "markdown",
      "metadata": {
        "id": "7xyhOFvk1Abq"
      },
      "source": [
        "# Selección del modelo final (1 pto)"
      ]
    },
    {
      "cell_type": "markdown",
      "metadata": {
        "id": "RU70RTcR0fqi"
      },
      "source": [
        "Usamos K-folds CV para ver el rendimiento de los modelos, luego de generar 10 iteraciones, calculamos la media y la desviación estandar para cada métrica correspondiente.\n",
        "\n",
        "Realizamos esto para una matriz 0:\n",
        "\n",
        "\n",
        "    TN0 = cm[1][1]\n",
        "    FP0 = cm[1][0]\n",
        "    FN0 = cm[0][1]\n",
        "    TP0 = cm[0][0]\n",
        "\n",
        "Y para una matriz 1:\n",
        "\n",
        "\n",
        "    TN1 = cm[0][0] \n",
        "    FP1 = cm[0][1]\n",
        "    FN1 = cm[1][0] \n",
        "    TP1 = cm[1][1]"
      ]
    },
    {
      "cell_type": "code",
      "execution_count": null,
      "metadata": {
        "id": "E3C3i_7xe7Dd"
      },
      "outputs": [],
      "source": [
        "lrp0=round(statistics.mean(l_presicion0_regresion),2)\n",
        "nbp0=round(statistics.mean(l_presicion0_naive),2)\n",
        "adp0=round(statistics.mean(l_presicion0_arbol),2)\n",
        "lrpd0=round(statistics.pstdev(l_presicion0_regresion),5)\n",
        "nbpd0=round(statistics.pstdev(l_presicion0_naive),5)\n",
        "adpd0=round(statistics.pstdev(l_presicion0_arbol),5)\n",
        "lrr0=round(statistics.mean(l_recall0_regresion),2)\n",
        "nbr0=round(statistics.mean(l_recall0_naive),2)\n",
        "adr0=round(statistics.mean(l_recall0_arbol),2)\n",
        "lrrd0=round(statistics.pstdev(l_recall0_regresion),5)\n",
        "nbrd0=round(statistics.pstdev(l_recall0_naive),5)\n",
        "adrd0=round(statistics.pstdev(l_recall0_arbol),5)\n",
        "lrf0=float(round(statistics.mean(l_F_score0_regresion),2))\n",
        "nbf0=float(round(statistics.mean(l_F_score0_naive),2))\n",
        "adf0=float(round(statistics.mean(l_F_score0_arbol),2))\n",
        "lrfd0=round(statistics.pstdev(l_F_score0_regresion),5)\n",
        "nbfd0=round(statistics.pstdev(l_F_score0_naive),5)\n",
        "adfd0=round(statistics.pstdev(l_F_score0_arbol),5)"
      ]
    },
    {
      "cell_type": "code",
      "execution_count": null,
      "metadata": {
        "id": "lvAg7t_WYFsX"
      },
      "outputs": [],
      "source": [
        "lrp=round(statistics.mean(l_presicion1_regresion),2)\n",
        "nbp=round(statistics.mean(l_presicion1_naive),2)\n",
        "adp=round(statistics.mean(l_presicion1_arbol),2)\n",
        "lrpd=round(statistics.pstdev(l_presicion1_regresion),5)\n",
        "nbpd=round(statistics.pstdev(l_presicion1_naive),5)\n",
        "adpd=round(statistics.pstdev(l_presicion1_arbol),5)\n",
        "lrr=round(statistics.mean(l_recall1_regresion),2)\n",
        "nbr=round(statistics.mean(l_recall1_naive),2)\n",
        "adr=round(statistics.mean(l_recall1_arbol),2)\n",
        "lrrd=round(statistics.pstdev(l_recall1_regresion),5)\n",
        "nbrd=round(statistics.pstdev(l_recall1_naive),5)\n",
        "adrd=round(statistics.pstdev(l_recall1_arbol),5)\n",
        "lrf=float(round(statistics.mean(l_F_score1_regresion),2))\n",
        "nbf=float(round(statistics.mean(l_F_score1_naive),2))\n",
        "adf=float(round(statistics.mean(l_F_score1_arbol),2))\n",
        "lrfd=round(statistics.pstdev(l_F_score1_regresion),5)\n",
        "nbfd=round(statistics.pstdev(l_F_score1_naive),5)\n",
        "adfd=round(statistics.pstdev(l_F_score1_arbol),5)\n",
        "lra=round(statistics.mean(l_accuracy_regresion),2)\n",
        "nba=round(statistics.mean(l_accuracy_naive),2)\n",
        "ada=round(statistics.mean(l_accuracy_arbol),2)\n",
        "auc1=round(auc1,5)\n",
        "auc2=round(auc2,5)\n",
        "auc3=round(auc3,5)"
      ]
    },
    {
      "cell_type": "markdown",
      "metadata": {
        "id": "hJ1hjHa4hZRH"
      },
      "source": [
        "Ahora veremos los resultados para cada matriz"
      ]
    },
    {
      "cell_type": "code",
      "execution_count": null,
      "metadata": {
        "colab": {
          "base_uri": "https://localhost:8080/",
          "height": 559
        },
        "id": "E8wGrZJDfWyl",
        "outputId": "c0253a47-2366-4cc3-920d-6bfeaa7127ef"
      },
      "outputs": [
        {
          "name": "stdout",
          "output_type": "stream",
          "text": [
            "Para la matriz 0: \n"
          ]
        },
        {
          "data": {
            "text/html": [
              "<html>\n",
              "<head><meta charset=\"utf-8\" /></head>\n",
              "<body>\n",
              "    <div>            <script src=\"https://cdnjs.cloudflare.com/ajax/libs/mathjax/2.7.5/MathJax.js?config=TeX-AMS-MML_SVG\"></script><script type=\"text/javascript\">if (window.MathJax) {MathJax.Hub.Config({SVG: {font: \"STIX-Web\"}});}</script>                <script type=\"text/javascript\">window.PlotlyConfig = {MathJaxConfig: 'local'};</script>\n",
              "        <script src=\"https://cdn.plot.ly/plotly-2.8.3.min.js\"></script>                <div id=\"7d8d6ef6-30d8-4331-b045-aa602fdb478a\" class=\"plotly-graph-div\" style=\"height:525px; width:100%;\"></div>            <script type=\"text/javascript\">                                    window.PLOTLYENV=window.PLOTLYENV || {};                                    if (document.getElementById(\"7d8d6ef6-30d8-4331-b045-aa602fdb478a\")) {                    Plotly.newPlot(                        \"7d8d6ef6-30d8-4331-b045-aa602fdb478a\",                        [{\"cells\":{\"values\":[[\"Regresi\\u00f3n log\\u00edstica\",\"Naive Bayes\",\"\\u00c1rbol de Decisi\\u00f3n\"],[0.53,0.46,0.5],[0.0097,0.00502,0.00425],[0.06,0.16,0.34],[0.00115,0.00281,0.005],[0.1,0.24,0.4],[0.00201,0.00351,0.0043]]},\"header\":{\"values\":[\"\",\"Precision Media\",\"Precision Dstd\",\"Recall Media\",\"Recall Dstd\",\"F1_score Media\",\"F1_score Dstd\"]},\"type\":\"table\"}],                        {\"template\":{\"data\":{\"bar\":[{\"error_x\":{\"color\":\"#2a3f5f\"},\"error_y\":{\"color\":\"#2a3f5f\"},\"marker\":{\"line\":{\"color\":\"#E5ECF6\",\"width\":0.5},\"pattern\":{\"fillmode\":\"overlay\",\"size\":10,\"solidity\":0.2}},\"type\":\"bar\"}],\"barpolar\":[{\"marker\":{\"line\":{\"color\":\"#E5ECF6\",\"width\":0.5},\"pattern\":{\"fillmode\":\"overlay\",\"size\":10,\"solidity\":0.2}},\"type\":\"barpolar\"}],\"carpet\":[{\"aaxis\":{\"endlinecolor\":\"#2a3f5f\",\"gridcolor\":\"white\",\"linecolor\":\"white\",\"minorgridcolor\":\"white\",\"startlinecolor\":\"#2a3f5f\"},\"baxis\":{\"endlinecolor\":\"#2a3f5f\",\"gridcolor\":\"white\",\"linecolor\":\"white\",\"minorgridcolor\":\"white\",\"startlinecolor\":\"#2a3f5f\"},\"type\":\"carpet\"}],\"choropleth\":[{\"colorbar\":{\"outlinewidth\":0,\"ticks\":\"\"},\"type\":\"choropleth\"}],\"contour\":[{\"colorbar\":{\"outlinewidth\":0,\"ticks\":\"\"},\"colorscale\":[[0.0,\"#0d0887\"],[0.1111111111111111,\"#46039f\"],[0.2222222222222222,\"#7201a8\"],[0.3333333333333333,\"#9c179e\"],[0.4444444444444444,\"#bd3786\"],[0.5555555555555556,\"#d8576b\"],[0.6666666666666666,\"#ed7953\"],[0.7777777777777778,\"#fb9f3a\"],[0.8888888888888888,\"#fdca26\"],[1.0,\"#f0f921\"]],\"type\":\"contour\"}],\"contourcarpet\":[{\"colorbar\":{\"outlinewidth\":0,\"ticks\":\"\"},\"type\":\"contourcarpet\"}],\"heatmap\":[{\"colorbar\":{\"outlinewidth\":0,\"ticks\":\"\"},\"colorscale\":[[0.0,\"#0d0887\"],[0.1111111111111111,\"#46039f\"],[0.2222222222222222,\"#7201a8\"],[0.3333333333333333,\"#9c179e\"],[0.4444444444444444,\"#bd3786\"],[0.5555555555555556,\"#d8576b\"],[0.6666666666666666,\"#ed7953\"],[0.7777777777777778,\"#fb9f3a\"],[0.8888888888888888,\"#fdca26\"],[1.0,\"#f0f921\"]],\"type\":\"heatmap\"}],\"heatmapgl\":[{\"colorbar\":{\"outlinewidth\":0,\"ticks\":\"\"},\"colorscale\":[[0.0,\"#0d0887\"],[0.1111111111111111,\"#46039f\"],[0.2222222222222222,\"#7201a8\"],[0.3333333333333333,\"#9c179e\"],[0.4444444444444444,\"#bd3786\"],[0.5555555555555556,\"#d8576b\"],[0.6666666666666666,\"#ed7953\"],[0.7777777777777778,\"#fb9f3a\"],[0.8888888888888888,\"#fdca26\"],[1.0,\"#f0f921\"]],\"type\":\"heatmapgl\"}],\"histogram\":[{\"marker\":{\"pattern\":{\"fillmode\":\"overlay\",\"size\":10,\"solidity\":0.2}},\"type\":\"histogram\"}],\"histogram2d\":[{\"colorbar\":{\"outlinewidth\":0,\"ticks\":\"\"},\"colorscale\":[[0.0,\"#0d0887\"],[0.1111111111111111,\"#46039f\"],[0.2222222222222222,\"#7201a8\"],[0.3333333333333333,\"#9c179e\"],[0.4444444444444444,\"#bd3786\"],[0.5555555555555556,\"#d8576b\"],[0.6666666666666666,\"#ed7953\"],[0.7777777777777778,\"#fb9f3a\"],[0.8888888888888888,\"#fdca26\"],[1.0,\"#f0f921\"]],\"type\":\"histogram2d\"}],\"histogram2dcontour\":[{\"colorbar\":{\"outlinewidth\":0,\"ticks\":\"\"},\"colorscale\":[[0.0,\"#0d0887\"],[0.1111111111111111,\"#46039f\"],[0.2222222222222222,\"#7201a8\"],[0.3333333333333333,\"#9c179e\"],[0.4444444444444444,\"#bd3786\"],[0.5555555555555556,\"#d8576b\"],[0.6666666666666666,\"#ed7953\"],[0.7777777777777778,\"#fb9f3a\"],[0.8888888888888888,\"#fdca26\"],[1.0,\"#f0f921\"]],\"type\":\"histogram2dcontour\"}],\"mesh3d\":[{\"colorbar\":{\"outlinewidth\":0,\"ticks\":\"\"},\"type\":\"mesh3d\"}],\"parcoords\":[{\"line\":{\"colorbar\":{\"outlinewidth\":0,\"ticks\":\"\"}},\"type\":\"parcoords\"}],\"pie\":[{\"automargin\":true,\"type\":\"pie\"}],\"scatter\":[{\"marker\":{\"colorbar\":{\"outlinewidth\":0,\"ticks\":\"\"}},\"type\":\"scatter\"}],\"scatter3d\":[{\"line\":{\"colorbar\":{\"outlinewidth\":0,\"ticks\":\"\"}},\"marker\":{\"colorbar\":{\"outlinewidth\":0,\"ticks\":\"\"}},\"type\":\"scatter3d\"}],\"scattercarpet\":[{\"marker\":{\"colorbar\":{\"outlinewidth\":0,\"ticks\":\"\"}},\"type\":\"scattercarpet\"}],\"scattergeo\":[{\"marker\":{\"colorbar\":{\"outlinewidth\":0,\"ticks\":\"\"}},\"type\":\"scattergeo\"}],\"scattergl\":[{\"marker\":{\"colorbar\":{\"outlinewidth\":0,\"ticks\":\"\"}},\"type\":\"scattergl\"}],\"scattermapbox\":[{\"marker\":{\"colorbar\":{\"outlinewidth\":0,\"ticks\":\"\"}},\"type\":\"scattermapbox\"}],\"scatterpolar\":[{\"marker\":{\"colorbar\":{\"outlinewidth\":0,\"ticks\":\"\"}},\"type\":\"scatterpolar\"}],\"scatterpolargl\":[{\"marker\":{\"colorbar\":{\"outlinewidth\":0,\"ticks\":\"\"}},\"type\":\"scatterpolargl\"}],\"scatterternary\":[{\"marker\":{\"colorbar\":{\"outlinewidth\":0,\"ticks\":\"\"}},\"type\":\"scatterternary\"}],\"surface\":[{\"colorbar\":{\"outlinewidth\":0,\"ticks\":\"\"},\"colorscale\":[[0.0,\"#0d0887\"],[0.1111111111111111,\"#46039f\"],[0.2222222222222222,\"#7201a8\"],[0.3333333333333333,\"#9c179e\"],[0.4444444444444444,\"#bd3786\"],[0.5555555555555556,\"#d8576b\"],[0.6666666666666666,\"#ed7953\"],[0.7777777777777778,\"#fb9f3a\"],[0.8888888888888888,\"#fdca26\"],[1.0,\"#f0f921\"]],\"type\":\"surface\"}],\"table\":[{\"cells\":{\"fill\":{\"color\":\"#EBF0F8\"},\"line\":{\"color\":\"white\"}},\"header\":{\"fill\":{\"color\":\"#C8D4E3\"},\"line\":{\"color\":\"white\"}},\"type\":\"table\"}]},\"layout\":{\"annotationdefaults\":{\"arrowcolor\":\"#2a3f5f\",\"arrowhead\":0,\"arrowwidth\":1},\"autotypenumbers\":\"strict\",\"coloraxis\":{\"colorbar\":{\"outlinewidth\":0,\"ticks\":\"\"}},\"colorscale\":{\"diverging\":[[0,\"#8e0152\"],[0.1,\"#c51b7d\"],[0.2,\"#de77ae\"],[0.3,\"#f1b6da\"],[0.4,\"#fde0ef\"],[0.5,\"#f7f7f7\"],[0.6,\"#e6f5d0\"],[0.7,\"#b8e186\"],[0.8,\"#7fbc41\"],[0.9,\"#4d9221\"],[1,\"#276419\"]],\"sequential\":[[0.0,\"#0d0887\"],[0.1111111111111111,\"#46039f\"],[0.2222222222222222,\"#7201a8\"],[0.3333333333333333,\"#9c179e\"],[0.4444444444444444,\"#bd3786\"],[0.5555555555555556,\"#d8576b\"],[0.6666666666666666,\"#ed7953\"],[0.7777777777777778,\"#fb9f3a\"],[0.8888888888888888,\"#fdca26\"],[1.0,\"#f0f921\"]],\"sequentialminus\":[[0.0,\"#0d0887\"],[0.1111111111111111,\"#46039f\"],[0.2222222222222222,\"#7201a8\"],[0.3333333333333333,\"#9c179e\"],[0.4444444444444444,\"#bd3786\"],[0.5555555555555556,\"#d8576b\"],[0.6666666666666666,\"#ed7953\"],[0.7777777777777778,\"#fb9f3a\"],[0.8888888888888888,\"#fdca26\"],[1.0,\"#f0f921\"]]},\"colorway\":[\"#636efa\",\"#EF553B\",\"#00cc96\",\"#ab63fa\",\"#FFA15A\",\"#19d3f3\",\"#FF6692\",\"#B6E880\",\"#FF97FF\",\"#FECB52\"],\"font\":{\"color\":\"#2a3f5f\"},\"geo\":{\"bgcolor\":\"white\",\"lakecolor\":\"white\",\"landcolor\":\"#E5ECF6\",\"showlakes\":true,\"showland\":true,\"subunitcolor\":\"white\"},\"hoverlabel\":{\"align\":\"left\"},\"hovermode\":\"closest\",\"mapbox\":{\"style\":\"light\"},\"paper_bgcolor\":\"white\",\"plot_bgcolor\":\"#E5ECF6\",\"polar\":{\"angularaxis\":{\"gridcolor\":\"white\",\"linecolor\":\"white\",\"ticks\":\"\"},\"bgcolor\":\"#E5ECF6\",\"radialaxis\":{\"gridcolor\":\"white\",\"linecolor\":\"white\",\"ticks\":\"\"}},\"scene\":{\"xaxis\":{\"backgroundcolor\":\"#E5ECF6\",\"gridcolor\":\"white\",\"gridwidth\":2,\"linecolor\":\"white\",\"showbackground\":true,\"ticks\":\"\",\"zerolinecolor\":\"white\"},\"yaxis\":{\"backgroundcolor\":\"#E5ECF6\",\"gridcolor\":\"white\",\"gridwidth\":2,\"linecolor\":\"white\",\"showbackground\":true,\"ticks\":\"\",\"zerolinecolor\":\"white\"},\"zaxis\":{\"backgroundcolor\":\"#E5ECF6\",\"gridcolor\":\"white\",\"gridwidth\":2,\"linecolor\":\"white\",\"showbackground\":true,\"ticks\":\"\",\"zerolinecolor\":\"white\"}},\"shapedefaults\":{\"line\":{\"color\":\"#2a3f5f\"}},\"ternary\":{\"aaxis\":{\"gridcolor\":\"white\",\"linecolor\":\"white\",\"ticks\":\"\"},\"baxis\":{\"gridcolor\":\"white\",\"linecolor\":\"white\",\"ticks\":\"\"},\"bgcolor\":\"#E5ECF6\",\"caxis\":{\"gridcolor\":\"white\",\"linecolor\":\"white\",\"ticks\":\"\"}},\"title\":{\"x\":0.05},\"xaxis\":{\"automargin\":true,\"gridcolor\":\"white\",\"linecolor\":\"white\",\"ticks\":\"\",\"title\":{\"standoff\":15},\"zerolinecolor\":\"white\",\"zerolinewidth\":2},\"yaxis\":{\"automargin\":true,\"gridcolor\":\"white\",\"linecolor\":\"white\",\"ticks\":\"\",\"title\":{\"standoff\":15},\"zerolinecolor\":\"white\",\"zerolinewidth\":2}}}},                        {\"responsive\": true}                    ).then(function(){\n",
              "                            \n",
              "var gd = document.getElementById('7d8d6ef6-30d8-4331-b045-aa602fdb478a');\n",
              "var x = new MutationObserver(function (mutations, observer) {{\n",
              "        var display = window.getComputedStyle(gd).display;\n",
              "        if (!display || display === 'none') {{\n",
              "            console.log([gd, 'removed!']);\n",
              "            Plotly.purge(gd);\n",
              "            observer.disconnect();\n",
              "        }}\n",
              "}});\n",
              "\n",
              "// Listen for the removal of the full notebook cells\n",
              "var notebookContainer = gd.closest('#notebook-container');\n",
              "if (notebookContainer) {{\n",
              "    x.observe(notebookContainer, {childList: true});\n",
              "}}\n",
              "\n",
              "// Listen for the clearing of the current output cell\n",
              "var outputEl = gd.closest('.output');\n",
              "if (outputEl) {{\n",
              "    x.observe(outputEl, {childList: true});\n",
              "}}\n",
              "\n",
              "                        })                };                            </script>        </div>\n",
              "</body>\n",
              "</html>"
            ]
          },
          "metadata": {},
          "output_type": "display_data"
        }
      ],
      "source": [
        "fig = go.Figure(data=[go.Table( \n",
        "    header=dict(values=['', \"Precision Media\", \"Precision Dstd\",\"Recall Media\", \"Recall Dstd\",\"F1_score Media\",\"F1_score Dstd\"]), \n",
        "    cells=dict(values=[['Regresión logística', \"Naive Bayes\",\"Árbol de Decisión\"],\n",
        "                       [lrp0,nbp0,adp0],\n",
        "                       [lrpd0,nbpd0,adpd0],\n",
        "                       [lrr0,nbr0,adr0],\n",
        "                       [lrrd0,nbrd0,adrd0],\n",
        "                       [lrf0,nbf0,adf0],\n",
        "                       [lrfd0,nbfd0,adfd0],\n",
        "                      ])) \n",
        "]) \n",
        "print(\"Para la matriz 0: \")\n",
        "fig.show() "
      ]
    },
    {
      "cell_type": "code",
      "execution_count": null,
      "metadata": {
        "colab": {
          "base_uri": "https://localhost:8080/",
          "height": 559
        },
        "id": "wM_VqkF1actu",
        "outputId": "24711c1d-6be6-4857-c6df-69ba6ad49a5d"
      },
      "outputs": [
        {
          "name": "stdout",
          "output_type": "stream",
          "text": [
            "Para la matriz 1: \n"
          ]
        },
        {
          "data": {
            "text/html": [
              "<html>\n",
              "<head><meta charset=\"utf-8\" /></head>\n",
              "<body>\n",
              "    <div>            <script src=\"https://cdnjs.cloudflare.com/ajax/libs/mathjax/2.7.5/MathJax.js?config=TeX-AMS-MML_SVG\"></script><script type=\"text/javascript\">if (window.MathJax) {MathJax.Hub.Config({SVG: {font: \"STIX-Web\"}});}</script>                <script type=\"text/javascript\">window.PlotlyConfig = {MathJaxConfig: 'local'};</script>\n",
              "        <script src=\"https://cdn.plot.ly/plotly-2.8.3.min.js\"></script>                <div id=\"e54b41e4-4cf1-4701-9de3-dc9dffc3e53b\" class=\"plotly-graph-div\" style=\"height:525px; width:100%;\"></div>            <script type=\"text/javascript\">                                    window.PLOTLYENV=window.PLOTLYENV || {};                                    if (document.getElementById(\"e54b41e4-4cf1-4701-9de3-dc9dffc3e53b\")) {                    Plotly.newPlot(                        \"e54b41e4-4cf1-4701-9de3-dc9dffc3e53b\",                        [{\"cells\":{\"values\":[[\"Regresi\\u00f3n log\\u00edstica\",\"Naive Bayes\",\"\\u00c1rbol de Decisi\\u00f3n\"],[0.66,0.67,0.7],[0.00158,0.00165,0.00204],[0.97,0.9,0.82],[0.00065,0.00129,0.00269],[0.79,0.77,0.76],[0.0011,0.00089,0.00152],[0.66,0.65,0.66],[0.61624,0.59585,0.61692]]},\"header\":{\"values\":[\"\",\"Precision Media\",\"Precision Dstd\",\"Recall Media\",\"Recall Dstd\",\"F1_score Media\",\"F1_score Dstd\",\"Accuracy\",\"AUC\"]},\"type\":\"table\"}],                        {\"template\":{\"data\":{\"bar\":[{\"error_x\":{\"color\":\"#2a3f5f\"},\"error_y\":{\"color\":\"#2a3f5f\"},\"marker\":{\"line\":{\"color\":\"#E5ECF6\",\"width\":0.5},\"pattern\":{\"fillmode\":\"overlay\",\"size\":10,\"solidity\":0.2}},\"type\":\"bar\"}],\"barpolar\":[{\"marker\":{\"line\":{\"color\":\"#E5ECF6\",\"width\":0.5},\"pattern\":{\"fillmode\":\"overlay\",\"size\":10,\"solidity\":0.2}},\"type\":\"barpolar\"}],\"carpet\":[{\"aaxis\":{\"endlinecolor\":\"#2a3f5f\",\"gridcolor\":\"white\",\"linecolor\":\"white\",\"minorgridcolor\":\"white\",\"startlinecolor\":\"#2a3f5f\"},\"baxis\":{\"endlinecolor\":\"#2a3f5f\",\"gridcolor\":\"white\",\"linecolor\":\"white\",\"minorgridcolor\":\"white\",\"startlinecolor\":\"#2a3f5f\"},\"type\":\"carpet\"}],\"choropleth\":[{\"colorbar\":{\"outlinewidth\":0,\"ticks\":\"\"},\"type\":\"choropleth\"}],\"contour\":[{\"colorbar\":{\"outlinewidth\":0,\"ticks\":\"\"},\"colorscale\":[[0.0,\"#0d0887\"],[0.1111111111111111,\"#46039f\"],[0.2222222222222222,\"#7201a8\"],[0.3333333333333333,\"#9c179e\"],[0.4444444444444444,\"#bd3786\"],[0.5555555555555556,\"#d8576b\"],[0.6666666666666666,\"#ed7953\"],[0.7777777777777778,\"#fb9f3a\"],[0.8888888888888888,\"#fdca26\"],[1.0,\"#f0f921\"]],\"type\":\"contour\"}],\"contourcarpet\":[{\"colorbar\":{\"outlinewidth\":0,\"ticks\":\"\"},\"type\":\"contourcarpet\"}],\"heatmap\":[{\"colorbar\":{\"outlinewidth\":0,\"ticks\":\"\"},\"colorscale\":[[0.0,\"#0d0887\"],[0.1111111111111111,\"#46039f\"],[0.2222222222222222,\"#7201a8\"],[0.3333333333333333,\"#9c179e\"],[0.4444444444444444,\"#bd3786\"],[0.5555555555555556,\"#d8576b\"],[0.6666666666666666,\"#ed7953\"],[0.7777777777777778,\"#fb9f3a\"],[0.8888888888888888,\"#fdca26\"],[1.0,\"#f0f921\"]],\"type\":\"heatmap\"}],\"heatmapgl\":[{\"colorbar\":{\"outlinewidth\":0,\"ticks\":\"\"},\"colorscale\":[[0.0,\"#0d0887\"],[0.1111111111111111,\"#46039f\"],[0.2222222222222222,\"#7201a8\"],[0.3333333333333333,\"#9c179e\"],[0.4444444444444444,\"#bd3786\"],[0.5555555555555556,\"#d8576b\"],[0.6666666666666666,\"#ed7953\"],[0.7777777777777778,\"#fb9f3a\"],[0.8888888888888888,\"#fdca26\"],[1.0,\"#f0f921\"]],\"type\":\"heatmapgl\"}],\"histogram\":[{\"marker\":{\"pattern\":{\"fillmode\":\"overlay\",\"size\":10,\"solidity\":0.2}},\"type\":\"histogram\"}],\"histogram2d\":[{\"colorbar\":{\"outlinewidth\":0,\"ticks\":\"\"},\"colorscale\":[[0.0,\"#0d0887\"],[0.1111111111111111,\"#46039f\"],[0.2222222222222222,\"#7201a8\"],[0.3333333333333333,\"#9c179e\"],[0.4444444444444444,\"#bd3786\"],[0.5555555555555556,\"#d8576b\"],[0.6666666666666666,\"#ed7953\"],[0.7777777777777778,\"#fb9f3a\"],[0.8888888888888888,\"#fdca26\"],[1.0,\"#f0f921\"]],\"type\":\"histogram2d\"}],\"histogram2dcontour\":[{\"colorbar\":{\"outlinewidth\":0,\"ticks\":\"\"},\"colorscale\":[[0.0,\"#0d0887\"],[0.1111111111111111,\"#46039f\"],[0.2222222222222222,\"#7201a8\"],[0.3333333333333333,\"#9c179e\"],[0.4444444444444444,\"#bd3786\"],[0.5555555555555556,\"#d8576b\"],[0.6666666666666666,\"#ed7953\"],[0.7777777777777778,\"#fb9f3a\"],[0.8888888888888888,\"#fdca26\"],[1.0,\"#f0f921\"]],\"type\":\"histogram2dcontour\"}],\"mesh3d\":[{\"colorbar\":{\"outlinewidth\":0,\"ticks\":\"\"},\"type\":\"mesh3d\"}],\"parcoords\":[{\"line\":{\"colorbar\":{\"outlinewidth\":0,\"ticks\":\"\"}},\"type\":\"parcoords\"}],\"pie\":[{\"automargin\":true,\"type\":\"pie\"}],\"scatter\":[{\"marker\":{\"colorbar\":{\"outlinewidth\":0,\"ticks\":\"\"}},\"type\":\"scatter\"}],\"scatter3d\":[{\"line\":{\"colorbar\":{\"outlinewidth\":0,\"ticks\":\"\"}},\"marker\":{\"colorbar\":{\"outlinewidth\":0,\"ticks\":\"\"}},\"type\":\"scatter3d\"}],\"scattercarpet\":[{\"marker\":{\"colorbar\":{\"outlinewidth\":0,\"ticks\":\"\"}},\"type\":\"scattercarpet\"}],\"scattergeo\":[{\"marker\":{\"colorbar\":{\"outlinewidth\":0,\"ticks\":\"\"}},\"type\":\"scattergeo\"}],\"scattergl\":[{\"marker\":{\"colorbar\":{\"outlinewidth\":0,\"ticks\":\"\"}},\"type\":\"scattergl\"}],\"scattermapbox\":[{\"marker\":{\"colorbar\":{\"outlinewidth\":0,\"ticks\":\"\"}},\"type\":\"scattermapbox\"}],\"scatterpolar\":[{\"marker\":{\"colorbar\":{\"outlinewidth\":0,\"ticks\":\"\"}},\"type\":\"scatterpolar\"}],\"scatterpolargl\":[{\"marker\":{\"colorbar\":{\"outlinewidth\":0,\"ticks\":\"\"}},\"type\":\"scatterpolargl\"}],\"scatterternary\":[{\"marker\":{\"colorbar\":{\"outlinewidth\":0,\"ticks\":\"\"}},\"type\":\"scatterternary\"}],\"surface\":[{\"colorbar\":{\"outlinewidth\":0,\"ticks\":\"\"},\"colorscale\":[[0.0,\"#0d0887\"],[0.1111111111111111,\"#46039f\"],[0.2222222222222222,\"#7201a8\"],[0.3333333333333333,\"#9c179e\"],[0.4444444444444444,\"#bd3786\"],[0.5555555555555556,\"#d8576b\"],[0.6666666666666666,\"#ed7953\"],[0.7777777777777778,\"#fb9f3a\"],[0.8888888888888888,\"#fdca26\"],[1.0,\"#f0f921\"]],\"type\":\"surface\"}],\"table\":[{\"cells\":{\"fill\":{\"color\":\"#EBF0F8\"},\"line\":{\"color\":\"white\"}},\"header\":{\"fill\":{\"color\":\"#C8D4E3\"},\"line\":{\"color\":\"white\"}},\"type\":\"table\"}]},\"layout\":{\"annotationdefaults\":{\"arrowcolor\":\"#2a3f5f\",\"arrowhead\":0,\"arrowwidth\":1},\"autotypenumbers\":\"strict\",\"coloraxis\":{\"colorbar\":{\"outlinewidth\":0,\"ticks\":\"\"}},\"colorscale\":{\"diverging\":[[0,\"#8e0152\"],[0.1,\"#c51b7d\"],[0.2,\"#de77ae\"],[0.3,\"#f1b6da\"],[0.4,\"#fde0ef\"],[0.5,\"#f7f7f7\"],[0.6,\"#e6f5d0\"],[0.7,\"#b8e186\"],[0.8,\"#7fbc41\"],[0.9,\"#4d9221\"],[1,\"#276419\"]],\"sequential\":[[0.0,\"#0d0887\"],[0.1111111111111111,\"#46039f\"],[0.2222222222222222,\"#7201a8\"],[0.3333333333333333,\"#9c179e\"],[0.4444444444444444,\"#bd3786\"],[0.5555555555555556,\"#d8576b\"],[0.6666666666666666,\"#ed7953\"],[0.7777777777777778,\"#fb9f3a\"],[0.8888888888888888,\"#fdca26\"],[1.0,\"#f0f921\"]],\"sequentialminus\":[[0.0,\"#0d0887\"],[0.1111111111111111,\"#46039f\"],[0.2222222222222222,\"#7201a8\"],[0.3333333333333333,\"#9c179e\"],[0.4444444444444444,\"#bd3786\"],[0.5555555555555556,\"#d8576b\"],[0.6666666666666666,\"#ed7953\"],[0.7777777777777778,\"#fb9f3a\"],[0.8888888888888888,\"#fdca26\"],[1.0,\"#f0f921\"]]},\"colorway\":[\"#636efa\",\"#EF553B\",\"#00cc96\",\"#ab63fa\",\"#FFA15A\",\"#19d3f3\",\"#FF6692\",\"#B6E880\",\"#FF97FF\",\"#FECB52\"],\"font\":{\"color\":\"#2a3f5f\"},\"geo\":{\"bgcolor\":\"white\",\"lakecolor\":\"white\",\"landcolor\":\"#E5ECF6\",\"showlakes\":true,\"showland\":true,\"subunitcolor\":\"white\"},\"hoverlabel\":{\"align\":\"left\"},\"hovermode\":\"closest\",\"mapbox\":{\"style\":\"light\"},\"paper_bgcolor\":\"white\",\"plot_bgcolor\":\"#E5ECF6\",\"polar\":{\"angularaxis\":{\"gridcolor\":\"white\",\"linecolor\":\"white\",\"ticks\":\"\"},\"bgcolor\":\"#E5ECF6\",\"radialaxis\":{\"gridcolor\":\"white\",\"linecolor\":\"white\",\"ticks\":\"\"}},\"scene\":{\"xaxis\":{\"backgroundcolor\":\"#E5ECF6\",\"gridcolor\":\"white\",\"gridwidth\":2,\"linecolor\":\"white\",\"showbackground\":true,\"ticks\":\"\",\"zerolinecolor\":\"white\"},\"yaxis\":{\"backgroundcolor\":\"#E5ECF6\",\"gridcolor\":\"white\",\"gridwidth\":2,\"linecolor\":\"white\",\"showbackground\":true,\"ticks\":\"\",\"zerolinecolor\":\"white\"},\"zaxis\":{\"backgroundcolor\":\"#E5ECF6\",\"gridcolor\":\"white\",\"gridwidth\":2,\"linecolor\":\"white\",\"showbackground\":true,\"ticks\":\"\",\"zerolinecolor\":\"white\"}},\"shapedefaults\":{\"line\":{\"color\":\"#2a3f5f\"}},\"ternary\":{\"aaxis\":{\"gridcolor\":\"white\",\"linecolor\":\"white\",\"ticks\":\"\"},\"baxis\":{\"gridcolor\":\"white\",\"linecolor\":\"white\",\"ticks\":\"\"},\"bgcolor\":\"#E5ECF6\",\"caxis\":{\"gridcolor\":\"white\",\"linecolor\":\"white\",\"ticks\":\"\"}},\"title\":{\"x\":0.05},\"xaxis\":{\"automargin\":true,\"gridcolor\":\"white\",\"linecolor\":\"white\",\"ticks\":\"\",\"title\":{\"standoff\":15},\"zerolinecolor\":\"white\",\"zerolinewidth\":2},\"yaxis\":{\"automargin\":true,\"gridcolor\":\"white\",\"linecolor\":\"white\",\"ticks\":\"\",\"title\":{\"standoff\":15},\"zerolinecolor\":\"white\",\"zerolinewidth\":2}}}},                        {\"responsive\": true}                    ).then(function(){\n",
              "                            \n",
              "var gd = document.getElementById('e54b41e4-4cf1-4701-9de3-dc9dffc3e53b');\n",
              "var x = new MutationObserver(function (mutations, observer) {{\n",
              "        var display = window.getComputedStyle(gd).display;\n",
              "        if (!display || display === 'none') {{\n",
              "            console.log([gd, 'removed!']);\n",
              "            Plotly.purge(gd);\n",
              "            observer.disconnect();\n",
              "        }}\n",
              "}});\n",
              "\n",
              "// Listen for the removal of the full notebook cells\n",
              "var notebookContainer = gd.closest('#notebook-container');\n",
              "if (notebookContainer) {{\n",
              "    x.observe(notebookContainer, {childList: true});\n",
              "}}\n",
              "\n",
              "// Listen for the clearing of the current output cell\n",
              "var outputEl = gd.closest('.output');\n",
              "if (outputEl) {{\n",
              "    x.observe(outputEl, {childList: true});\n",
              "}}\n",
              "\n",
              "                        })                };                            </script>        </div>\n",
              "</body>\n",
              "</html>"
            ]
          },
          "metadata": {},
          "output_type": "display_data"
        }
      ],
      "source": [
        "fig = go.Figure(data=[go.Table( \n",
        "    header=dict(values=['', \"Precision Media\", \"Precision Dstd\",\"Recall Media\", \"Recall Dstd\",\"F1_score Media\",\"F1_score Dstd\", \"Accuracy\",\"AUC\"]), \n",
        "    cells=dict(values=[['Regresión logística', \"Naive Bayes\",\"Árbol de Decisión\"],\n",
        "                       [lrp,nbp,adp],\n",
        "                       [lrpd,nbpd,adpd],\n",
        "                       [lrr,nbr,adr],\n",
        "                       [lrrd,nbrd,adrd],\n",
        "                       [lrf,nbf,adf],\n",
        "                       [lrfd,nbfd,adfd],\n",
        "                       [lra,nba,ada],\n",
        "                       [auc1,auc2,auc3]])) \n",
        "]) \n",
        "print(\"Para la matriz 1: \")\n",
        "fig.show() "
      ]
    },
    {
      "cell_type": "markdown",
      "metadata": {
        "id": "kxhtmtkMIPCL"
      },
      "source": [
        "Según lo que podemos observar en la tabla, decidimos seleccionar el modelo de árbol de decisión debido a que este selecciona las mejores variables/atributos para la predicción, además de que separa los puntos según la variable. En adicción a esto, tenemos el beneficio de que al no tener problemas con los datos atípicos no tiene un sesgo con los datos, esto se puede apreciar en la tabla, específicamente en las columnas de media, lo que nos indica la clase positiva para cada caso. Si bien el modelo de regresión logística tiene un F1_score y un acurracy más alto que los otros,notamos que tiene un sesgo con los datos ya que, la matriz muestra una precisión de 66% y un recall de 97%, es decir, que solo esta identificando la clase noshow igual a 1, la cual indica que la persona no llego a subirse al avión."
      ]
    },
    {
      "cell_type": "markdown",
      "metadata": {
        "id": "0ReV8p1nLuBZ"
      },
      "source": [
        "# Evaluación de la segunda base de datos basado en la variable binaria no-show (1.5 pts)"
      ]
    },
    {
      "cell_type": "code",
      "execution_count": null,
      "metadata": {
        "id": "hUAe5oNJ1Xb5"
      },
      "outputs": [],
      "source": [
        "vuelos2 = pd.read_csv(\"ALUMNOS-evalData.csv\")"
      ]
    },
    {
      "cell_type": "code",
      "execution_count": null,
      "metadata": {
        "id": "M3R7JQGJ9r5A"
      },
      "outputs": [],
      "source": [
        "Dataeval = vuelos2[[\"bookings\", \"distance\", \"pax_high\", \"pax_midhigh\",\n",
        "                     \"pax_midlow\", \"pax_low\", \"pax_freqflyer\", \"group_bookings\",\n",
        "                    \"dom_cnx\", \"int_cnx\", \"p2p\"]]"
      ]
    },
    {
      "cell_type": "code",
      "execution_count": null,
      "metadata": {
        "colab": {
          "base_uri": "https://localhost:8080/",
          "height": 424
        },
        "id": "03YyAbLW94SQ",
        "outputId": "5cd454c7-aa1a-4041-84d5-a95032e00687"
      },
      "outputs": [
        {
          "data": {
            "text/html": [
              "\n",
              "  <div id=\"df-1b04f074-f3e7-4a77-aadb-c64b28c2bf37\">\n",
              "    <div class=\"colab-df-container\">\n",
              "      <div>\n",
              "<style scoped>\n",
              "    .dataframe tbody tr th:only-of-type {\n",
              "        vertical-align: middle;\n",
              "    }\n",
              "\n",
              "    .dataframe tbody tr th {\n",
              "        vertical-align: top;\n",
              "    }\n",
              "\n",
              "    .dataframe thead th {\n",
              "        text-align: right;\n",
              "    }\n",
              "</style>\n",
              "<table border=\"1\" class=\"dataframe\">\n",
              "  <thead>\n",
              "    <tr style=\"text-align: right;\">\n",
              "      <th></th>\n",
              "      <th>bookings</th>\n",
              "      <th>distance</th>\n",
              "      <th>pax_high</th>\n",
              "      <th>pax_midhigh</th>\n",
              "      <th>pax_midlow</th>\n",
              "      <th>pax_low</th>\n",
              "      <th>pax_freqflyer</th>\n",
              "      <th>group_bookings</th>\n",
              "      <th>dom_cnx</th>\n",
              "      <th>int_cnx</th>\n",
              "      <th>p2p</th>\n",
              "    </tr>\n",
              "  </thead>\n",
              "  <tbody>\n",
              "    <tr>\n",
              "      <th>0</th>\n",
              "      <td>232</td>\n",
              "      <td>989</td>\n",
              "      <td>2</td>\n",
              "      <td>0</td>\n",
              "      <td>143</td>\n",
              "      <td>82</td>\n",
              "      <td>5</td>\n",
              "      <td>5</td>\n",
              "      <td>53</td>\n",
              "      <td>0</td>\n",
              "      <td>179</td>\n",
              "    </tr>\n",
              "    <tr>\n",
              "      <th>1</th>\n",
              "      <td>126</td>\n",
              "      <td>849</td>\n",
              "      <td>0</td>\n",
              "      <td>2</td>\n",
              "      <td>62</td>\n",
              "      <td>62</td>\n",
              "      <td>0</td>\n",
              "      <td>0</td>\n",
              "      <td>0</td>\n",
              "      <td>0</td>\n",
              "      <td>126</td>\n",
              "    </tr>\n",
              "    <tr>\n",
              "      <th>2</th>\n",
              "      <td>284</td>\n",
              "      <td>3464</td>\n",
              "      <td>6</td>\n",
              "      <td>0</td>\n",
              "      <td>136</td>\n",
              "      <td>113</td>\n",
              "      <td>29</td>\n",
              "      <td>0</td>\n",
              "      <td>0</td>\n",
              "      <td>138</td>\n",
              "      <td>146</td>\n",
              "    </tr>\n",
              "    <tr>\n",
              "      <th>3</th>\n",
              "      <td>76</td>\n",
              "      <td>1125</td>\n",
              "      <td>0</td>\n",
              "      <td>0</td>\n",
              "      <td>32</td>\n",
              "      <td>26</td>\n",
              "      <td>18</td>\n",
              "      <td>0</td>\n",
              "      <td>1</td>\n",
              "      <td>0</td>\n",
              "      <td>75</td>\n",
              "    </tr>\n",
              "    <tr>\n",
              "      <th>4</th>\n",
              "      <td>76</td>\n",
              "      <td>375</td>\n",
              "      <td>0</td>\n",
              "      <td>0</td>\n",
              "      <td>35</td>\n",
              "      <td>30</td>\n",
              "      <td>11</td>\n",
              "      <td>0</td>\n",
              "      <td>5</td>\n",
              "      <td>0</td>\n",
              "      <td>71</td>\n",
              "    </tr>\n",
              "    <tr>\n",
              "      <th>...</th>\n",
              "      <td>...</td>\n",
              "      <td>...</td>\n",
              "      <td>...</td>\n",
              "      <td>...</td>\n",
              "      <td>...</td>\n",
              "      <td>...</td>\n",
              "      <td>...</td>\n",
              "      <td>...</td>\n",
              "      <td>...</td>\n",
              "      <td>...</td>\n",
              "      <td>...</td>\n",
              "    </tr>\n",
              "    <tr>\n",
              "      <th>248875</th>\n",
              "      <td>63</td>\n",
              "      <td>366</td>\n",
              "      <td>1</td>\n",
              "      <td>4</td>\n",
              "      <td>52</td>\n",
              "      <td>0</td>\n",
              "      <td>6</td>\n",
              "      <td>0</td>\n",
              "      <td>17</td>\n",
              "      <td>0</td>\n",
              "      <td>46</td>\n",
              "    </tr>\n",
              "    <tr>\n",
              "      <th>248876</th>\n",
              "      <td>325</td>\n",
              "      <td>9520</td>\n",
              "      <td>3</td>\n",
              "      <td>3</td>\n",
              "      <td>159</td>\n",
              "      <td>136</td>\n",
              "      <td>24</td>\n",
              "      <td>0</td>\n",
              "      <td>0</td>\n",
              "      <td>136</td>\n",
              "      <td>189</td>\n",
              "    </tr>\n",
              "    <tr>\n",
              "      <th>248877</th>\n",
              "      <td>47</td>\n",
              "      <td>1008</td>\n",
              "      <td>1</td>\n",
              "      <td>0</td>\n",
              "      <td>4</td>\n",
              "      <td>10</td>\n",
              "      <td>32</td>\n",
              "      <td>0</td>\n",
              "      <td>6</td>\n",
              "      <td>4</td>\n",
              "      <td>37</td>\n",
              "    </tr>\n",
              "    <tr>\n",
              "      <th>248878</th>\n",
              "      <td>210</td>\n",
              "      <td>2696</td>\n",
              "      <td>3</td>\n",
              "      <td>5</td>\n",
              "      <td>82</td>\n",
              "      <td>63</td>\n",
              "      <td>57</td>\n",
              "      <td>1</td>\n",
              "      <td>59</td>\n",
              "      <td>11</td>\n",
              "      <td>140</td>\n",
              "    </tr>\n",
              "    <tr>\n",
              "      <th>248879</th>\n",
              "      <td>145</td>\n",
              "      <td>1996</td>\n",
              "      <td>0</td>\n",
              "      <td>2</td>\n",
              "      <td>132</td>\n",
              "      <td>0</td>\n",
              "      <td>11</td>\n",
              "      <td>0</td>\n",
              "      <td>0</td>\n",
              "      <td>27</td>\n",
              "      <td>118</td>\n",
              "    </tr>\n",
              "  </tbody>\n",
              "</table>\n",
              "<p>248880 rows × 11 columns</p>\n",
              "</div>\n",
              "      <button class=\"colab-df-convert\" onclick=\"convertToInteractive('df-1b04f074-f3e7-4a77-aadb-c64b28c2bf37')\"\n",
              "              title=\"Convert this dataframe to an interactive table.\"\n",
              "              style=\"display:none;\">\n",
              "        \n",
              "  <svg xmlns=\"http://www.w3.org/2000/svg\" height=\"24px\"viewBox=\"0 0 24 24\"\n",
              "       width=\"24px\">\n",
              "    <path d=\"M0 0h24v24H0V0z\" fill=\"none\"/>\n",
              "    <path d=\"M18.56 5.44l.94 2.06.94-2.06 2.06-.94-2.06-.94-.94-2.06-.94 2.06-2.06.94zm-11 1L8.5 8.5l.94-2.06 2.06-.94-2.06-.94L8.5 2.5l-.94 2.06-2.06.94zm10 10l.94 2.06.94-2.06 2.06-.94-2.06-.94-.94-2.06-.94 2.06-2.06.94z\"/><path d=\"M17.41 7.96l-1.37-1.37c-.4-.4-.92-.59-1.43-.59-.52 0-1.04.2-1.43.59L10.3 9.45l-7.72 7.72c-.78.78-.78 2.05 0 2.83L4 21.41c.39.39.9.59 1.41.59.51 0 1.02-.2 1.41-.59l7.78-7.78 2.81-2.81c.8-.78.8-2.07 0-2.86zM5.41 20L4 18.59l7.72-7.72 1.47 1.35L5.41 20z\"/>\n",
              "  </svg>\n",
              "      </button>\n",
              "      \n",
              "  <style>\n",
              "    .colab-df-container {\n",
              "      display:flex;\n",
              "      flex-wrap:wrap;\n",
              "      gap: 12px;\n",
              "    }\n",
              "\n",
              "    .colab-df-convert {\n",
              "      background-color: #E8F0FE;\n",
              "      border: none;\n",
              "      border-radius: 50%;\n",
              "      cursor: pointer;\n",
              "      display: none;\n",
              "      fill: #1967D2;\n",
              "      height: 32px;\n",
              "      padding: 0 0 0 0;\n",
              "      width: 32px;\n",
              "    }\n",
              "\n",
              "    .colab-df-convert:hover {\n",
              "      background-color: #E2EBFA;\n",
              "      box-shadow: 0px 1px 2px rgba(60, 64, 67, 0.3), 0px 1px 3px 1px rgba(60, 64, 67, 0.15);\n",
              "      fill: #174EA6;\n",
              "    }\n",
              "\n",
              "    [theme=dark] .colab-df-convert {\n",
              "      background-color: #3B4455;\n",
              "      fill: #D2E3FC;\n",
              "    }\n",
              "\n",
              "    [theme=dark] .colab-df-convert:hover {\n",
              "      background-color: #434B5C;\n",
              "      box-shadow: 0px 1px 3px 1px rgba(0, 0, 0, 0.15);\n",
              "      filter: drop-shadow(0px 1px 2px rgba(0, 0, 0, 0.3));\n",
              "      fill: #FFFFFF;\n",
              "    }\n",
              "  </style>\n",
              "\n",
              "      <script>\n",
              "        const buttonEl =\n",
              "          document.querySelector('#df-1b04f074-f3e7-4a77-aadb-c64b28c2bf37 button.colab-df-convert');\n",
              "        buttonEl.style.display =\n",
              "          google.colab.kernel.accessAllowed ? 'block' : 'none';\n",
              "\n",
              "        async function convertToInteractive(key) {\n",
              "          const element = document.querySelector('#df-1b04f074-f3e7-4a77-aadb-c64b28c2bf37');\n",
              "          const dataTable =\n",
              "            await google.colab.kernel.invokeFunction('convertToInteractive',\n",
              "                                                     [key], {});\n",
              "          if (!dataTable) return;\n",
              "\n",
              "          const docLinkHtml = 'Like what you see? Visit the ' +\n",
              "            '<a target=\"_blank\" href=https://colab.research.google.com/notebooks/data_table.ipynb>data table notebook</a>'\n",
              "            + ' to learn more about interactive tables.';\n",
              "          element.innerHTML = '';\n",
              "          dataTable['output_type'] = 'display_data';\n",
              "          await google.colab.output.renderOutput(dataTable, element);\n",
              "          const docLink = document.createElement('div');\n",
              "          docLink.innerHTML = docLinkHtml;\n",
              "          element.appendChild(docLink);\n",
              "        }\n",
              "      </script>\n",
              "    </div>\n",
              "  </div>\n",
              "  "
            ],
            "text/plain": [
              "        bookings  distance  pax_high  pax_midhigh  pax_midlow  pax_low  \\\n",
              "0            232       989         2            0         143       82   \n",
              "1            126       849         0            2          62       62   \n",
              "2            284      3464         6            0         136      113   \n",
              "3             76      1125         0            0          32       26   \n",
              "4             76       375         0            0          35       30   \n",
              "...          ...       ...       ...          ...         ...      ...   \n",
              "248875        63       366         1            4          52        0   \n",
              "248876       325      9520         3            3         159      136   \n",
              "248877        47      1008         1            0           4       10   \n",
              "248878       210      2696         3            5          82       63   \n",
              "248879       145      1996         0            2         132        0   \n",
              "\n",
              "        pax_freqflyer  group_bookings  dom_cnx  int_cnx  p2p  \n",
              "0                   5               5       53        0  179  \n",
              "1                   0               0        0        0  126  \n",
              "2                  29               0        0      138  146  \n",
              "3                  18               0        1        0   75  \n",
              "4                  11               0        5        0   71  \n",
              "...               ...             ...      ...      ...  ...  \n",
              "248875              6               0       17        0   46  \n",
              "248876             24               0        0      136  189  \n",
              "248877             32               0        6        4   37  \n",
              "248878             57               1       59       11  140  \n",
              "248879             11               0        0       27  118  \n",
              "\n",
              "[248880 rows x 11 columns]"
            ]
          },
          "execution_count": 198,
          "metadata": {},
          "output_type": "execute_result"
        }
      ],
      "source": [
        "Dataeval"
      ]
    },
    {
      "cell_type": "code",
      "execution_count": null,
      "metadata": {
        "colab": {
          "base_uri": "https://localhost:8080/"
        },
        "id": "ftmYUrEc9XpZ",
        "outputId": "39690cfe-2f8b-4b58-8ca0-8ef8667359ce"
      },
      "outputs": [
        {
          "name": "stdout",
          "output_type": "stream",
          "text": [
            "Resultado de la predicción:\n",
            " [1. 1. 1. ... 1. 1. 0.]\n"
          ]
        }
      ],
      "source": [
        "probModeloLRnuevo=AD.predict(Dataeval) #Predecimos los nuevos datos\n",
        "print(\"Resultado de la predicción:\\n\",probModeloLRnuevo) #Imprimimos los valores predichos"
      ]
    },
    {
      "cell_type": "code",
      "execution_count": null,
      "metadata": {
        "id": "_-4LaQQNUiFa"
      },
      "outputs": [],
      "source": [
        "df_no_show0 = {'no_show': probModeloLRnuevo}\n",
        "df_no_show= pd.DataFrame(df_no_show0)"
      ]
    },
    {
      "cell_type": "code",
      "execution_count": null,
      "metadata": {
        "colab": {
          "base_uri": "https://localhost:8080/"
        },
        "id": "Gdl1UVB-Dy3u",
        "outputId": "4b2ea4f1-db8e-4b05-a684-32adef16e242"
      },
      "outputs": [
        {
          "name": "stdout",
          "output_type": "stream",
          "text": [
            "190636\n"
          ]
        }
      ],
      "source": [
        "x=0\n",
        "for i in range(0,248880):\n",
        "  if df_no_show[\"no_show\"].iloc[i]==1.0:\n",
        "    x=x+1\n",
        "print(x)\n",
        "#Vemos cuántos no show hay predichos en nuestra nueva base de datos"
      ]
    },
    {
      "cell_type": "code",
      "execution_count": null,
      "metadata": {
        "colab": {
          "base_uri": "https://localhost:8080/"
        },
        "id": "FaWnJPPwE9zR",
        "outputId": "82974d5c-c13c-4110-f28a-4b51fd21b889"
      },
      "outputs": [
        {
          "data": {
            "text/plain": [
              "0.7659755705560913"
            ]
          },
          "execution_count": 202,
          "metadata": {},
          "output_type": "execute_result"
        }
      ],
      "source": [
        "porcentajenoshoweval=x/248880\n",
        "porcentajenoshoweval\n",
        "#Calculamos el porcentaje de no show / total de datos"
      ]
    },
    {
      "cell_type": "code",
      "execution_count": null,
      "metadata": {
        "id": "eTVFPOCfMLgX"
      },
      "outputs": [],
      "source": [
        "df_no_show.to_csv(\"columna_no_show.csv\") #Descargar csv con la columna solicitada"
      ]
    }
  ],
  "metadata": {
    "colab": {
      "collapsed_sections": [
        "Hesxw6kOK8qb",
        "ktCxESf11q8-",
        "ykRCsEp1K8qc",
        "Ow4Yi32TLjzF",
        "7xyhOFvk1Abq"
      ],
      "provenance": []
    },
    "kernelspec": {
      "display_name": "Python 3",
      "language": "python",
      "name": "python3"
    },
    "language_info": {
      "name": "python",
      "version": "3.10.8 (main, Oct 12 2022, 00:00:00) [GCC 12.2.1 20220819 (Red Hat 12.2.1-2)]"
    },
    "vscode": {
      "interpreter": {
        "hash": "e7370f93d1d0cde622a1f8e1c04877d8463912d04d973331ad4851f04de6915a"
      }
    }
  },
  "nbformat": 4,
  "nbformat_minor": 0
}
