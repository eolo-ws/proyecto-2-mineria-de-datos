{
 "cells": [
  {
   "cell_type": "markdown",
   "metadata": {},
   "source": [
    "\n",
    "# Minería de Datos - Proyecto 2 \n",
    "----\n",
    "#### Integrantes:\n",
    "1. Benjamín Cordero\n",
    "2. Jaime Torres\n",
    "3. Camila Retamales\n",
    "4. Jose Flores\n",
    "5. Joaquin Cortes\n",
    "\n",
    "----\n",
    "\n",
    "#### Introduccíon\n",
    "\n",
    "A continuacion se analizara el dataset [Credit Card Approval Prediction](https://www.kaggle.com/datasets/rikdifos/credit-card-approval-prediction) el cual consiste en dos archivos .csv que contienen la informacion de aplicacion para tarjetas de credito y el credit score de cada aplicante.\n",
    "\n",
    "----\n",
    "\n",
    "#### Problema\n",
    "\n",
    "El objetivo de este analisis sera predecir si el aplicante a la tarjeta de credito es \"bueno\" o \"malo\" para esto se deberan utilizar modelos de machine learning. La definicion de bueno o malo sera definida luego de analizar los datos del dataset. \n",
    "En resumen se debe generar un analisis de clasificacion binaria en el dataset.\n",
    "\n",
    "----\n"
   ]
  },
  {
   "cell_type": "code",
   "execution_count": 170,
   "metadata": {},
   "outputs": [],
   "source": [
    "import pandas as pd\n",
    "import numpy as np\n",
    "import os\n",
    "import seaborn as sns\n",
    "import matplotlib.pyplot as plt\n",
    "import datetime\n",
    "from datetime import timedelta"
   ]
  },
  {
   "cell_type": "code",
   "execution_count": 171,
   "metadata": {},
   "outputs": [
    {
     "name": "stdout",
     "output_type": "stream",
     "text": [
      "DataFrame 1 de 438557 filas y 18 columnas.\n",
      "DataFrame 2 de 1048575 filas y 3 columnas.\n"
     ]
    }
   ],
   "source": [
    "# Base de datos\n",
    "filepath1 = os.getcwd() + os.path.sep + \"application_record.csv\"\n",
    "filepath2 = os.getcwd() + os.path.sep + \"credit_record.csv\"\n",
    "application_record = pd.read_csv(filepath1,delimiter=',')\n",
    "credit_record = pd.read_csv(filepath2,delimiter=',')\n",
    "# Observamos cuantos datos y columnas tenemos\n",
    "print(f\"DataFrame 1 de {application_record.shape[0]} filas y {application_record.shape[1]} columnas.\")\n",
    "print(f\"DataFrame 2 de {credit_record.shape[0]} filas y {credit_record.shape[1]} columnas.\")"
   ]
  },
  {
   "cell_type": "code",
   "execution_count": 172,
   "metadata": {},
   "outputs": [
    {
     "data": {
      "text/html": [
       "<div>\n",
       "<style scoped>\n",
       "    .dataframe tbody tr th:only-of-type {\n",
       "        vertical-align: middle;\n",
       "    }\n",
       "\n",
       "    .dataframe tbody tr th {\n",
       "        vertical-align: top;\n",
       "    }\n",
       "\n",
       "    .dataframe thead th {\n",
       "        text-align: right;\n",
       "    }\n",
       "</style>\n",
       "<table border=\"1\" class=\"dataframe\">\n",
       "  <thead>\n",
       "    <tr style=\"text-align: right;\">\n",
       "      <th></th>\n",
       "      <th>ID</th>\n",
       "      <th>CODE_GENDER</th>\n",
       "      <th>FLAG_OWN_CAR</th>\n",
       "      <th>FLAG_OWN_REALTY</th>\n",
       "      <th>CNT_CHILDREN</th>\n",
       "      <th>AMT_INCOME_TOTAL</th>\n",
       "      <th>NAME_INCOME_TYPE</th>\n",
       "      <th>NAME_EDUCATION_TYPE</th>\n",
       "      <th>NAME_FAMILY_STATUS</th>\n",
       "      <th>NAME_HOUSING_TYPE</th>\n",
       "      <th>DAYS_BIRTH</th>\n",
       "      <th>DAYS_EMPLOYED</th>\n",
       "      <th>FLAG_MOBIL</th>\n",
       "      <th>FLAG_WORK_PHONE</th>\n",
       "      <th>FLAG_PHONE</th>\n",
       "      <th>FLAG_EMAIL</th>\n",
       "      <th>OCCUPATION_TYPE</th>\n",
       "      <th>CNT_FAM_MEMBERS</th>\n",
       "    </tr>\n",
       "  </thead>\n",
       "  <tbody>\n",
       "    <tr>\n",
       "      <th>0</th>\n",
       "      <td>5008804</td>\n",
       "      <td>M</td>\n",
       "      <td>Y</td>\n",
       "      <td>Y</td>\n",
       "      <td>0</td>\n",
       "      <td>427500.0</td>\n",
       "      <td>Working</td>\n",
       "      <td>Higher education</td>\n",
       "      <td>Civil marriage</td>\n",
       "      <td>Rented apartment</td>\n",
       "      <td>-12005</td>\n",
       "      <td>-4542</td>\n",
       "      <td>1</td>\n",
       "      <td>1</td>\n",
       "      <td>0</td>\n",
       "      <td>0</td>\n",
       "      <td>NaN</td>\n",
       "      <td>2.0</td>\n",
       "    </tr>\n",
       "    <tr>\n",
       "      <th>1</th>\n",
       "      <td>5008805</td>\n",
       "      <td>M</td>\n",
       "      <td>Y</td>\n",
       "      <td>Y</td>\n",
       "      <td>0</td>\n",
       "      <td>427500.0</td>\n",
       "      <td>Working</td>\n",
       "      <td>Higher education</td>\n",
       "      <td>Civil marriage</td>\n",
       "      <td>Rented apartment</td>\n",
       "      <td>-12005</td>\n",
       "      <td>-4542</td>\n",
       "      <td>1</td>\n",
       "      <td>1</td>\n",
       "      <td>0</td>\n",
       "      <td>0</td>\n",
       "      <td>NaN</td>\n",
       "      <td>2.0</td>\n",
       "    </tr>\n",
       "    <tr>\n",
       "      <th>2</th>\n",
       "      <td>5008806</td>\n",
       "      <td>M</td>\n",
       "      <td>Y</td>\n",
       "      <td>Y</td>\n",
       "      <td>0</td>\n",
       "      <td>112500.0</td>\n",
       "      <td>Working</td>\n",
       "      <td>Secondary / secondary special</td>\n",
       "      <td>Married</td>\n",
       "      <td>House / apartment</td>\n",
       "      <td>-21474</td>\n",
       "      <td>-1134</td>\n",
       "      <td>1</td>\n",
       "      <td>0</td>\n",
       "      <td>0</td>\n",
       "      <td>0</td>\n",
       "      <td>Security staff</td>\n",
       "      <td>2.0</td>\n",
       "    </tr>\n",
       "    <tr>\n",
       "      <th>3</th>\n",
       "      <td>5008808</td>\n",
       "      <td>F</td>\n",
       "      <td>N</td>\n",
       "      <td>Y</td>\n",
       "      <td>0</td>\n",
       "      <td>270000.0</td>\n",
       "      <td>Commercial associate</td>\n",
       "      <td>Secondary / secondary special</td>\n",
       "      <td>Single / not married</td>\n",
       "      <td>House / apartment</td>\n",
       "      <td>-19110</td>\n",
       "      <td>-3051</td>\n",
       "      <td>1</td>\n",
       "      <td>0</td>\n",
       "      <td>1</td>\n",
       "      <td>1</td>\n",
       "      <td>Sales staff</td>\n",
       "      <td>1.0</td>\n",
       "    </tr>\n",
       "    <tr>\n",
       "      <th>4</th>\n",
       "      <td>5008809</td>\n",
       "      <td>F</td>\n",
       "      <td>N</td>\n",
       "      <td>Y</td>\n",
       "      <td>0</td>\n",
       "      <td>270000.0</td>\n",
       "      <td>Commercial associate</td>\n",
       "      <td>Secondary / secondary special</td>\n",
       "      <td>Single / not married</td>\n",
       "      <td>House / apartment</td>\n",
       "      <td>-19110</td>\n",
       "      <td>-3051</td>\n",
       "      <td>1</td>\n",
       "      <td>0</td>\n",
       "      <td>1</td>\n",
       "      <td>1</td>\n",
       "      <td>Sales staff</td>\n",
       "      <td>1.0</td>\n",
       "    </tr>\n",
       "  </tbody>\n",
       "</table>\n",
       "</div>"
      ],
      "text/plain": [
       "        ID CODE_GENDER FLAG_OWN_CAR FLAG_OWN_REALTY  CNT_CHILDREN  \\\n",
       "0  5008804           M            Y               Y             0   \n",
       "1  5008805           M            Y               Y             0   \n",
       "2  5008806           M            Y               Y             0   \n",
       "3  5008808           F            N               Y             0   \n",
       "4  5008809           F            N               Y             0   \n",
       "\n",
       "   AMT_INCOME_TOTAL      NAME_INCOME_TYPE            NAME_EDUCATION_TYPE  \\\n",
       "0          427500.0               Working               Higher education   \n",
       "1          427500.0               Working               Higher education   \n",
       "2          112500.0               Working  Secondary / secondary special   \n",
       "3          270000.0  Commercial associate  Secondary / secondary special   \n",
       "4          270000.0  Commercial associate  Secondary / secondary special   \n",
       "\n",
       "     NAME_FAMILY_STATUS  NAME_HOUSING_TYPE  DAYS_BIRTH  DAYS_EMPLOYED  \\\n",
       "0        Civil marriage   Rented apartment      -12005          -4542   \n",
       "1        Civil marriage   Rented apartment      -12005          -4542   \n",
       "2               Married  House / apartment      -21474          -1134   \n",
       "3  Single / not married  House / apartment      -19110          -3051   \n",
       "4  Single / not married  House / apartment      -19110          -3051   \n",
       "\n",
       "   FLAG_MOBIL  FLAG_WORK_PHONE  FLAG_PHONE  FLAG_EMAIL OCCUPATION_TYPE  \\\n",
       "0           1                1           0           0             NaN   \n",
       "1           1                1           0           0             NaN   \n",
       "2           1                0           0           0  Security staff   \n",
       "3           1                0           1           1     Sales staff   \n",
       "4           1                0           1           1     Sales staff   \n",
       "\n",
       "   CNT_FAM_MEMBERS  \n",
       "0              2.0  \n",
       "1              2.0  \n",
       "2              2.0  \n",
       "3              1.0  \n",
       "4              1.0  "
      ]
     },
     "execution_count": 172,
     "metadata": {},
     "output_type": "execute_result"
    }
   ],
   "source": [
    "# Se observó la base de datos\n",
    "application_record.head()"
   ]
  },
  {
   "cell_type": "code",
   "execution_count": 173,
   "metadata": {},
   "outputs": [
    {
     "data": {
      "text/html": [
       "<div>\n",
       "<style scoped>\n",
       "    .dataframe tbody tr th:only-of-type {\n",
       "        vertical-align: middle;\n",
       "    }\n",
       "\n",
       "    .dataframe tbody tr th {\n",
       "        vertical-align: top;\n",
       "    }\n",
       "\n",
       "    .dataframe thead th {\n",
       "        text-align: right;\n",
       "    }\n",
       "</style>\n",
       "<table border=\"1\" class=\"dataframe\">\n",
       "  <thead>\n",
       "    <tr style=\"text-align: right;\">\n",
       "      <th></th>\n",
       "      <th>ID</th>\n",
       "      <th>MONTHS_BALANCE</th>\n",
       "      <th>STATUS</th>\n",
       "    </tr>\n",
       "  </thead>\n",
       "  <tbody>\n",
       "    <tr>\n",
       "      <th>0</th>\n",
       "      <td>5001711</td>\n",
       "      <td>0</td>\n",
       "      <td>X</td>\n",
       "    </tr>\n",
       "    <tr>\n",
       "      <th>1</th>\n",
       "      <td>5001711</td>\n",
       "      <td>-1</td>\n",
       "      <td>0</td>\n",
       "    </tr>\n",
       "    <tr>\n",
       "      <th>2</th>\n",
       "      <td>5001711</td>\n",
       "      <td>-2</td>\n",
       "      <td>0</td>\n",
       "    </tr>\n",
       "    <tr>\n",
       "      <th>3</th>\n",
       "      <td>5001711</td>\n",
       "      <td>-3</td>\n",
       "      <td>0</td>\n",
       "    </tr>\n",
       "    <tr>\n",
       "      <th>4</th>\n",
       "      <td>5001712</td>\n",
       "      <td>0</td>\n",
       "      <td>C</td>\n",
       "    </tr>\n",
       "  </tbody>\n",
       "</table>\n",
       "</div>"
      ],
      "text/plain": [
       "        ID  MONTHS_BALANCE STATUS\n",
       "0  5001711               0      X\n",
       "1  5001711              -1      0\n",
       "2  5001711              -2      0\n",
       "3  5001711              -3      0\n",
       "4  5001712               0      C"
      ]
     },
     "execution_count": 173,
     "metadata": {},
     "output_type": "execute_result"
    }
   ],
   "source": [
    "# Se observó la base de datos \n",
    "credit_record.head()"
   ]
  },
  {
   "cell_type": "markdown",
   "metadata": {},
   "source": [
    "#### Análisis Exploratorio de los datos\n",
    "\n",
    "Se observaran ambos archivos csv para entender que variables poseen cada una de estas.\n",
    "\n",
    "\n",
    "Analisis de las columnas de application_record.csv:\n",
    "\n",
    "1. ID:                  Número de Cliente \t\n",
    "2. CODE_GENDER:         Género \t\n",
    "3. FLAG_OWN_CAR:        Si tiene auto\n",
    "4. FLAG_OWN_REALTY:\t    Si tiene una propiedad\t\n",
    "5. CNT_CHILDREN:        Número de hijos\n",
    "6. AMT_INCOME_TOTAL:    Sueldo anual\n",
    "7. NAME_INCOME_TYPE:    Tipo de Sueldo\t\n",
    "8. NAME_EDUCATION_TYPE: Nivel de educación\t\n",
    "9. NAME_FAMILY_STATUS:  Estado marital\n",
    "10. NAME_HOUSING_TYPE:  Forma de pago de propiedad/vida\t\n",
    "11. DAYS_BIRTH:         Días que se encuentra vivo desde el día 0(hoy) hacia atrás -1 significa ayer.\n",
    "12. DAYS_EMPLOYED:      Día que se inicia su trabajo se cuenta hacia atrás 0(hoy)-1 ayer, si es positivo,  días sin trabajo.\n",
    "13. FLAG_MOBIL:         Si tiene teléfono móvil\n",
    "14. FLAG_WORK_PHONE:    Si tiene teléfono de trabajo\t\n",
    "15. FLAG_PHONE:         Si tiene teléfono fijo\t\n",
    "16. FLAG_EMAIL:         Si tiene email \t\n",
    "17. OCCUPATION_TYPE:    Ocupación\n",
    "18. CNT_FAM_MEMBERS:    Cantidad de miembros familiares\n",
    "\n",
    "Analisis de las columnas de credit_record.csv:\n",
    "\n",
    "1. ID:\t                Número de cliente \t\n",
    "2. MONTHS_BALANCE:\tMes de registro. El mes de los datos extraídos es el punto de partida, al revés, 0 es el mes actual, -1 es el mes anterior, etc.\n",
    "3. STATUS:\t            Estado \n",
    "                        0: 1-29 días de atraso \n",
    "                        1: 30-59 días de atraso \n",
    "                        2: 60-89 días de atraso \n",
    "                        3: 90-119 días de atraso \n",
    "                        4: 120-149 días de atraso \n",
    "                        5: Atrasos o deudas incobrables, cancelaciones por más de 150 días \n",
    "                        C: pagado ese mes X: No hay préstamo para el mes\n",
    "\n",
    "----"
   ]
  },
  {
   "cell_type": "markdown",
   "metadata": {},
   "source": [
    "#### Seleccion y/o extraccion de atributos\n",
    "\n",
    "En esta seccion se analizaran la informacion de cada columna y se limpiara la base de datos en base lo observado."
   ]
  },
  {
   "cell_type": "code",
   "execution_count": 174,
   "metadata": {},
   "outputs": [
    {
     "data": {
      "text/html": [
       "<div>\n",
       "<style scoped>\n",
       "    .dataframe tbody tr th:only-of-type {\n",
       "        vertical-align: middle;\n",
       "    }\n",
       "\n",
       "    .dataframe tbody tr th {\n",
       "        vertical-align: top;\n",
       "    }\n",
       "\n",
       "    .dataframe thead th {\n",
       "        text-align: right;\n",
       "    }\n",
       "</style>\n",
       "<table border=\"1\" class=\"dataframe\">\n",
       "  <thead>\n",
       "    <tr style=\"text-align: right;\">\n",
       "      <th></th>\n",
       "      <th>ID</th>\n",
       "      <th>CODE_GENDER</th>\n",
       "      <th>FLAG_OWN_CAR</th>\n",
       "      <th>FLAG_OWN_REALTY</th>\n",
       "      <th>CNT_CHILDREN</th>\n",
       "      <th>AMT_INCOME_TOTAL</th>\n",
       "      <th>NAME_INCOME_TYPE</th>\n",
       "      <th>NAME_EDUCATION_TYPE</th>\n",
       "      <th>NAME_FAMILY_STATUS</th>\n",
       "      <th>NAME_HOUSING_TYPE</th>\n",
       "      <th>DAYS_BIRTH</th>\n",
       "      <th>DAYS_EMPLOYED</th>\n",
       "      <th>FLAG_MOBIL</th>\n",
       "      <th>FLAG_WORK_PHONE</th>\n",
       "      <th>FLAG_PHONE</th>\n",
       "      <th>FLAG_EMAIL</th>\n",
       "      <th>OCCUPATION_TYPE</th>\n",
       "      <th>CNT_FAM_MEMBERS</th>\n",
       "      <th>MONTHS_BALANCE</th>\n",
       "      <th>STATUS</th>\n",
       "    </tr>\n",
       "  </thead>\n",
       "  <tbody>\n",
       "    <tr>\n",
       "      <th>0</th>\n",
       "      <td>5008804</td>\n",
       "      <td>M</td>\n",
       "      <td>Y</td>\n",
       "      <td>Y</td>\n",
       "      <td>0</td>\n",
       "      <td>427500.0</td>\n",
       "      <td>Working</td>\n",
       "      <td>Higher education</td>\n",
       "      <td>Civil marriage</td>\n",
       "      <td>Rented apartment</td>\n",
       "      <td>-12005</td>\n",
       "      <td>-4542</td>\n",
       "      <td>1</td>\n",
       "      <td>1</td>\n",
       "      <td>0</td>\n",
       "      <td>0</td>\n",
       "      <td>NaN</td>\n",
       "      <td>2.0</td>\n",
       "      <td>0</td>\n",
       "      <td>C</td>\n",
       "    </tr>\n",
       "    <tr>\n",
       "      <th>16</th>\n",
       "      <td>5008805</td>\n",
       "      <td>M</td>\n",
       "      <td>Y</td>\n",
       "      <td>Y</td>\n",
       "      <td>0</td>\n",
       "      <td>427500.0</td>\n",
       "      <td>Working</td>\n",
       "      <td>Higher education</td>\n",
       "      <td>Civil marriage</td>\n",
       "      <td>Rented apartment</td>\n",
       "      <td>-12005</td>\n",
       "      <td>-4542</td>\n",
       "      <td>1</td>\n",
       "      <td>1</td>\n",
       "      <td>0</td>\n",
       "      <td>0</td>\n",
       "      <td>NaN</td>\n",
       "      <td>2.0</td>\n",
       "      <td>0</td>\n",
       "      <td>C</td>\n",
       "    </tr>\n",
       "    <tr>\n",
       "      <th>31</th>\n",
       "      <td>5008806</td>\n",
       "      <td>M</td>\n",
       "      <td>Y</td>\n",
       "      <td>Y</td>\n",
       "      <td>0</td>\n",
       "      <td>112500.0</td>\n",
       "      <td>Working</td>\n",
       "      <td>Secondary / secondary special</td>\n",
       "      <td>Married</td>\n",
       "      <td>House / apartment</td>\n",
       "      <td>-21474</td>\n",
       "      <td>-1134</td>\n",
       "      <td>1</td>\n",
       "      <td>0</td>\n",
       "      <td>0</td>\n",
       "      <td>0</td>\n",
       "      <td>Security staff</td>\n",
       "      <td>2.0</td>\n",
       "      <td>0</td>\n",
       "      <td>C</td>\n",
       "    </tr>\n",
       "    <tr>\n",
       "      <th>61</th>\n",
       "      <td>5008808</td>\n",
       "      <td>F</td>\n",
       "      <td>N</td>\n",
       "      <td>Y</td>\n",
       "      <td>0</td>\n",
       "      <td>270000.0</td>\n",
       "      <td>Commercial associate</td>\n",
       "      <td>Secondary / secondary special</td>\n",
       "      <td>Single / not married</td>\n",
       "      <td>House / apartment</td>\n",
       "      <td>-19110</td>\n",
       "      <td>-3051</td>\n",
       "      <td>1</td>\n",
       "      <td>0</td>\n",
       "      <td>1</td>\n",
       "      <td>1</td>\n",
       "      <td>Sales staff</td>\n",
       "      <td>1.0</td>\n",
       "      <td>0</td>\n",
       "      <td>0</td>\n",
       "    </tr>\n",
       "  </tbody>\n",
       "</table>\n",
       "</div>"
      ],
      "text/plain": [
       "         ID CODE_GENDER FLAG_OWN_CAR FLAG_OWN_REALTY  CNT_CHILDREN  \\\n",
       "0   5008804           M            Y               Y             0   \n",
       "16  5008805           M            Y               Y             0   \n",
       "31  5008806           M            Y               Y             0   \n",
       "61  5008808           F            N               Y             0   \n",
       "\n",
       "    AMT_INCOME_TOTAL      NAME_INCOME_TYPE            NAME_EDUCATION_TYPE  \\\n",
       "0           427500.0               Working               Higher education   \n",
       "16          427500.0               Working               Higher education   \n",
       "31          112500.0               Working  Secondary / secondary special   \n",
       "61          270000.0  Commercial associate  Secondary / secondary special   \n",
       "\n",
       "      NAME_FAMILY_STATUS  NAME_HOUSING_TYPE  DAYS_BIRTH  DAYS_EMPLOYED  \\\n",
       "0         Civil marriage   Rented apartment      -12005          -4542   \n",
       "16        Civil marriage   Rented apartment      -12005          -4542   \n",
       "31               Married  House / apartment      -21474          -1134   \n",
       "61  Single / not married  House / apartment      -19110          -3051   \n",
       "\n",
       "    FLAG_MOBIL  FLAG_WORK_PHONE  FLAG_PHONE  FLAG_EMAIL OCCUPATION_TYPE  \\\n",
       "0            1                1           0           0             NaN   \n",
       "16           1                1           0           0             NaN   \n",
       "31           1                0           0           0  Security staff   \n",
       "61           1                0           1           1     Sales staff   \n",
       "\n",
       "    CNT_FAM_MEMBERS  MONTHS_BALANCE STATUS  \n",
       "0               2.0               0      C  \n",
       "16              2.0               0      C  \n",
       "31              2.0               0      C  \n",
       "61              1.0               0      0  "
      ]
     },
     "execution_count": 174,
     "metadata": {},
     "output_type": "execute_result"
    }
   ],
   "source": [
    "# Unimos las dos bases de datos basándonos en el ID\n",
    "data = application_record.merge(credit_record,how='inner',on=['ID'])\n",
    "# Eliminamos datos duplicados en la columna ID para evitar que nuestros modelos posean datos repetidos\n",
    "data = data.drop_duplicates('ID') \n",
    "data.head(4)"
   ]
  },
  {
   "cell_type": "code",
   "execution_count": 175,
   "metadata": {},
   "outputs": [
    {
     "name": "stdout",
     "output_type": "stream",
     "text": [
      "<class 'pandas.core.frame.DataFrame'>\n",
      "RangeIndex: 438557 entries, 0 to 438556\n",
      "Data columns (total 18 columns):\n",
      " #   Column               Non-Null Count   Dtype  \n",
      "---  ------               --------------   -----  \n",
      " 0   ID                   438557 non-null  int64  \n",
      " 1   CODE_GENDER          438557 non-null  object \n",
      " 2   FLAG_OWN_CAR         438557 non-null  object \n",
      " 3   FLAG_OWN_REALTY      438557 non-null  object \n",
      " 4   CNT_CHILDREN         438557 non-null  int64  \n",
      " 5   AMT_INCOME_TOTAL     438557 non-null  float64\n",
      " 6   NAME_INCOME_TYPE     438557 non-null  object \n",
      " 7   NAME_EDUCATION_TYPE  438557 non-null  object \n",
      " 8   NAME_FAMILY_STATUS   438557 non-null  object \n",
      " 9   NAME_HOUSING_TYPE    438557 non-null  object \n",
      " 10  DAYS_BIRTH           438557 non-null  int64  \n",
      " 11  DAYS_EMPLOYED        438557 non-null  int64  \n",
      " 12  FLAG_MOBIL           438557 non-null  int64  \n",
      " 13  FLAG_WORK_PHONE      438557 non-null  int64  \n",
      " 14  FLAG_PHONE           438557 non-null  int64  \n",
      " 15  FLAG_EMAIL           438557 non-null  int64  \n",
      " 16  OCCUPATION_TYPE      304354 non-null  object \n",
      " 17  CNT_FAM_MEMBERS      438557 non-null  float64\n",
      "dtypes: float64(2), int64(8), object(8)\n",
      "memory usage: 60.2+ MB\n",
      "None\n"
     ]
    }
   ],
   "source": [
    "# Analizamos la información de las columnas para ver si hay datos nulos\n",
    "print(application_record.info())"
   ]
  },
  {
   "cell_type": "markdown",
   "metadata": {},
   "source": [
    "Se puede observar que OCCUPATION_TYPE solo tiene 304354 datos no nulos, por lo que se tendran que rellenar o eliminar la columna de por si."
   ]
  },
  {
   "cell_type": "code",
   "execution_count": 176,
   "metadata": {},
   "outputs": [
    {
     "data": {
      "text/plain": [
       "Laborers                 6211\n",
       "Core staff               3591\n",
       "Sales staff              3485\n",
       "Managers                 3012\n",
       "Drivers                  2138\n",
       "High skill tech staff    1383\n",
       "Accountants              1241\n",
       "Medicine staff           1207\n",
       "Cooking staff             655\n",
       "Security staff            592\n",
       "Cleaning staff            551\n",
       "Private service staff     344\n",
       "Low-skill Laborers        175\n",
       "Waiters/barmen staff      174\n",
       "Secretaries               151\n",
       "HR staff                   85\n",
       "Realty agents              79\n",
       "IT staff                   60\n",
       "Name: OCCUPATION_TYPE, dtype: int64"
      ]
     },
     "execution_count": 176,
     "metadata": {},
     "output_type": "execute_result"
    }
   ],
   "source": [
    "# Analizamos la variable OCCUPATION_TYPE, ya que es la única que tiene valores nulos\n",
    "data['OCCUPATION_TYPE'].value_counts()"
   ]
  },
  {
   "cell_type": "code",
   "execution_count": 177,
   "metadata": {},
   "outputs": [
    {
     "data": {
      "text/plain": [
       "ID                     0\n",
       "CODE_GENDER            0\n",
       "FLAG_OWN_CAR           0\n",
       "FLAG_OWN_REALTY        0\n",
       "CNT_CHILDREN           0\n",
       "AMT_INCOME_TOTAL       0\n",
       "NAME_INCOME_TYPE       0\n",
       "NAME_EDUCATION_TYPE    0\n",
       "NAME_FAMILY_STATUS     0\n",
       "NAME_HOUSING_TYPE      0\n",
       "DAYS_BIRTH             0\n",
       "DAYS_EMPLOYED          0\n",
       "FLAG_MOBIL             0\n",
       "FLAG_WORK_PHONE        0\n",
       "FLAG_PHONE             0\n",
       "FLAG_EMAIL             0\n",
       "OCCUPATION_TYPE        0\n",
       "CNT_FAM_MEMBERS        0\n",
       "MONTHS_BALANCE         0\n",
       "STATUS                 0\n",
       "dtype: int64"
      ]
     },
     "execution_count": 177,
     "metadata": {},
     "output_type": "execute_result"
    }
   ],
   "source": [
    "# Rellenamos los valores de OCCUPATION_TYPE con el valor OTHER\n",
    "data['OCCUPATION_TYPE'].fillna('OTHER',inplace=True)\n",
    "# Se revisa si existe valores nulos\n",
    "data.isnull().sum()"
   ]
  },
  {
   "cell_type": "markdown",
   "metadata": {},
   "source": [
    "Ya no existen valores nulos dentro de OCCUPATION_TYPE."
   ]
  },
  {
   "cell_type": "code",
   "execution_count": 178,
   "metadata": {},
   "outputs": [
    {
     "data": {
      "text/plain": [
       "0"
      ]
     },
     "execution_count": 178,
     "metadata": {},
     "output_type": "execute_result"
    }
   ],
   "source": [
    "# Revisamos si hay valores duplicados\n",
    "data.duplicated().sum()"
   ]
  },
  {
   "cell_type": "code",
   "execution_count": 179,
   "metadata": {},
   "outputs": [
    {
     "name": "stdout",
     "output_type": "stream",
     "text": [
      "<class 'pandas.core.frame.DataFrame'>\n",
      "Int64Index: 36457 entries, 0 to 777701\n",
      "Data columns (total 20 columns):\n",
      " #   Column               Non-Null Count  Dtype  \n",
      "---  ------               --------------  -----  \n",
      " 0   ID                   36457 non-null  int64  \n",
      " 1   CODE_GENDER          36457 non-null  object \n",
      " 2   FLAG_OWN_CAR         36457 non-null  object \n",
      " 3   FLAG_OWN_REALTY      36457 non-null  object \n",
      " 4   CNT_CHILDREN         36457 non-null  int64  \n",
      " 5   AMT_INCOME_TOTAL     36457 non-null  float64\n",
      " 6   NAME_INCOME_TYPE     36457 non-null  object \n",
      " 7   NAME_EDUCATION_TYPE  36457 non-null  object \n",
      " 8   NAME_FAMILY_STATUS   36457 non-null  object \n",
      " 9   NAME_HOUSING_TYPE    36457 non-null  object \n",
      " 10  DAYS_BIRTH           36457 non-null  int64  \n",
      " 11  DAYS_EMPLOYED        36457 non-null  int64  \n",
      " 12  FLAG_MOBIL           36457 non-null  int64  \n",
      " 13  FLAG_WORK_PHONE      36457 non-null  int64  \n",
      " 14  FLAG_PHONE           36457 non-null  int64  \n",
      " 15  FLAG_EMAIL           36457 non-null  int64  \n",
      " 16  OCCUPATION_TYPE      36457 non-null  object \n",
      " 17  CNT_FAM_MEMBERS      36457 non-null  float64\n",
      " 18  MONTHS_BALANCE       36457 non-null  int64  \n",
      " 19  STATUS               36457 non-null  object \n",
      "dtypes: float64(2), int64(9), object(9)\n",
      "memory usage: 5.8+ MB\n"
     ]
    }
   ],
   "source": [
    "data.info()"
   ]
  },
  {
   "cell_type": "markdown",
   "metadata": {},
   "source": [
    "Despues de hacer un merge ambas bases de datos y eliminar los valores repetidos de ID, quedamos con un data set de 36457 datos sin nigun valor duplicado."
   ]
  },
  {
   "cell_type": "code",
   "execution_count": 180,
   "metadata": {},
   "outputs": [
    {
     "data": {
      "image/png": "[encoded data removed]",
      "text/plain": [
       "<Figure size 1440x1440 with 2 Axes>"
      ]
     },
     "metadata": {
      "needs_background": "light"
     },
     "output_type": "display_data"
    }
   ],
   "source": [
    "# Se observo el grafico de correlacion para entender la relacion entre las variables.\n",
    "plt.figure(figsize=(20,20))\n",
    "sns.heatmap(data.corr(), annot=True)\n",
    "plt.show()"
   ]
  },
  {
   "cell_type": "markdown",
   "metadata": {},
   "source": [
    "Como podemos ver en el grafico de correlacion, FLAG_MOBIL no esta relacionada con ninguna otra columna por lo que se eliminara.\n",
    "Tambien se eliminaran las variables FLAG_WORK_PHONE, FLAG_PHONE, FLAG_EMAIL, ID ya que estas no son un gran factor al momento de entregar una tarjeta de credito."
   ]
  },
  {
   "cell_type": "code",
   "execution_count": 181,
   "metadata": {},
   "outputs": [
    {
     "data": {
      "image/png": "[encoded data removed]",
      "text/plain": [
       "<Figure size 1440x1440 with 2 Axes>"
      ]
     },
     "metadata": {
      "needs_background": "light"
     },
     "output_type": "display_data"
    }
   ],
   "source": [
    "# Se eliminan las variables FLAG_WORK_PHONE, FLAG_PHONE, FLAG_EMAIL, ID, NAME_HOUSING_TYPE.\n",
    "data = data.drop('FLAG_MOBIL',axis=1)\n",
    "data = data.drop('FLAG_WORK_PHONE',axis=1)\n",
    "data = data.drop('FLAG_PHONE',axis=1)\n",
    "data = data.drop('FLAG_EMAIL',axis=1)\n",
    "data = data.drop('ID',axis=1)\n",
    "# Se puede observar el grafico de correlacion despues de que se eliminaron las variables anteriores.\n",
    "plt.figure(figsize=(20,20))\n",
    "sns.heatmap(data.corr(), annot=True)\n",
    "plt.show()"
   ]
  },
  {
   "cell_type": "code",
   "execution_count": 182,
   "metadata": {},
   "outputs": [
    {
     "name": "stdout",
     "output_type": "stream",
     "text": [
      "<class 'pandas.core.frame.DataFrame'>\n",
      "Int64Index: 36457 entries, 0 to 777701\n",
      "Data columns (total 15 columns):\n",
      " #   Column               Non-Null Count  Dtype  \n",
      "---  ------               --------------  -----  \n",
      " 0   CODE_GENDER          36457 non-null  object \n",
      " 1   FLAG_OWN_CAR         36457 non-null  object \n",
      " 2   FLAG_OWN_REALTY      36457 non-null  object \n",
      " 3   CNT_CHILDREN         36457 non-null  int64  \n",
      " 4   AMT_INCOME_TOTAL     36457 non-null  float64\n",
      " 5   NAME_INCOME_TYPE     36457 non-null  object \n",
      " 6   NAME_EDUCATION_TYPE  36457 non-null  object \n",
      " 7   NAME_FAMILY_STATUS   36457 non-null  object \n",
      " 8   NAME_HOUSING_TYPE    36457 non-null  object \n",
      " 9   DAYS_BIRTH           36457 non-null  int64  \n",
      " 10  DAYS_EMPLOYED        36457 non-null  int64  \n",
      " 11  OCCUPATION_TYPE      36457 non-null  object \n",
      " 12  CNT_FAM_MEMBERS      36457 non-null  float64\n",
      " 13  MONTHS_BALANCE       36457 non-null  int64  \n",
      " 14  STATUS               36457 non-null  object \n",
      "dtypes: float64(2), int64(4), object(9)\n",
      "memory usage: 4.5+ MB\n"
     ]
    }
   ],
   "source": [
    "data.info()"
   ]
  },
  {
   "cell_type": "markdown",
   "metadata": {},
   "source": [
    "#### Manipulacion de las variables.\n",
    "\n",
    "Esta manipulacion entregara una mejor performance al momento de aplicar nuestros modelos supervisados.\n",
    "\n",
    "Las variables CODE_GENDER, FLAG_OWN_CAR y FLAG_OWN_REALITY son variables binarias, por lo que se deben transformar a 0 y 1 respectivamente.\n",
    "\n",
    "Las variables NAME_EDUCATION_TYPE Y NAME_FAMILY_STATUS, se puede observar valores como \"Secondary / secondary special\" y \"Single / not married\" estos se simplificaran a \"secondary\" y \"single\" respectivamente.\n",
    "\n",
    "Las variables DAYS_BIRTH y DAYS_EMPLOYED son variables de fecha las cuales estan en formato de dias, por lo que se transformaran a un formato de fecha. Tambien se creara apartir de estas una columna \"AGE\" la cual entregara la edad del postulante y reemplazara la columna DAYS_BIRTH, tambien se creara\n",
    "\n",
    "La variable STATUS se modifica cambiando los valores de C y X a 6 y 7 y luego se filtran los valores de las categorias en RISKY para valores 2,3,4 y 5 y NOT RISKY para el resto de los valores, esta sera la *clasificacion binaria*.\n",
    "\n",
    "botamos la variable OCCUPATION_TYPE ya que no es relevante saber el tipo de trabajo que tiene el postulante.\n",
    "\n",
    "## Referencia\n",
    "Credit_Card_Approval. (2022, October 6). Kaggle. \n",
    "[Credit Card Approval Analisis](https://www.kaggle.com/code/saurav12suman/credit-card-approval#Feature-Engineering)\n",
    "\n"
   ]
  },
  {
   "cell_type": "code",
   "execution_count": 183,
   "metadata": {},
   "outputs": [],
   "source": [
    "# Cambiamos estas columnas a binario\n",
    "male = pd.get_dummies(data['CODE_GENDER'],drop_first=True)\n",
    "car = pd.get_dummies(data['FLAG_OWN_CAR'],drop_first=True)\n",
    "Property = pd.get_dummies(data['FLAG_OWN_REALTY'],drop_first=True)\n",
    "\n",
    "male = male.rename({'M': 'IS_MALE'}, axis=1)\n",
    "car = car.rename({'Y': 'HAS_CAR'}, axis=1)\n",
    "Property = Property.rename({'Y': 'HAS_PROPERTY'}, axis=1)\n",
    "\n",
    "data.drop(['CODE_GENDER','FLAG_OWN_CAR','FLAG_OWN_REALTY'],inplace=True,axis=1)\n",
    "\n",
    "# Simplificacion de variables\n",
    "\n",
    "#estas funciones renombran algunos de\n",
    "#las valores de las variables NAME_EDUCATION_TYPE Y NAME_FAMILY_ESTATUS\n",
    "def education(x):\n",
    "    if x=='Secondary / secondary special':\n",
    "        x=x.split(' / ')[0]\n",
    "    return x\n",
    "\n",
    "data['NAME_EDUCATION_TYPE']=data['NAME_EDUCATION_TYPE'].apply(education)\n",
    "def fun(x):\n",
    "    if x=='Single / not married':\n",
    "        x=x.split(' / ')[0]\n",
    "    return x\n",
    "\n",
    "data['NAME_FAMILY_STATUS']=data['NAME_FAMILY_STATUS'].apply(fun)\n",
    "\n",
    "# Esta funcion cambia los valres de DAYS_BIRTH a formato datetime\n",
    "def Date_of_Birth(total_days):\n",
    "    today = datetime.date.today()\n",
    "    birthday = (today + timedelta(days=total_days)).strftime('%Y-%m-%d')\n",
    "    return birthday                  \n",
    "\n",
    "# Esta funcion toma los valores de DAYS_EMPLOYED y los convierte al formato datetime\n",
    "def Employed_day(total_days):\n",
    "    today = datetime.date.today()\n",
    "    employed_date = (today + datetime.timedelta(days=total_days)).strftime('%Y-%m-%d')\n",
    "\n",
    "data['DAYS_BIRTH']=data['DAYS_BIRTH'].apply(Date_of_Birth)\n",
    "data['DAYS_EMPLOYED']=data['DAYS_EMPLOYED'].apply(Date_of_Birth)\n",
    "\n",
    "#Esta funcion calcula la edad del postulante\n",
    "def AGE(date_of_birth):\n",
    "    today=datetime.date.today()\n",
    "    dateofbirth=datetime.datetime.strptime(date_of_birth,'%Y-%m-%d')\n",
    "    age=today.year-dateofbirth.year\n",
    "    return age\n",
    "\n",
    "data['DAYS_BIRTH']=data['DAYS_BIRTH'].apply(AGE)\n",
    "data['DAYS_EMPLOYED']=data['DAYS_EMPLOYED'].apply(AGE)\n",
    "\n",
    "# Se cambia el nombre de las columnas a uno mas relevante\n",
    "data = data.rename({'DAYS_BIRTH': 'AGE', 'DAYS_EMPLOYED': 'DAYS_WORKED'}, axis=1)\n",
    "\n",
    "# se cambian los valores de C y X para poder manipularlos\n",
    "data.loc[data['STATUS']=='C','STATUS']=6\n",
    "data.loc[data['STATUS']=='X','STATUS']=7\n",
    "data['STATUS']=data['STATUS'].astype(float)\n",
    "\n",
    "\n",
    "# Esta funcion define el estatus como RISKY si estan en los siguientes valores de 2,3,4,5 y el resto\n",
    "# los define como NOT RISKY\n",
    "def solve(state):\n",
    "    target=''\n",
    "    if state in (2,3,4,5):\n",
    "        target=1 #Risky\n",
    "    else :\n",
    "        target=0 #not Risky\n",
    "        \n",
    "    return target\n",
    "    \n",
    "# Se general la columna target\n",
    "data['TARGET']=data['STATUS'].apply(solve)\n",
    "\n",
    "# Se agregan las nuevas variables al dataset\n",
    "data = pd.concat([data,male,car,Property],axis=1)"
   ]
  },
  {
   "cell_type": "code",
   "execution_count": 184,
   "metadata": {},
   "outputs": [
    {
     "name": "stdout",
     "output_type": "stream",
     "text": [
      "<class 'pandas.core.frame.DataFrame'>\n",
      "Int64Index: 36457 entries, 0 to 777701\n",
      "Data columns (total 16 columns):\n",
      " #   Column               Non-Null Count  Dtype  \n",
      "---  ------               --------------  -----  \n",
      " 0   CNT_CHILDREN         36457 non-null  int64  \n",
      " 1   AMT_INCOME_TOTAL     36457 non-null  float64\n",
      " 2   NAME_INCOME_TYPE     36457 non-null  object \n",
      " 3   NAME_EDUCATION_TYPE  36457 non-null  object \n",
      " 4   NAME_FAMILY_STATUS   36457 non-null  object \n",
      " 5   NAME_HOUSING_TYPE    36457 non-null  object \n",
      " 6   AGE                  36457 non-null  int64  \n",
      " 7   DAYS_WORKED          36457 non-null  int64  \n",
      " 8   OCCUPATION_TYPE      36457 non-null  object \n",
      " 9   CNT_FAM_MEMBERS      36457 non-null  float64\n",
      " 10  MONTHS_BALANCE       36457 non-null  int64  \n",
      " 11  STATUS               36457 non-null  float64\n",
      " 12  TARGET               36457 non-null  int64  \n",
      " 13  IS_MALE              36457 non-null  uint8  \n",
      " 14  HAS_CAR              36457 non-null  uint8  \n",
      " 15  HAS_PROPERTY         36457 non-null  uint8  \n",
      "dtypes: float64(3), int64(5), object(5), uint8(3)\n",
      "memory usage: 4.0+ MB\n"
     ]
    }
   ],
   "source": [
    "data.info()"
   ]
  },
  {
   "cell_type": "code",
   "execution_count": 185,
   "metadata": {},
   "outputs": [
    {
     "name": "stdout",
     "output_type": "stream",
     "text": [
      "<class 'pandas.core.frame.DataFrame'>\n",
      "Int64Index: 36457 entries, 0 to 777701\n",
      "Data columns (total 16 columns):\n",
      " #   Column               Non-Null Count  Dtype  \n",
      "---  ------               --------------  -----  \n",
      " 0   CNT_CHILDREN         36457 non-null  int64  \n",
      " 1   AMT_INCOME_TOTAL     36457 non-null  float64\n",
      " 2   NAME_INCOME_TYPE     36457 non-null  int64  \n",
      " 3   NAME_EDUCATION_TYPE  36457 non-null  int64  \n",
      " 4   NAME_FAMILY_STATUS   36457 non-null  int64  \n",
      " 5   NAME_HOUSING_TYPE    36457 non-null  int64  \n",
      " 6   AGE                  36457 non-null  int64  \n",
      " 7   DAYS_WORKED          36457 non-null  int64  \n",
      " 8   OCCUPATION_TYPE      36457 non-null  int64  \n",
      " 9   CNT_FAM_MEMBERS      36457 non-null  float64\n",
      " 10  MONTHS_BALANCE       36457 non-null  int64  \n",
      " 11  STATUS               36457 non-null  float64\n",
      " 12  TARGET               36457 non-null  int64  \n",
      " 13  IS_MALE              36457 non-null  uint8  \n",
      " 14  HAS_CAR              36457 non-null  uint8  \n",
      " 15  HAS_PROPERTY         36457 non-null  uint8  \n",
      "dtypes: float64(3), int64(10), uint8(3)\n",
      "memory usage: 4.0 MB\n"
     ]
    }
   ],
   "source": [
    "# Creamos diccionarios para transformar las variables a numeros\n",
    "\n",
    "lst = {'Working': 1, 'Commercial associate': 2,\n",
    "       'Pensioner': 3, 'State servant': 4, 'Student': 5}\n",
    "lst1 = {'Secondary': 1, 'Higher education': 2, 'Incomplete higher': 3,\n",
    "        'Lower secondary': 4, 'Academic degree': 5}\n",
    "lst2 = {'Married': 1, 'Single': 2,\n",
    "        'Civil marriage': 3, 'Separated': 4, 'Widow': 5}\n",
    "lst3 = {'House / apartment': 1, 'With parents': 2, 'Municipal apartment': 3,\n",
    "        'Rented apartment': 4, 'Office apartment': 5, 'Co-op apartment': 6}\n",
    "lst4 = {'Laborers': 1,\n",
    "        'Core staff': 2,\n",
    "        'Sales staff': 3,\n",
    "        'Managers': 4,\n",
    "        'Drivers': 5,\n",
    "        'High skill tech staff': 6,\n",
    "        'Accountants': 7,\n",
    "        'Medicine staff': 8,\n",
    "        'Cooking staff': 9,\n",
    "        'Security staff': 10,\n",
    "        'Cleaning staff': 11,\n",
    "        'Private service staff': 12,\n",
    "        'Low-skill Laborers': 13,\n",
    "        'Secretaries': 14,\n",
    "        'Waiters/barmen staff': 15,\n",
    "        'HR staff': 16,\n",
    "        'IT staff': 17,\n",
    "        'Realty agents': 18,\n",
    "        'OTHER': 19}\n",
    "\n",
    "# Reemplazamos los valores en las columnas\n",
    "data.replace({'NAME_INCOME_TYPE': lst}, inplace=True)\n",
    "data.replace({'NAME_EDUCATION_TYPE': lst1}, inplace=True)\n",
    "data.replace({'NAME_FAMILY_STATUS': lst2}, inplace=True)\n",
    "data.replace({'NAME_HOUSING_TYPE': lst3}, inplace=True)\n",
    "data.replace({'OCCUPATION_TYPE': lst4}, inplace=True)\n",
    "data.info()\n"
   ]
  },
  {
   "cell_type": "markdown",
   "metadata": {},
   "source": [
    "Luego de la manipulacion del dataset todas las variables pasaron a ser numericas."
   ]
  },
  {
   "cell_type": "markdown",
   "metadata": {},
   "source": [
    "#### Escalamiento de los datos\n",
    "En la siguiente seccion se normalizaran los datos para poder usarlos en los modelos de prediccion.\n",
    "Normalización: se refiere a re-escalar las características en un rango\n",
    "[0,1], que es un caso especial de la re-escalamiento “min-max”. Para\n",
    "normalizar nuestros datos, simplemente necesitaremos aplicar el método\n",
    "de re-escalamiento “min-max” a cada columna de características. (Machine Learning Modelos predictivos Introducción, diapositiva 14)\n",
    "\n",
    "En los problemas de clasificacion binaria tenemos dos datasets, la primera contiene la data a analizar y la segunda es el target que se busca obtener al momento de generar la prediccion.\n",
    "\n",
    "\n",
    "#### Referencias\n",
    "Universidad Adolfo Ibañez. (s. f.). Machine Learning: Modelos predictivos [Diapositivas; PDF]. Machine Learning Modelos predictivos Introducción.\\\n",
    "[Introduccion a modelos predictivos](https://webc.uai.cl/pluginfile.php/778942/mod_folder/content/0/06%20Predictivo%20Intro-KNN.pdf?forcedownload=1)\\\n",
    "Binary Classification. (n.d.).\\\n",
    "[Clasificacion Binaria](https://www.learndatasci.com/glossary/binary-classification/)"
   ]
  },
  {
   "cell_type": "code",
   "execution_count": 186,
   "metadata": {},
   "outputs": [
    {
     "data": {
      "text/html": [
       "<div>\n",
       "<style scoped>\n",
       "    .dataframe tbody tr th:only-of-type {\n",
       "        vertical-align: middle;\n",
       "    }\n",
       "\n",
       "    .dataframe tbody tr th {\n",
       "        vertical-align: top;\n",
       "    }\n",
       "\n",
       "    .dataframe thead th {\n",
       "        text-align: right;\n",
       "    }\n",
       "</style>\n",
       "<table border=\"1\" class=\"dataframe\">\n",
       "  <thead>\n",
       "    <tr style=\"text-align: right;\">\n",
       "      <th></th>\n",
       "      <th>TARGET</th>\n",
       "      <th>CNT_CHILDREN</th>\n",
       "      <th>AMT_INCOME_TOTAL</th>\n",
       "      <th>NAME_INCOME_TYPE</th>\n",
       "      <th>NAME_EDUCATION_TYPE</th>\n",
       "      <th>NAME_FAMILY_STATUS</th>\n",
       "      <th>NAME_HOUSING_TYPE</th>\n",
       "      <th>AGE</th>\n",
       "      <th>DAYS_WORKED</th>\n",
       "      <th>OCCUPATION_TYPE</th>\n",
       "      <th>CNT_FAM_MEMBERS</th>\n",
       "      <th>MONTHS_BALANCE</th>\n",
       "      <th>STATUS</th>\n",
       "      <th>IS_MALE</th>\n",
       "      <th>HAS_CAR</th>\n",
       "      <th>HAS_PROPERTY</th>\n",
       "    </tr>\n",
       "  </thead>\n",
       "  <tbody>\n",
       "    <tr>\n",
       "      <th>0</th>\n",
       "      <td>0</td>\n",
       "      <td>0.0</td>\n",
       "      <td>0.258721</td>\n",
       "      <td>0.00</td>\n",
       "      <td>0.25</td>\n",
       "      <td>0.50</td>\n",
       "      <td>0.6</td>\n",
       "      <td>0.250000</td>\n",
       "      <td>0.970278</td>\n",
       "      <td>1.000000</td>\n",
       "      <td>0.052632</td>\n",
       "      <td>1.000000</td>\n",
       "      <td>0.857143</td>\n",
       "      <td>1.0</td>\n",
       "      <td>1.0</td>\n",
       "      <td>1.0</td>\n",
       "    </tr>\n",
       "    <tr>\n",
       "      <th>1</th>\n",
       "      <td>0</td>\n",
       "      <td>0.0</td>\n",
       "      <td>0.258721</td>\n",
       "      <td>0.00</td>\n",
       "      <td>0.25</td>\n",
       "      <td>0.50</td>\n",
       "      <td>0.6</td>\n",
       "      <td>0.250000</td>\n",
       "      <td>0.970278</td>\n",
       "      <td>1.000000</td>\n",
       "      <td>0.052632</td>\n",
       "      <td>1.000000</td>\n",
       "      <td>0.857143</td>\n",
       "      <td>1.0</td>\n",
       "      <td>1.0</td>\n",
       "      <td>1.0</td>\n",
       "    </tr>\n",
       "    <tr>\n",
       "      <th>2</th>\n",
       "      <td>0</td>\n",
       "      <td>0.0</td>\n",
       "      <td>0.055233</td>\n",
       "      <td>0.00</td>\n",
       "      <td>0.00</td>\n",
       "      <td>0.00</td>\n",
       "      <td>0.0</td>\n",
       "      <td>0.791667</td>\n",
       "      <td>0.961649</td>\n",
       "      <td>0.500000</td>\n",
       "      <td>0.052632</td>\n",
       "      <td>1.000000</td>\n",
       "      <td>0.857143</td>\n",
       "      <td>1.0</td>\n",
       "      <td>1.0</td>\n",
       "      <td>1.0</td>\n",
       "    </tr>\n",
       "    <tr>\n",
       "      <th>3</th>\n",
       "      <td>0</td>\n",
       "      <td>0.0</td>\n",
       "      <td>0.156977</td>\n",
       "      <td>0.25</td>\n",
       "      <td>0.00</td>\n",
       "      <td>0.25</td>\n",
       "      <td>0.0</td>\n",
       "      <td>0.666667</td>\n",
       "      <td>0.966443</td>\n",
       "      <td>0.111111</td>\n",
       "      <td>0.000000</td>\n",
       "      <td>1.000000</td>\n",
       "      <td>0.000000</td>\n",
       "      <td>0.0</td>\n",
       "      <td>0.0</td>\n",
       "      <td>1.0</td>\n",
       "    </tr>\n",
       "    <tr>\n",
       "      <th>4</th>\n",
       "      <td>0</td>\n",
       "      <td>0.0</td>\n",
       "      <td>0.156977</td>\n",
       "      <td>0.25</td>\n",
       "      <td>0.00</td>\n",
       "      <td>0.25</td>\n",
       "      <td>0.0</td>\n",
       "      <td>0.666667</td>\n",
       "      <td>0.966443</td>\n",
       "      <td>0.111111</td>\n",
       "      <td>0.000000</td>\n",
       "      <td>0.633333</td>\n",
       "      <td>1.000000</td>\n",
       "      <td>0.0</td>\n",
       "      <td>0.0</td>\n",
       "      <td>1.0</td>\n",
       "    </tr>\n",
       "  </tbody>\n",
       "</table>\n",
       "</div>"
      ],
      "text/plain": [
       "   TARGET  CNT_CHILDREN  AMT_INCOME_TOTAL  NAME_INCOME_TYPE  \\\n",
       "0       0           0.0          0.258721              0.00   \n",
       "1       0           0.0          0.258721              0.00   \n",
       "2       0           0.0          0.055233              0.00   \n",
       "3       0           0.0          0.156977              0.25   \n",
       "4       0           0.0          0.156977              0.25   \n",
       "\n",
       "   NAME_EDUCATION_TYPE  NAME_FAMILY_STATUS  NAME_HOUSING_TYPE       AGE  \\\n",
       "0                 0.25                0.50                0.6  0.250000   \n",
       "1                 0.25                0.50                0.6  0.250000   \n",
       "2                 0.00                0.00                0.0  0.791667   \n",
       "3                 0.00                0.25                0.0  0.666667   \n",
       "4                 0.00                0.25                0.0  0.666667   \n",
       "\n",
       "   DAYS_WORKED  OCCUPATION_TYPE  CNT_FAM_MEMBERS  MONTHS_BALANCE    STATUS  \\\n",
       "0     0.970278         1.000000         0.052632        1.000000  0.857143   \n",
       "1     0.970278         1.000000         0.052632        1.000000  0.857143   \n",
       "2     0.961649         0.500000         0.052632        1.000000  0.857143   \n",
       "3     0.966443         0.111111         0.000000        1.000000  0.000000   \n",
       "4     0.966443         0.111111         0.000000        0.633333  1.000000   \n",
       "\n",
       "   IS_MALE  HAS_CAR  HAS_PROPERTY  \n",
       "0      1.0      1.0           1.0  \n",
       "1      1.0      1.0           1.0  \n",
       "2      1.0      1.0           1.0  \n",
       "3      0.0      0.0           1.0  \n",
       "4      0.0      0.0           1.0  "
      ]
     },
     "execution_count": 186,
     "metadata": {},
     "output_type": "execute_result"
    }
   ],
   "source": [
    "# Se utiliza MinMaxScaler para normalizar los datos.\n",
    "from sklearn.preprocessing import MinMaxScaler\n",
    "\n",
    "# x sera nuestra data\n",
    "x=data.drop('TARGET',axis=1)\n",
    "# y sera nuestro target data\n",
    "y=data['TARGET']\n",
    "\n",
    "scaler=MinMaxScaler()\n",
    "scaler.fit_transform(x)\n",
    "\n",
    "# Vizualizacion de los datos escalados\n",
    "feature_scale = [feature for feature in data.columns if feature!='TARGET']\n",
    "data = pd.concat([data['TARGET'].reset_index(drop=True),\n",
    "                    pd.DataFrame(scaler.transform(x), columns=feature_scale)],\n",
    "                    axis=1)\n",
    "\n",
    "data.head()"
   ]
  },
  {
   "cell_type": "code",
   "execution_count": 187,
   "metadata": {},
   "outputs": [
    {
     "data": {
      "text/plain": [
       "0    36351\n",
       "1      106\n",
       "Name: TARGET, dtype: int64"
      ]
     },
     "execution_count": 187,
     "metadata": {},
     "output_type": "execute_result"
    }
   ],
   "source": [
    "# Revisamos el ratio de valores en el dataset en base al TARGET\n",
    "data.TARGET.value_counts()"
   ]
  },
  {
   "cell_type": "markdown",
   "metadata": {},
   "source": [
    "#### Oversampling de una base de dato desbalanceada\n",
    "\n",
    "Al observar los valores de el target, se pueden apreciar que existen 36351 valores en 0 (NOT RISKY) y 106 valores en 1(RISKY) por lo que el dataset esta desbalanceado en favor a NOT RISKY, por lo que se utilizara un algoritmo llamado synthetic minority over-sampling technique (SMOTE) que genera un oversampling de valores al azar de la clase que es minoria, en este caso genera mas valores RISKY para balancear el dataset.\n",
    "\n",
    "\n",
    "#### Referencia\n",
    "Imbalanced Classification in Python: SMOTE-Tomek Links Method (November 2022)\n",
    "[SMOTE](https://towardsdatascience.com/imbalanced-classification-in-python-smote-tomek-links-method-6e48dfe69bbc)"
   ]
  },
  {
   "cell_type": "code",
   "execution_count": 188,
   "metadata": {},
   "outputs": [],
   "source": [
    "from imblearn.combine import SMOTETomek\n",
    "smk=SMOTETomek(random_state=1)\n",
    "# Hacemos el oversampling de los datos\n",
    "x_res,y_res=smk.fit_resample(x,y)"
   ]
  },
  {
   "cell_type": "code",
   "execution_count": 189,
   "metadata": {},
   "outputs": [
    {
     "name": "stdout",
     "output_type": "stream",
     "text": [
      "original dataset shape Counter({0: 36351, 1: 106})\n",
      "Resampled dataset shape Counter({0: 36327, 1: 36327})\n"
     ]
    }
   ],
   "source": [
    "from collections import Counter\n",
    "# Comparamos la base de datos antigua con la base de datos con valores creados por SMOTE\n",
    "print('original dataset shape {}'.format(Counter(y)))\n",
    "print('Resampled dataset shape {}'.format(Counter(y_res)))"
   ]
  },
  {
   "cell_type": "markdown",
   "metadata": {},
   "source": [
    "Como se puede apreciar, ya no esta desbalanceada la base de datos."
   ]
  },
  {
   "cell_type": "markdown",
   "metadata": {},
   "source": [
    "#### Aplicacion de modelos predictivos\n",
    "\n",
    "En la siguiente seccion se aplicaran los modelos de regresion logistica, arboles de decision y naive bayes.\n",
    "Se observara el accuracy, precision, recall y f1 score para determinar el mejor modelo para esta base de datos.\\\n",
    "Tambien se observara la matriz de confusion para poder interpretar visualmente los datos"
   ]
  },
  {
   "cell_type": "code",
   "execution_count": 190,
   "metadata": {},
   "outputs": [
    {
     "name": "stdout",
     "output_type": "stream",
     "text": [
      "El modelo es:  <class 'sklearn.linear_model._logistic.LogisticRegression'>\n",
      "              precision    recall  f1-score   support\n",
      "\n",
      "           0       0.64      0.37      0.47      7401\n",
      "           1       0.54      0.78      0.64      7130\n",
      "\n",
      "    accuracy                           0.57     14531\n",
      "   macro avg       0.59      0.58      0.56     14531\n",
      "weighted avg       0.59      0.57      0.55     14531\n",
      "\n",
      "El modelo es:  <class 'sklearn.tree._classes.DecisionTreeClassifier'>\n",
      "              precision    recall  f1-score   support\n",
      "\n",
      "           0       1.00      0.77      0.87      7401\n",
      "           1       0.81      1.00      0.89      7130\n",
      "\n",
      "    accuracy                           0.88     14531\n",
      "   macro avg       0.90      0.88      0.88     14531\n",
      "weighted avg       0.91      0.88      0.88     14531\n",
      "\n",
      "El modelo es:  <class 'sklearn.naive_bayes.GaussianNB'>\n",
      "              precision    recall  f1-score   support\n",
      "\n",
      "           0       0.67      0.32      0.44      7401\n",
      "           1       0.54      0.84      0.66      7130\n",
      "\n",
      "    accuracy                           0.58     14531\n",
      "   macro avg       0.61      0.58      0.55     14531\n",
      "weighted avg       0.61      0.58      0.55     14531\n",
      "\n",
      "El porcentaje de 'accuracy' para los tres modelos es:  [0.571949624939784, 0.8825958296056706, 0.5761475466244581]\n"
     ]
    },
    {
     "data": {
      "image/png": "[encoded data removed]",
      "text/plain": [
       "<Figure size 432x288 with 2 Axes>"
      ]
     },
     "metadata": {
      "needs_background": "light"
     },
     "output_type": "display_data"
    },
    {
     "data": {
      "image/png": "[encoded data removed]",
      "text/plain": [
       "<Figure size 432x288 with 2 Axes>"
      ]
     },
     "metadata": {
      "needs_background": "light"
     },
     "output_type": "display_data"
    },
    {
     "data": {
      "image/png": "[encoded data removed]",
      "text/plain": [
       "<Figure size 432x288 with 2 Axes>"
      ]
     },
     "metadata": {
      "needs_background": "light"
     },
     "output_type": "display_data"
    }
   ],
   "source": [
    "from sklearn.linear_model import LogisticRegression\n",
    "from sklearn.tree import DecisionTreeClassifier\n",
    "from sklearn.naive_bayes import GaussianNB\n",
    "from sklearn.metrics import ConfusionMatrixDisplay,accuracy_score, classification_report\n",
    "from sklearn.model_selection import train_test_split\n",
    "\n",
    "# Se general los train y test splits\n",
    "x_train,x_test,y_train,y_test=train_test_split(x_res,y_res,test_size=0.2,random_state=1)\n",
    "x_train.shape,y_train.shape\n",
    "# lista de modelos a utilizar\n",
    "model_list=[LogisticRegression,DecisionTreeClassifier,GaussianNB]\n",
    "\n",
    "accuracy =[]\n",
    "for model in model_list :\n",
    "    print(\"El modelo es: \",model)\n",
    "    if model == LogisticRegression:\n",
    "        model = model(random_state=1)\n",
    "    elif model == DecisionTreeClassifier:\n",
    "        model = model(max_depth= 1,random_state=1)\n",
    "    else:\n",
    "        model = model()\n",
    "    # Se aplica el modelo\n",
    "    model.fit(x_train,y_train)\n",
    "    y_pred = model.predict(x_test)\n",
    "    # Se plotea la matriz de confusion\n",
    "    ConfusionMatrixDisplay.from_predictions(y_test,y_pred)\n",
    "    # Se imprime el reporte de clasificacion\n",
    "    print(classification_report(y_test, y_pred))\n",
    "    accuracy.append(accuracy_score(y_test,y_pred))\n",
    "print(\"El porcentaje de 'accuracy' para los tres modelos es: \",accuracy)"
   ]
  },
  {
   "cell_type": "code",
   "execution_count": null,
   "metadata": {},
   "outputs": [],
   "source": []
  },
  {
   "cell_type": "markdown",
   "metadata": {},
   "source": [
    "Como se observa en las matrices de confusion, el mejor modelo es el modelo de arboles de decision, es mas es perfecto, por lo que se puede inferir que dentro de este modelo ocurrio overfitting, lo que llevo al resultado mostrado. \\\n",
    "Por esto no se contara como un resultado real, ya que se encuentra sobre entrenado el modelo, en vez observaremos al modelo de regresion logistica y naive bayes, los cuales posseen un accuracy del 56% y 57%, los cuales no son lo suficientemente altos para definir un modelo de prediccion adecuado para este dataset.\\\n",
    "En el modelo de regresion logistica se puede observar que erroneamente obtuvo 4582 falsos positivos y 1790 falsos negativos.\n",
    "En el modelo de naive bayes se puede observar que erroneamente obtuvo 4942 falsos positivos y 1166 falsos negativos."
   ]
  }
 ],
 "metadata": {
  "kernelspec": {
   "display_name": "Python 3.9.7 ('base')",
   "language": "python",
   "name": "python3"
  },
  "language_info": {
   "codemirror_mode": {
    "name": "ipython",
    "version": 3
   },
   "file_extension": ".py",
   "mimetype": "text/x-python",
   "name": "python",
   "nbconvert_exporter": "python",
   "pygments_lexer": "ipython3",
   "version": "3.9.7"
  },
  "orig_nbformat": 4,
  "vscode": {
   "interpreter": {
    "hash": "d738dc81e616a69fee448fae558823803445c88ba1c261e3b2c1ba783fd18d47"
   }
  }
 },
 "nbformat": 4,
 "nbformat_minor": 2
}
